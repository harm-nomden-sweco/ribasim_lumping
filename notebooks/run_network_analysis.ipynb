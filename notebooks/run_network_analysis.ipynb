{
 "cells": [
  {
   "cell_type": "code",
   "execution_count": null,
   "metadata": {},
   "outputs": [],
   "source": [
    "import sys\n",
    "from pathlib import Path\n",
    "\n",
    "sys.path.append(\"..\")\n",
    "from ribasim_lumping import RibasimLumpingNetwork\n",
    "\n",
    "import pandas as pd\n",
    "import numpy as np\n",
    "import geopandas as gpd\n",
    "from pydantic import BaseModel\n",
    "import xarray as xr\n",
    "import dfm_tools as dfmt\n",
    "import xugrid as xu\n",
    "import matplotlib.pyplot as plt\n",
    "\n",
    "from numba.core.errors import NumbaDeprecationWarning, NumbaPendingDeprecationWarning\n",
    "import warnings\n",
    "\n",
    "warnings.simplefilter(\"ignore\", category=NumbaDeprecationWarning)\n",
    "\n",
    "import momepy\n",
    "import networkx as nx"
   ]
  },
  {
   "cell_type": "code",
   "execution_count": null,
   "metadata": {},
   "outputs": [],
   "source": [
    "%load_ext autoreload\n",
    "%autoreload 2"
   ]
  },
  {
   "attachments": {},
   "cell_type": "markdown",
   "metadata": {},
   "source": [
    "##### STEP 1 - READ NETWORK AND SIMULATION DATA\n",
    "Read network and simulation data from D-Hydro simulations using his.nc and map.nc:\n",
    "- for sets WINTER and SUMMER and ...\n",
    "- for list of SIMULATIONS per set (in this case 1 simulation per set)\n",
    "- at list of TIMESTEPS per simulation (in this case multiple timesteps per simulation)\n",
    "\n",
    "and read network"
   ]
  },
  {
   "cell_type": "code",
   "execution_count": null,
   "metadata": {},
   "outputs": [],
   "source": [
    "base_dir = Path(\"..\\\\..\\\\ribasim_lumping_data\\\\\")\n",
    "results_dir = Path(base_dir, \"results\")"
   ]
  },
  {
   "cell_type": "code",
   "execution_count": null,
   "metadata": {},
   "outputs": [],
   "source": [
    "network_name = \"zutphen_tki_netwerk\"\n",
    "\n",
    "areas_file_path = Path(base_dir, \"afw_eenheden\\\\wrij_afwateringseenheden_clip_Zutphen.shp\")\n",
    "areas_gdf = gpd.read_file(areas_file_path)"
   ]
  },
  {
   "cell_type": "code",
   "execution_count": null,
   "metadata": {},
   "outputs": [],
   "source": [
    "network = RibasimLumpingNetwork(name=network_name, areas_gdf=areas_gdf)"
   ]
  },
  {
   "cell_type": "code",
   "execution_count": null,
   "metadata": {},
   "outputs": [],
   "source": [
    "network.add_data_from_simulations_set(\n",
    "    set_name=\"winter\",\n",
    "    simulations_dir=Path(base_dir, \"d-hydro\\\\\"),\n",
    "    simulations_names=[\"tki_zuthpen_berkel_basis.dsproj\"],\n",
    "    simulations_ts=pd.date_range(\"2000-01-02 23:00\", periods=9, freq=\"2D\"),\n",
    ")\n",
    "network.add_data_from_simulations_set(\n",
    "    set_name=\"zomer\",\n",
    "    simulations_dir=Path(base_dir, \"d-hydro\\\\\"),\n",
    "    simulations_names=[\"tki_zuthpen_berkel_basis.dsproj\"],\n",
    "    simulations_ts=pd.date_range(\"2000-01-02 23:00\", periods=9, freq=\"2D\"),\n",
    ");"
   ]
  },
  {
   "cell_type": "code",
   "execution_count": null,
   "metadata": {},
   "outputs": [],
   "source": [
    "network.get_network_data()"
   ]
  },
  {
   "attachments": {},
   "cell_type": "markdown",
   "metadata": {},
   "source": [
    "##### STEP 2: SPLIT NETWORK IN RIBASIM BASINS\n",
    "2. Split network in ribasim basins  \n",
    "    1. Specify model cut locations (id nodes or xy coordinates)  \n",
    "    2. Dividing the network based on the clipping locations (function to be built in xugrid?)  \n",
    "        1. Convert to networkx graph\n",
    "        2. Split network\n",
    "        3. TODO: What to do if you want to distinguish areas that drain into a main watercourse as a basin with the end of the inflow point? Have choices made between:</dd>\n",
    "            - simple: also cut the main waterway at this junction or\n",
    "            - difficult: continue to see the parts upstream and downstream of the inflow point together as one basin\n",
    "    3. Based on the split network, associated drain areas are determined by means of spatial join.\n",
    "    4. Use representative locations of areas as node location."
   ]
  },
  {
   "cell_type": "code",
   "execution_count": null,
   "metadata": {},
   "outputs": [],
   "source": [
    "network.add_split_nodes(\n",
    "    weirs=True,\n",
    "    pumps=True,\n",
    "    bifurcations=False,\n",
    "    confluences=False,\n",
    "    split_node_ids_to_include=[1444, 1448, 1377, 2378, 419, 1183],\n",
    "    split_node_ids_to_exclude=[314]\n",
    ");"
   ]
  },
  {
   "cell_type": "code",
   "execution_count": null,
   "metadata": {},
   "outputs": [],
   "source": [
    "# create basins (gdf) based on nodes, edges, split_node and areas\n",
    "network.create_basins_based_on_split_nodes();\n",
    "# export it to geopackage\n",
    "network.export_to_geopackage(output_dir=results_dir);"
   ]
  },
  {
   "cell_type": "code",
   "execution_count": null,
   "metadata": {},
   "outputs": [],
   "source": [
    "# adaptations to network\n",
    "#  - TODO: define which basins to combine"
   ]
  },
  {
   "attachments": {},
   "cell_type": "markdown",
   "metadata": {},
   "source": [
    "##### STEP 3: CREATE SETTINGS RIBASIM BASINS\n",
    "3. Create settings ribasim basins\n",
    "    1. Determine volume-water level relations for the Basins. Relationship between total volume and water levels within basin and water level representative outflow point:\n",
    "        1. Include all disposal in area: storage in calculation nodes and possible disposal nodes.\n",
    "        2. Also include storage in tertiary system? Modflow or possibly RR?\n",
    "        3. Practical point we ran into: What to do with the storage in the locations where you are just making the cut? Distribute evenly over the connected basins?\n",
    "    2. Lump and add lateral inflow/outflow within areas including precipitation/evaporation.\n",
    "        1. MODFLOW/MetaSWAP: Lump fluxes over area.\n",
    "        2. D-Hydro: Lump inflow of laterals.\n"
   ]
  },
  {
   "cell_type": "code",
   "execution_count": null,
   "metadata": {},
   "outputs": [],
   "source": [
    "# TODO: CHECK WITH HKV WHAT THEY ARE DOING AND MAYBE IMPORT THEIR FUNCTIONS"
   ]
  },
  {
   "attachments": {},
   "cell_type": "markdown",
   "metadata": {},
   "source": [
    "##### STEP 4: BOUNDARIES AND BOUNDARY CONDITIONS FOR INFLOW/OUTFLOW POINTS\n",
    "4. Boundaries and boundary conditions of inflow/outflow points of the system/network\n",
    "     1. Automatically identify network edges based on network and areas.\n",
    "     2. Selecting borders and border type"
   ]
  },
  {
   "cell_type": "code",
   "execution_count": null,
   "metadata": {},
   "outputs": [],
   "source": []
  },
  {
   "attachments": {},
   "cell_type": "markdown",
   "metadata": {},
   "source": [
    "##### STEP 5: CONNECTIONS BETWEEN RIBASIM - BASINS:\n",
    "5. Connections Between Ribasim-Basins:\n",
    "    1. Automatically generate connections between Basins. Determine per simulation set the flow and flow direction (winter/summer/supply):\n",
    "        1. Specify preferred exchange type (maybe per split location or basin)\n",
    "        2. Determine presence and direction based on flow direction.\n",
    "        3. Place connector nodes near the cut locations (but not all on top of each other).\n",
    "    2. Definition of exchange relations based on preference and manual choice model"
   ]
  },
  {
   "cell_type": "code",
   "execution_count": null,
   "metadata": {},
   "outputs": [],
   "source": []
  },
  {
   "attachments": {},
   "cell_type": "markdown",
   "metadata": {},
   "source": [
    "##### STEP 6: GENERATE SETTINGS FOR EACH CONNECTION:\n",
    "6. Generate settings for the exchanges:\n",
    "    1. TabulatedRatingCurve: QH/QV relationships\n",
    "    2. Manning: Manning and distance\n",
    "    3. FractionalFlows for splits with distributions\n",
    "    4. PID controller: Translate control from D-Hydro-RTC"
   ]
  },
  {
   "cell_type": "code",
   "execution_count": null,
   "metadata": {},
   "outputs": [],
   "source": [
    "# TODO: CHECK WITH HKV WHAT THEY ARE DOING AND MAYBE IMPORT THEIR FUNCTIONS"
   ]
  },
  {
   "attachments": {},
   "cell_type": "markdown",
   "metadata": {},
   "source": [
    "##### STEP 7: ADD ALL TIME-DEPENDENT INPUT\n",
    "7. Add all time-dependent inputs:\n",
    "    1. Hydraulic boundary conditions.\n",
    "    2. Precipitation on and evaporation from open water\n",
    "    3. Lateral inflow/outflow to groundwater or tertiary system\n",
    "    4. Surface water abstractions"
   ]
  },
  {
   "cell_type": "code",
   "execution_count": null,
   "metadata": {},
   "outputs": [],
   "source": [
    "# TODO: CHECK WITH HKV WHAT THEY ARE DOING AND MAYBE IMPORT THEIR FUNCTIONS"
   ]
  },
  {
   "cell_type": "code",
   "execution_count": null,
   "metadata": {},
   "outputs": [],
   "source": []
  },
  {
   "cell_type": "code",
   "execution_count": null,
   "metadata": {},
   "outputs": [],
   "source": []
  },
  {
   "cell_type": "code",
   "execution_count": null,
   "metadata": {},
   "outputs": [],
   "source": []
  }
 ],
 "metadata": {
  "kernelspec": {
   "display_name": "ribasim",
   "language": "python",
   "name": "python3"
  },
  "language_info": {
   "codemirror_mode": {
    "name": "ipython",
    "version": 3
   },
   "file_extension": ".py",
   "mimetype": "text/x-python",
   "name": "python",
   "nbconvert_exporter": "python",
   "pygments_lexer": "ipython3",
   "version": "3.10.0"
  },
  "orig_nbformat": 4
 },
 "nbformat": 4,
 "nbformat_minor": 2
}
