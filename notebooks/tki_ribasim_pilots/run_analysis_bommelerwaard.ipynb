{
    "cells": [
        {
            "cell_type": "code",
            "execution_count": null,
            "metadata": {},
            "outputs": [],
            "source": [
                "import sys\n",
                "from pathlib import Path\n",
                "import matplotlib.pyplot as plt\n",
                "import matplotlib\n",
                "\n",
                "# add directory with ribasim-repository\n",
                "# sys.path.append(\"..\\\\..\\\\..\\\\ribasim\\\\python\\\\ribasim\")\n",
                "import ribasim\n",
                "\n",
                "# add directory with ribasim_lumping-repository\n",
                "# sys.path.append(\"..\\\\..\")\n",
                "import ribasim_lumping\n",
                "\n",
                "import pandas as pd\n",
                "import geopandas as gpd\n",
                "import numpy as np\n",
                "import pyarrow as pa\n",
                "\n",
                "import warnings\n",
                "\n",
                "warnings.simplefilter(\"ignore\")\n",
                "pd.options.mode.chained_assignment = None"
            ]
        },
        {
            "cell_type": "code",
            "execution_count": null,
            "metadata": {},
            "outputs": [],
            "source": [
                "%load_ext autoreload\n",
                "%autoreload 2"
            ]
        },
        {
            "cell_type": "code",
            "execution_count": null,
            "metadata": {},
            "outputs": [],
            "source": [
                "# define network name, base dir\n",
                "network_name = \"tki_bommelerwaard\"\n",
                "base_dir = Path(\"..\\\\..\\\\..\\\\ribasim_lumping_data\\\\\")\n",
                "\n",
                "# directory D-HYDRO basis calculations\n",
                "dhydro_basis_dir = Path(base_dir, network_name, \"2_dhydro\\\\basis\\\\\")\n",
                "\n",
                "# directory D-HYDRO results calculations\n",
                "dhydro_results_dir = Path(base_dir, network_name, \"2_dhydro\\\\results\\\\\")\n",
                "\n",
                "# directory results\n",
                "results_dir = Path(base_dir, network_name, \"3_ribasim\\\\\")\n",
                "\n",
                "# batch file used to calculate volume D-Hydro module per GridPoint\n",
                "dhydro_volume_tool_bat_file = Path(r\"c:\\Program Files\\Deltares\\D-HYDRO Suite 2023.03 1D2D\\plugins\\DeltaShell.Dimr\\kernels\\x64\\dflowfm\\scripts\\run_dfm_volume_tool.bat\")\n",
                "dhydro_volume_tool_increment = 0.1\n",
                "\n",
                "# link to ribasim_executable\n",
                "path_ribasim_executable = \"..\\\\..\\\\..\\\\ribasim_cli_windows\\\\bin\\\\ribasim.exe\""
            ]
        },
        {
            "cell_type": "code",
            "execution_count": null,
            "metadata": {},
            "outputs": [],
            "source": [
                "# Create networkanalysis\n",
                "network = ribasim_lumping.create_ribasim_lumping_network(\n",
                "    base_dir=base_dir,\n",
                "    name=network_name,\n",
                "    dhydro_basis_dir=dhydro_basis_dir,\n",
                "    dhydro_results_dir=dhydro_results_dir,\n",
                "    results_dir=results_dir,\n",
                "    path_ribasim_executable=path_ribasim_executable,\n",
                "    crs=28992\n",
                ")"
            ]
        },
        {
            "cell_type": "markdown",
            "metadata": {},
            "source": [
                "##### Add areas"
            ]
        },
        {
            "cell_type": "code",
            "execution_count": null,
            "metadata": {},
            "outputs": [],
            "source": [
                "# Load areas (discharge units: afwaterende eenheden)\n",
                "areas_dir               = Path(base_dir, network_name, \"1_data\", \"areas\")\n",
                "areas_file_name         = f\"praktijkpeilen_bommelerwaard.shp\"\n",
                "areas_id_column         = \"code\"\n",
                "other_columns           = [\"zomerpeil\", \"winterpeil\"]\n",
                "network.read_areas(\n",
                "    areas_file_path=Path(areas_dir, areas_file_name), \n",
                "    areas_id_column=areas_id_column,\n",
                "    other_columns=other_columns\n",
                ")\n",
                "network.plot();"
            ]
        },
        {
            "cell_type": "code",
            "execution_count": null,
            "metadata": {},
            "outputs": [],
            "source": [
                "# Read network data and extract all objects (weirs/pumps/laterals/confluences/bifurcations)\n",
                "network.add_basis_network(\n",
                "    source_type=\"dhydro\",\n",
                "    set_name=\"winter\",\n",
                "    model_dir=Path(dhydro_basis_dir, \"winter\"),\n",
                "    simulation_name=\"tki_vanDamvanBrakel\",\n",
                "    dhydro_volume_tool_bat_file=dhydro_volume_tool_bat_file, \n",
                "    dhydro_volume_tool_force=False,\n",
                "    dhydro_volume_tool_increment=dhydro_volume_tool_increment\n",
                ");\n",
                "network.add_basis_network(\n",
                "    source_type=\"dhydro\",\n",
                "    set_name=\"zomer\",\n",
                "    model_dir=Path(dhydro_basis_dir, \"winter\"),\n",
                "    simulation_name=\"tki_vanDamvanBrakel\",\n",
                "    dhydro_volume_tool_bat_file=dhydro_volume_tool_bat_file, \n",
                "    dhydro_volume_tool_force=False,\n",
                "    dhydro_volume_tool_increment=dhydro_volume_tool_increment\n",
                ");\n",
                "network.plot();"
            ]
        },
        {
            "cell_type": "code",
            "execution_count": null,
            "metadata": {},
            "outputs": [],
            "source": [
                "# Export settings pumps to file and/or update settings (capacity and startlevels/stoplevels pumps)\n",
                "structure_specs_dir_path = Path(base_dir, network_name, \"1_data\", \"control\")\n",
                "network.export_or_update_all_ribasim_structures_specs(\n",
                "    structure_specs_dir_path=structure_specs_dir_path\n",
                ");"
            ]
        },
        {
            "cell_type": "code",
            "execution_count": null,
            "metadata": {},
            "outputs": [],
            "source": [
                "network.weirs_gdf.head(2)"
            ]
        },
        {
            "cell_type": "code",
            "execution_count": null,
            "metadata": {},
            "outputs": [],
            "source": [
                "# # Add simulation sets for winter, summer, etc.\n",
                "# network.add_simulation_data_from_set(\n",
                "#     set_name=\"winter\",\n",
                "#     simulations_dir=dhydro_dir,\n",
                "#     simulations_names=[\"tki_bommelerwaard\"],\n",
                "#     simulation_output_dir=\"fm\\\\output\",\n",
                "#     simulations_ts=[-1],\n",
                "# );"
            ]
        },
        {
            "cell_type": "markdown",
            "metadata": {},
            "source": [
                "#### OPZETTEN SIMULATIE"
            ]
        },
        {
            "cell_type": "code",
            "execution_count": null,
            "metadata": {},
            "outputs": [],
            "source": [
                "simulation_code = \"tki_vanDamvanBrakel\""
            ]
        },
        {
            "cell_type": "markdown",
            "metadata": {},
            "source": [
                "instellingen (eventueel tijdsafhankelijk)"
            ]
        },
        {
            "cell_type": "code",
            "execution_count": null,
            "metadata": {},
            "outputs": [],
            "source": [
                "# Definition settings changes over time\n",
                "settings_time_variation = False\n",
                "# in case of no variation over time. set set_name (\"winter\", \"zomer\", ...)\n",
                "settings_set_name = 'winter'"
            ]
        },
        {
            "cell_type": "markdown",
            "metadata": {},
            "source": [
                "definitie laterale instroom"
            ]
        },
        {
            "cell_type": "code",
            "execution_count": null,
            "metadata": {},
            "outputs": [],
            "source": [
                "# Defition Lateral inflow\n",
                "# method_laterals = 1: laterals basis network\n",
                "# method_laterals = 2: laterals per discharge area > required: run function read_areas_laterals_timeseries(path_to_excel)\n",
                "# method_laterals = 3: homogeneous discharge > required: define laterals_drainage_per_ha (pandas series)\n",
                "network.method_laterals = 3\n",
                "\n",
                "# definition timeseries with start-time, (number of) timesteps and the data (liters per second per hectare)\n",
                "network.laterals_drainage_per_ha = pd.Series(\n",
                "    index=pd.date_range(\"2020-01-01\", periods=20, freq=\"D\"), \n",
                "    data=[\n",
                "        1.0, 1.0, 1.0, 1.0, 1.0, 1.0, 1.0, 1.0, 1.0, 1.0,\n",
                "        0.0, 0.0, 0.0, 0.0, 0.0, 0.0, 0.0, 0.0, 0.0, 0.0,\n",
                "    ]\n",
                ")\n",
                "network.laterals_drainage_per_ha.plot()"
            ]
        },
        {
            "cell_type": "markdown",
            "metadata": {},
            "source": [
                "definitie randvoorwaarden"
            ]
        },
        {
            "cell_type": "code",
            "execution_count": null,
            "metadata": {},
            "outputs": [],
            "source": [
                "# test boundary data\n",
                "# method_boundaries = 1: use boundaries basis network, \n",
                "# method_boundaries = 2: use timeseries from imported csv, \n",
                "# method_boundaries = 3: use fixed boundaries\n",
                "network.method_boundaries = 2\n",
                "\n",
                "boundaries_timeseries_path = Path(base_dir, network_name, \"1_data\", \"boundaries\", \"boundary_timeseries.csv\")\n",
                "network.read_boundaries_timeseries_data(boundaries_timeseries_path, skiprows=0, sep=\";\")\n",
                "network.boundaries_timeseries_data.plot();"
            ]
        },
        {
            "cell_type": "markdown",
            "metadata": {},
            "source": [
                "definitie intitiële waterstanden"
            ]
        },
        {
            "cell_type": "code",
            "execution_count": null,
            "metadata": {},
            "outputs": [],
            "source": [
                "# Definition initial water levels (refer to simulation name and index timestep)\n",
                "# method_initial_waterlevels = 1: based on one of the basis simulations (define \"set_name\" and index waterlevel)\n",
                "# method_initial_waterlevels = 2: based on one of the simulations provided\n",
                "# method_initial_waterlevels = 3: based on areas, define a column to be used\n",
                "network.method_initial_waterlevels = 1\n",
                "\n",
                "network.initial_waterlevels_set_name = \"winter\"\n",
                "network.initial_waterlevels_timestep = -6"
            ]
        },
        {
            "cell_type": "code",
            "execution_count": null,
            "metadata": {},
            "outputs": [],
            "source": [
                "# Define locations where the network should be split into Ribasim basins:\n",
                "network.add_split_nodes(\n",
                "    weirs=True,\n",
                "    pumps=True,\n",
                "    uniweirs=True,\n",
                "    orifices=True,\n",
                "    structures_ids_to_include=[], \n",
                "    structures_ids_to_exclude=['STW_001072B', 'STW_056492B'], \n",
                "    edge_ids_to_include=[],\n",
                ");"
            ]
        },
        {
            "cell_type": "code",
            "execution_count": null,
            "metadata": {},
            "outputs": [],
            "source": [
                "network.plot();"
            ]
        },
        {
            "cell_type": "code",
            "execution_count": null,
            "metadata": {},
            "outputs": [],
            "source": [
                "# specify translation split_nodes to ribasim-nodes per type\n",
                "split_node_type_conversion = {\n",
                "    'weir': 'Outlet', \n",
                "    'uniweir': 'Outlet',\n",
                "    'pump': 'Pump', \n",
                "    'culvert': 'Outlet', \n",
                "    'edge': 'ManningResistance',\n",
                "    'orifice' : 'Outlet',\n",
                "}\n",
                "# specify translation for specific split_nodes to ribasim-nodes\n",
                "split_node_id_conversion = {}"
            ]
        },
        {
            "cell_type": "code",
            "execution_count": null,
            "metadata": {},
            "outputs": [],
            "source": [
                "network.generate_ribasim_lumping_network(\n",
                "    simulation_code=simulation_code,\n",
                "    split_node_type_conversion=split_node_type_conversion,\n",
                "    split_node_id_conversion=split_node_id_conversion,\n",
                ");"
            ]
        },
        {
            "cell_type": "code",
            "execution_count": null,
            "metadata": {},
            "outputs": [],
            "source": [
                "network.plot();"
            ]
        },
        {
            "cell_type": "code",
            "execution_count": null,
            "metadata": {},
            "outputs": [],
            "source": [
                "ribasim_model = network.generate_ribasim_model_complete(\n",
                "    set_name=settings_set_name,\n",
                "    saveat=3600,\n",
                ")"
            ]
        },
        {
            "cell_type": "code",
            "execution_count": null,
            "metadata": {},
            "outputs": [],
            "source": []
        },
        {
            "cell_type": "code",
            "execution_count": null,
            "metadata": {},
            "outputs": [],
            "source": []
        }
    ],
    "metadata": {
        "kernelspec": {
            "display_name": "ribasim",
            "language": "python",
            "name": "python3"
        },
        "language_info": {
            "codemirror_mode": {
                "name": "ipython",
                "version": 3
            },
            "file_extension": ".py",
            "mimetype": "text/x-python",
            "name": "python",
            "nbconvert_exporter": "python",
            "pygments_lexer": "ipython3",
            "version": "3.11.7"
        },
        "vscode": {
            "interpreter": {
                "hash": "dfc666eb4a62d5826d85bcfe032d59ef4dfc699941e19e14832498fb495ee494"
            }
        }
    },
    "nbformat": 4,
    "nbformat_minor": 4
}
