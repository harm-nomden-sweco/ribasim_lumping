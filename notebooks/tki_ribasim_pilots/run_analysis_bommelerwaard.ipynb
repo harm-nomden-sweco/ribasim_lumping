{
    "cells": [
        {
            "cell_type": "code",
            "execution_count": null,
            "metadata": {},
            "outputs": [],
            "source": [
                "import sys\n",
                "from pathlib import Path\n",
                "import matplotlib.pyplot as plt\n",
                "\n",
                "# add directory with ribasim-repository\n",
                "sys.path.append(\"..\\\\..\\\\..\\\\ribasim\\\\python\\\\ribasim\")\n",
                "import ribasim\n",
                "\n",
                "# add directory with ribasim_lumping-repository\n",
                "sys.path.append(\"..\\\\..\")\n",
                "import ribasim_lumping\n",
                "from ribasim_lumping.ribasim_model_results import plot_results_basin_ribasim_model, \\\n",
                "    plot_results_basins_ribasim_model, get_ribasim_basin_data_from_model, read_ribasim_model_results\n",
                "\n",
                "import pandas as pd\n",
                "import geopandas as gpd\n",
                "import numpy as np\n",
                "import pyarrow as pa\n",
                "\n",
                "from numba.core.errors import NumbaDeprecationWarning\n",
                "import warnings\n",
                "\n",
                "warnings.simplefilter(\"ignore\")\n",
                "pd.options.mode.chained_assignment = None"
            ]
        },
        {
            "cell_type": "code",
            "execution_count": null,
            "metadata": {},
            "outputs": [],
            "source": [
                "%load_ext autoreload\n",
                "%autoreload 2"
            ]
        },
        {
            "cell_type": "code",
            "execution_count": null,
            "metadata": {},
            "outputs": [],
            "source": [
                "# define network name, base dir\n",
                "network_name = \"tki_bommelerwaard\"\n",
                "base_dir = Path(\"..\\\\..\\\\..\\\\ribasim_lumping_data\\\\\")\n",
                "\n",
                "# directory D-HYDRO basis calculations\n",
                "dhydro_basis_dir = Path(base_dir, network_name, \"2_dhydro\\\\basis\\\\\")\n",
                "\n",
                "# directory D-HYDRO results calculations\n",
                "dhydro_results_dir = Path(base_dir, network_name, \"2_dhydro\\\\results\\\\\")\n",
                "\n",
                "# directory results\n",
                "results_dir = Path(base_dir, network_name, \"3_ribasim\\\\\")\n",
                "\n",
                "# batch file used to calculate volume D-Hydro module per GridPoint\n",
                "dhydro_volume_tool_bat_file = Path(r\"c:\\Program Files\\Deltares\\D-HYDRO Suite 2023.03 1D2D\\plugins\\DeltaShell.Dimr\\kernels\\x64\\dflowfm\\scripts\\run_dfm_volume_tool.bat\")\n",
                "dhydro_volume_tool_increment = 0.1\n",
                "\n",
                "# link to ribasim_executable\n",
                "path_ribasim_executable = \"..\\\\..\\\\..\\\\ribasim_cli\\\\bin\\\\ribasim.exe\""
            ]
        },
        {
            "cell_type": "code",
            "execution_count": null,
            "metadata": {},
            "outputs": [],
            "source": [
                "# Load areas (discharge units: afwaterende eenheden)\n",
                "areas_file_path = Path(base_dir, network_name, \"1_areas\", \"praktijkpeilen_bommelerwaard.shp\")\n",
                "areas_gdf = gpd.read_file(areas_file_path)\n",
                "areas_gdf = areas_gdf[['code', 'geometry']]"
            ]
        },
        {
            "cell_type": "code",
            "execution_count": null,
            "metadata": {},
            "outputs": [],
            "source": [
                "# Create networkanalysis\n",
                "network = ribasim_lumping.create_ribasim_lumping_network(\n",
                "    base_dir=base_dir,\n",
                "    name=network_name,\n",
                "    dhydro_basis_dir=dhydro_basis_dir,\n",
                "    dhydro_results_dir=dhydro_results_dir,\n",
                "    results_dir=results_dir,\n",
                "    path_ribasim_executable=path_ribasim_executable,\n",
                "    crs=28992\n",
                ")"
            ]
        },
        {
            "cell_type": "code",
            "execution_count": null,
            "metadata": {},
            "outputs": [],
            "source": [
                "# Read network data and extract all objects (weirs/pumps/laterals/confluences/bifurcations)\n",
                "network.add_basis_network(\n",
                "    source_type=\"dhydro\",\n",
                "    set_name=\"winter\",\n",
                "    model_dir=Path(dhydro_basis_dir, \"winter\"),\n",
                "    simulation_name=\"bommelerwaard\",\n",
                "    dhydro_volume_tool_bat_file=dhydro_volume_tool_bat_file, \n",
                "    dhydro_volume_tool_force=False,\n",
                "    dhydro_volume_tool_increment=dhydro_volume_tool_increment\n",
                ");"
            ]
        },
        {
            "cell_type": "code",
            "execution_count": null,
            "metadata": {},
            "outputs": [],
            "source": [
                "# Add simulation sets for winter, summer, etc.\n",
                "network.add_simulation_data_from_set(\n",
                "    set_name=\"winter\",\n",
                "    simulations_dir=dhydro_dir,\n",
                "    simulations_names=[\"tki_bommelerwaard\"],\n",
                "    simulation_output_dir=\"fm\\\\output\",\n",
                "    simulations_ts=[-1],\n",
                ");"
            ]
        },
        {
            "cell_type": "code",
            "execution_count": null,
            "metadata": {},
            "outputs": [],
            "source": [
                "# Read network data and extract all objects (weirs/pumps/laterals/confluences/bifurcations)\n",
                "network.get_network_data()\n",
                "# network.export_to_geopackage()"
            ]
        },
        {
            "cell_type": "code",
            "execution_count": null,
            "metadata": {},
            "outputs": [],
            "source": [
                "# Define locations where the network should be split into Ribasim basins:\n",
                "network.add_split_nodes(\n",
                "    weirs=True,\n",
                "    pumps=True,\n",
                "    uniweirs=True,\n",
                "    orifices=True,\n",
                "    structures_ids_to_include=[\n",
                "        # 'DKR_009969', 'DKR_010011',\n",
                "    ], \n",
                "    structures_ids_to_exclude=[\n",
                "        'STW_001072B', 'STW_056492B'\n",
                "    ], \n",
                "    edge_ids_to_include=[\n",
                "    ],\n",
                ");"
            ]
        },
        {
            "cell_type": "code",
            "execution_count": null,
            "metadata": {},
            "outputs": [],
            "source": [
                "# Create basins (gdf) based on nodes, edges, split_node_ids and areas\n",
                "network.generate_ribasim_lumping_network();\n",
                "# Export to geopackage\n",
                "network.export_to_geopackage()"
            ]
        },
        {
            "cell_type": "code",
            "execution_count": null,
            "metadata": {},
            "outputs": [],
            "source": [
                "# specify translation split_nodes to ribasim-nodes per type\n",
                "split_node_type_conversion = {\n",
                "    'weir': 'TabulatedRatingCurve', \n",
                "    'uniweir': 'TabulatedRatingCurve' ,\n",
                "    'pump': 'Pump', \n",
                "    'culvert': 'TabulatedRatingCurve', \n",
                "    'manual': 'ManningResistance',\n",
                "    'orifice' : 'TabulatedRatingCurve',\n",
                "    'edge': 'ManningResistance',\n",
                "}\n",
                "# specify translation for specific split_nodes to ribasim-nodes\n",
                "split_node_id_conversion = {\n",
                "    # 'sto_AE80770024': 'ManningResistance', \n",
                "    # 'kdu_DR80740070': 'ManningResistance',\n",
                "    # # duikers voor wijk Zuidwijken\n",
                "    # 'kdu_DR80940046': 'ManningResistance', \n",
                "    # 'kdu_DR80950043': 'ManningResistance', \n",
                "    # 'kdu_DR80950151': 'ManningResistance', \n",
                "}"
            ]
        },
        {
            "cell_type": "code",
            "execution_count": null,
            "metadata": {},
            "outputs": [],
            "source": [
                "# Generate Ribasim model en exporteer naar geopackage\n",
                "ribasim_model = network.generate_ribasim_model(\n",
                "    split_node_type_conversion=split_node_type_conversion, \n",
                "    split_node_id_conversion=split_node_id_conversion\n",
                ")\n",
                "ribasim_model.write(f\"{results_dir}/{network.name}\")"
            ]
        },
        {
            "cell_type": "code",
            "execution_count": null,
            "metadata": {},
            "outputs": [],
            "source": []
        }
    ],
    "metadata": {
        "kernelspec": {
            "display_name": "ribasim",
            "language": "python",
            "name": "python3"
        },
        "language_info": {
            "codemirror_mode": {
                "name": "ipython",
                "version": 3
            },
            "file_extension": ".py",
            "mimetype": "text/x-python",
            "name": "python",
            "nbconvert_exporter": "python",
            "pygments_lexer": "ipython3",
            "version": "3.11.6"
        },
        "vscode": {
            "interpreter": {
                "hash": "dfc666eb4a62d5826d85bcfe032d59ef4dfc699941e19e14832498fb495ee494"
            }
        }
    },
    "nbformat": 4,
    "nbformat_minor": 4
}
