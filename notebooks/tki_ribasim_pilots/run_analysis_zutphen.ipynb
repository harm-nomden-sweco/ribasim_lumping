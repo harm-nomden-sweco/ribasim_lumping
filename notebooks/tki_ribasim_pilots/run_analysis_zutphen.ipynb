{
 "cells": [
  {
   "cell_type": "code",
   "execution_count": null,
   "metadata": {},
   "outputs": [],
   "source": [
    "import sys\n",
    "from pathlib import Path\n",
    "import matplotlib.pyplot as plt\n",
    "\n",
    "# add directory with ribasim-repository\n",
    "sys.path.append(\"..\\\\..\\\\..\\\\ribasim\\\\python\\\\ribasim\")\n",
    "import ribasim\n",
    "\n",
    "# add directory with ribasim_lumping-repository\n",
    "sys.path.append(\"..\\\\..\")\n",
    "import ribasim_lumping\n",
    "\n",
    "import pandas as pd\n",
    "import geopandas as gpd\n",
    "import numpy as np\n",
    "\n",
    "from numba.core.errors import NumbaDeprecationWarning\n",
    "import warnings\n",
    "\n",
    "warnings.simplefilter(\"ignore\")\n",
    "pd.options.mode.chained_assignment = None"
   ]
  },
  {
   "cell_type": "code",
   "execution_count": null,
   "metadata": {},
   "outputs": [],
   "source": [
    "%load_ext autoreload\n",
    "%autoreload 2"
   ]
  },
  {
   "cell_type": "code",
   "execution_count": null,
   "metadata": {},
   "outputs": [],
   "source": [
    "# define network name, base dir\n",
    "network_name            = \"tki_zutphen_berkel\"\n",
    "base_dir                = Path(\"..\\\\..\\\\..\\\\ribasim_lumping_data\\\\\")\n",
    "# directory D-HYDRO basis calculations\n",
    "dhydro_basis_dir        = Path(base_dir, network_name, \"2_dhydro\\\\\") # zelfde directory, want gebruik zelfde som\n",
    "# directory D-HYDRO results calculations\n",
    "dhydro_results_dir      = Path(base_dir, network_name, \"2_dhydro\\\\\") # zelfde directory, want gebruik zelfde som\n",
    "# directory results\n",
    "results_dir             = Path(base_dir, network_name, \"3_ribasim\\\\\")\n",
    "# batch file used to calculate volume D-Hydro module per GridPoint\n",
    "dhydro_volume_tool_bat_file = Path(r\"c:\\Program Files\\Deltares\\D-HYDRO Suite 2023.03 1D2D\\plugins\\DeltaShell.Dimr\\kernels\\x64\\dflowfm\\scripts\\run_dfm_volume_tool.bat\")\n",
    "dhydro_volume_tool_increment = 0.1"
   ]
  },
  {
   "cell_type": "code",
   "execution_count": null,
   "metadata": {},
   "outputs": [],
   "source": [
    "# Create networkanalysis\n",
    "network = ribasim_lumping.create_ribasim_lumping_network(\n",
    "    base_dir=base_dir,\n",
    "    name=network_name,\n",
    "    dhydro_basis_dir=dhydro_basis_dir,\n",
    "    dhydro_results_dir=dhydro_results_dir,\n",
    "    results_dir=results_dir,\n",
    "    crs=28992\n",
    ")\n",
    "# network.export_to_geopackage()"
   ]
  },
  {
   "cell_type": "code",
   "execution_count": null,
   "metadata": {},
   "outputs": [],
   "source": [
    "# Load areas (discharge units: afwaterende eenheden)\n",
    "areas_dir               = Path(base_dir, network_name, \"1_areas\")\n",
    "areas_file_name         = f\"{network_name}_afw_eenheden.shp\"\n",
    "areas_id_column         = \"GFEIDENT\"\n",
    "network.read_areas(\n",
    "    areas_file_path=Path(areas_dir, areas_file_name), \n",
    "    areas_id_column=areas_id_column\n",
    ")"
   ]
  },
  {
   "cell_type": "code",
   "execution_count": null,
   "metadata": {},
   "outputs": [],
   "source": [
    "# Read network data and extract all objects (weirs/pumps/laterals/confluences/bifurcations)\n",
    "network.add_basis_network(\n",
    "    source_type='dhydro',\n",
    "    set_name=\"winter\",\n",
    "    model_dir=Path(dhydro_basis_dir, \"afvoergolf\"),\n",
    "    simulation_name=\"tki_zuthpen_berkel_afvoergolf.dsproj_data\",\n",
    "    dhydro_volume_tool_bat_file=dhydro_volume_tool_bat_file, \n",
    "    dhydro_volume_tool_force=True,\n",
    "    dhydro_volume_tool_increment=dhydro_volume_tool_increment\n",
    ");\n",
    "# network.add_basis_network(\n",
    "#     source_type='dhydro',\n",
    "#     set_name='zomer', \n",
    "#     model_dir=Path(dhydro_basis_dir, \"zomer\"),\n",
    "#     simulation_name=\"tki_zuthpen_berkel_basis.dsproj_data\",\n",
    "#     dhydro_volume_tool_bat_file=dhydro_volume_tool_bat_file, \n",
    "#     dhydro_volume_tool_force=True,\n",
    "#     dhydro_volume_tool_increment=0.1\n",
    "# );# Read network data and extract all objects (weirs/pumps/laterals/confluences/bifurcations)"
   ]
  },
  {
   "cell_type": "code",
   "execution_count": null,
   "metadata": {},
   "outputs": [],
   "source": [
    "# Select simulation sets and extract all data using xugrid/ugrid\n",
    "network.add_simulation_set(\n",
    "    source_type='dhydro',\n",
    "    set_name=\"winter\",\n",
    "    model_dir=Path(dhydro_results_dir, \"winter\"),\n",
    "    simulation_names=[\"tki_zuthpen_berkel_basis.dsproj_data\"],\n",
    "    simulation_ts=pd.date_range(\"2000-01-06 23:00\", periods=9, freq=\"6D\"),\n",
    ");\n",
    "# network.add_simulation_data(\n",
    "#     source_type='dhydro',\n",
    "#     set_name=\"zomer\",\n",
    "#     model_dir=Path(dhydro_results_dir, \"winter\"),\n",
    "#     simulation_names=[\"tki_zuthpen_berkel_basis.dsproj_data\"],\n",
    "#     simulation_ts=pd.date_range(\"2000-01-06 23:00\", periods=9, freq=\"6D\"),\n",
    "# );"
   ]
  },
  {
   "cell_type": "markdown",
   "metadata": {},
   "source": [
    "#### OPZETTEN SIMULATIE"
   ]
  },
  {
   "cell_type": "code",
   "execution_count": null,
   "metadata": {},
   "outputs": [],
   "source": [
    "simulation_code = \"test_14f_gebieden\"\n",
    "set_name = 'winter'\n",
    "starttime = \"2020-01-01 00:00:00\"\n",
    "endtime = \"2020-02-01 00:00:00\""
   ]
  },
  {
   "cell_type": "code",
   "execution_count": null,
   "metadata": {},
   "outputs": [],
   "source": [
    "# Define locations where the network should be split into Ribasim basins:\n",
    "network.add_split_nodes(\n",
    "    weirs=True,\n",
    "    pumps=True,\n",
    "    uniweirs=True,\n",
    "    orifices=True,\n",
    "    structures_ids_to_include=[\n",
    "        'kdu_DR80760025', # duiker vispassage bovenstrooms\n",
    "        'kdu_DR80770020', # duiker afvoergebiedje noordzijde Berkel\n",
    "        'kdu_DR84930010', # duiker met terugslagklep Zutphen Noorderhaven (parallel aan gemaal)\n",
    "        'kdu_DR80950033', # duikers voor wijk Leesten\n",
    "        'kdu_DR80940046', 'kdu_DR80950043', 'kdu_DR80950151', # duikers voor wijk Zuidwijken\n",
    "        'kdu_DR80950103',\n",
    "        'kdu_DR80740070', # inlaat twentekanaal\n",
    "    ], \n",
    "    structures_ids_to_exclude=[\n",
    "        'BCAL_3', 'BCAL_11', # stuwen voor hoogwaterafvoer De Berkel\n",
    "        'BBypass_Besselink_1', 'BBypass_Besselink_2', 'BBypass_Besselink_3', 'BBypass_Besselink_4', 'BBypass_Besselink_5', # visdrempels vispassage De Berkel\n",
    "        'kst_ST80950035', # verwarrende stuw ivm afwaterende eenheid (Zutphen: Leesten)\n",
    "        'kst_ST84930001', # verwarrende stuw ivm afwaterende eenheid (Zutphen: Noorderhaven)\n",
    "        # 'kst_ST80830045', # weir tussen uitstroompunten Zutphen\n",
    "        # 'kst_ST80820031', 'kst_ST80820042', # test\n",
    "    ], \n",
    "    edge_ids_to_include=[1801],\n",
    ");"
   ]
  },
  {
   "cell_type": "code",
   "execution_count": null,
   "metadata": {},
   "outputs": [],
   "source": [
    "network.split_nodes"
   ]
  },
  {
   "cell_type": "code",
   "execution_count": null,
   "metadata": {},
   "outputs": [],
   "source": [
    "split_node_type_conversion = dict(\n",
    "    weir=\"TabulatedRatingCurve\",\n",
    "    uniweir=\"TabulatedRatingCurve\",\n",
    "    pump=\"Pump\",\n",
    "    culvert=\"TabulatedRatingCurve\",\n",
    "    edge=\"ManningResistance\",\n",
    "    orifice=\"Outlet\",\n",
    "    boundary_connection=\"ManningResistance\"\n",
    ")\n",
    "# specify translation for specific split_nodes to ribasim-nodes\n",
    "split_node_id_conversion = dict(\n",
    "    kdu_DR80740070='ManningResistance',\n",
    "    # duikers voor wijk Zuidwijken\n",
    "    kdu_DR80940046='ManningResistance', \n",
    "    kdu_DR80950043='ManningResistance', \n",
    "    kdu_DR80950151='ManningResistance', \n",
    ")"
   ]
  },
  {
   "cell_type": "code",
   "execution_count": null,
   "metadata": {},
   "outputs": [],
   "source": [
    "network.generate_ribasim_lumping_network(\n",
    "    simulation_code=simulation_code,\n",
    "    split_node_type_conversion=split_node_type_conversion,\n",
    "    split_node_id_conversion=split_node_id_conversion,\n",
    ");"
   ]
  },
  {
   "cell_type": "code",
   "execution_count": null,
   "metadata": {},
   "outputs": [],
   "source": [
    "# Generate Ribasim model en exporteer naar geopackage\n",
    "ribasim_model = network.generate_ribasim_model(\n",
    "    split_node_type_conversion=split_node_type_conversion, \n",
    "    split_node_id_conversion=split_node_id_conversion\n",
    ")\n",
    "ribasim_model.write(results_dir / \"ribasim_model\")"
   ]
  },
  {
   "cell_type": "code",
   "execution_count": null,
   "metadata": {},
   "outputs": [],
   "source": []
  },
  {
   "cell_type": "code",
   "execution_count": null,
   "metadata": {},
   "outputs": [],
   "source": []
  },
  {
   "cell_type": "code",
   "execution_count": null,
   "metadata": {},
   "outputs": [],
   "source": []
  },
  {
   "cell_type": "code",
   "execution_count": null,
   "metadata": {},
   "outputs": [],
   "source": []
  },
  {
   "cell_type": "code",
   "execution_count": null,
   "metadata": {},
   "outputs": [],
   "source": []
  }
 ],
 "metadata": {
  "kernelspec": {
   "display_name": "ribasim",
   "language": "python",
   "name": "python3"
  },
  "language_info": {
   "codemirror_mode": {
    "name": "ipython",
    "version": 3
   },
   "file_extension": ".py",
   "mimetype": "text/x-python",
   "name": "python",
   "nbconvert_exporter": "python",
   "pygments_lexer": "ipython3",
   "version": "3.11.6"
  },
  "vscode": {
   "interpreter": {
    "hash": "dfc666eb4a62d5826d85bcfe032d59ef4dfc699941e19e14832498fb495ee494"
   }
  }
 },
 "nbformat": 4,
 "nbformat_minor": 4
}
