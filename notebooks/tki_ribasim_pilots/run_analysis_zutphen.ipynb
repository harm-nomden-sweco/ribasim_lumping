{
 "cells": [
  {
   "cell_type": "code",
   "execution_count": null,
   "metadata": {},
   "outputs": [],
   "source": [
    "import sys\n",
    "from pathlib import Path\n",
    "import matplotlib.pyplot as plt\n",
    "import matplotlib\n",
    "\n",
    "import ribasim\n",
    "\n",
    "import ribasim_lumping\n",
    "# from ribasim_lumping.ribasim_model_results import plot_results_basin_ribasim_model, \\\n",
    "#     plot_results_basins_ribasim_model, get_ribasim_basin_data_from_model, read_ribasim_model_results\n",
    "\n",
    "import pandas as pd\n",
    "import geopandas as gpd\n",
    "import numpy as np\n",
    "import pyarrow as pa\n",
    "import datetime\n",
    "\n",
    "import warnings\n",
    "\n",
    "warnings.simplefilter(\"ignore\")\n",
    "pd.options.mode.chained_assignment = None"
   ]
  },
  {
   "cell_type": "code",
   "execution_count": null,
   "metadata": {},
   "outputs": [],
   "source": [
    "%load_ext autoreload\n",
    "%autoreload 2"
   ]
  },
  {
   "cell_type": "markdown",
   "metadata": {},
   "source": [
    "##### SET-UP NETWORK"
   ]
  },
  {
   "cell_type": "code",
   "execution_count": null,
   "metadata": {},
   "outputs": [],
   "source": [
    "# define network name, base dir\n",
    "network_name            = \"tki_zutphen_berkel\"\n",
    "base_dir                = Path(\"..\\\\..\\\\..\\\\ribasim_lumping_data\\\\\")\n",
    "# base_dir                = Path(\"..\\\\..\\\\..\\\\..\\\\..\\\\..\\\\ribasim_lumping_data\\\\\")\n",
    "# directory D-HYDRO basis calculations\n",
    "dhydro_basis_dir        = Path(base_dir, network_name, \"2_dhydro\\\\\") # zelfde directory, want gebruik zelfde som\n",
    "# directory D-HYDRO results calculations\n",
    "dhydro_results_dir      = Path(base_dir, network_name, \"2_dhydro\\\\\") # zelfde directory, want gebruik zelfde som\n",
    "# directory results\n",
    "results_dir             = Path(base_dir, network_name, \"3_ribasim\\\\\")\n",
    "# batch file used to calculate volume D-Hydro module per GridPoint\n",
    "dhydro_volume_tool_bat_file = Path(r\"c:\\Program Files\\Deltares\\D-HYDRO Suite 2023.03 1D2D\\plugins\\DeltaShell.Dimr\\kernels\\x64\\dflowfm\\scripts\\run_dfm_volume_tool.bat\")\n",
    "dhydro_volume_tool_increment = 0.1\n",
    "# link to ribasim_executable\n",
    "path_ribasim_executable = \"..\\\\..\\\\..\\\\ribasim_cli_windows\\\\bin\\\\ribasim.exe\""
   ]
  },
  {
   "cell_type": "markdown",
   "metadata": {},
   "source": [
    "Start ribasim network"
   ]
  },
  {
   "cell_type": "code",
   "execution_count": null,
   "metadata": {},
   "outputs": [],
   "source": [
    "network = ribasim_lumping.create_ribasim_lumping_network(\n",
    "    base_dir=base_dir,\n",
    "    name=network_name,\n",
    "    dhydro_basis_dir=dhydro_basis_dir,\n",
    "    dhydro_results_dir=dhydro_results_dir,\n",
    "    results_dir=results_dir,\n",
    "    path_ribasim_executable=path_ribasim_executable,\n",
    "    crs=28992\n",
    ")\n",
    "# network.export_to_geopackage()"
   ]
  },
  {
   "cell_type": "markdown",
   "metadata": {},
   "source": [
    "Load areas (discharge units: afwaterende eenheden)"
   ]
  },
  {
   "cell_type": "code",
   "execution_count": null,
   "metadata": {},
   "outputs": [],
   "source": [
    "areas_dir               = Path(base_dir, network_name, \"1_data\", \"areas\")\n",
    "areas_file_name         = f\"{network_name}_afw_eenheden.shp\"\n",
    "areas_id_column         = \"GFEIDENT\"\n",
    "network.read_areas(\n",
    "    areas_file_path=Path(areas_dir, areas_file_name), \n",
    "    areas_id_column=areas_id_column\n",
    ")\n",
    "network.plot();"
   ]
  },
  {
   "cell_type": "markdown",
   "metadata": {},
   "source": [
    "Read network data and extract objects and settings:\n",
    "- extract network and weirs/pumps/culverts/etc\n",
    "- read structure settings\n",
    "- read laterals/boundaries/etc from basis simulations"
   ]
  },
  {
   "cell_type": "code",
   "execution_count": null,
   "metadata": {},
   "outputs": [],
   "source": [
    "network.add_basis_network(\n",
    "    source_type='dhydro',\n",
    "    set_name=\"winter\",\n",
    "    set_start_month=10,\n",
    "    set_start_day=1,\n",
    "    model_dir=Path(dhydro_basis_dir, \"afvoergolf\"),\n",
    "    simulation_name=\"tki_zuthpen_berkel_afvoergolf.dsproj_data\",\n",
    "    dhydro_volume_tool_bat_file=dhydro_volume_tool_bat_file, \n",
    "    dhydro_volume_tool_force=True,\n",
    "    dhydro_volume_tool_increment=dhydro_volume_tool_increment\n",
    ");\n",
    "network.add_basis_network(\n",
    "    source_type='dhydro',\n",
    "    set_name=\"zomer\",\n",
    "    set_start_month=10,\n",
    "    set_start_day=1,\n",
    "    model_dir=Path(dhydro_basis_dir, \"afvoergolf\"),\n",
    "    simulation_name=\"tki_zuthpen_berkel_afvoergolf.dsproj_data\",\n",
    "    dhydro_volume_tool_bat_file=dhydro_volume_tool_bat_file, \n",
    "    dhydro_volume_tool_force=True,\n",
    "    dhydro_volume_tool_increment=dhydro_volume_tool_increment\n",
    ");\n",
    "network.plot();"
   ]
  },
  {
   "cell_type": "code",
   "execution_count": null,
   "metadata": {},
   "outputs": [],
   "source": [
    "network.pumps_gdf.head()"
   ]
  },
  {
   "cell_type": "code",
   "execution_count": null,
   "metadata": {},
   "outputs": [],
   "source": [
    "network.weirs_gdf.iloc[0]"
   ]
  },
  {
   "cell_type": "code",
   "execution_count": null,
   "metadata": {},
   "outputs": [],
   "source": [
    "network.culverts_gdf.iloc[0]"
   ]
  },
  {
   "cell_type": "code",
   "execution_count": null,
   "metadata": {},
   "outputs": [],
   "source": [
    "network.orifices_gdf.iloc[0]"
   ]
  },
  {
   "cell_type": "code",
   "execution_count": null,
   "metadata": {},
   "outputs": [],
   "source": [
    "network.uniweirs_gdf.iloc[0]"
   ]
  },
  {
   "cell_type": "code",
   "execution_count": null,
   "metadata": {},
   "outputs": [],
   "source": [
    "structure_specs_dir_path = Path(base_dir, network_name, \"1_data\", \"control\")\n",
    "network.export_or_update_all_ribasim_structures_specs(\n",
    "    structure_specs_dir_path=structure_specs_dir_path\n",
    ");"
   ]
  },
  {
   "cell_type": "markdown",
   "metadata": {},
   "source": [
    "Select simulation sets and extract all simulation results using xugrid/ugrid"
   ]
  },
  {
   "cell_type": "code",
   "execution_count": null,
   "metadata": {},
   "outputs": [],
   "source": [
    "network.add_simulation_set(\n",
    "    source_type='dhydro',\n",
    "    set_name=\"winter\",\n",
    "    model_dir=Path(dhydro_results_dir, \"winter\"),\n",
    "    simulation_names=[\"tki_zuthpen_berkel_basis_winter.dsproj_data\"],\n",
    "    simulation_ts=pd.date_range(\"2000-01-06 23:00\", periods=9, freq=\"6D\"),\n",
    ");\n",
    "network.add_simulation_set(\n",
    "    source_type='dhydro',\n",
    "    set_name=\"zomer\",\n",
    "    model_dir=Path(dhydro_results_dir, \"zomer\"),\n",
    "    simulation_names=[\"tki_zuthpen_berkel_basis_zomer.dsproj_data\"],\n",
    "    simulation_ts=pd.date_range(\"2000-01-06 23:00\", periods=9, freq=\"6D\"),\n",
    ");"
   ]
  },
  {
   "cell_type": "markdown",
   "metadata": {},
   "source": [
    "#### SET-UP SIMULATION\n",
    "simulation code and temporal settings"
   ]
  },
  {
   "cell_type": "code",
   "execution_count": null,
   "metadata": {},
   "outputs": [],
   "source": [
    "simulation_code = \"tki_zutphen_berkel\"\n",
    "# Definition settings changes over time\n",
    "settings_time_variation = False\n",
    "# in case of no variation over time. set set_name (\"winter\", \"zomer\", ...)\n",
    "settings_set_name = 'winter'"
   ]
  },
  {
   "cell_type": "markdown",
   "metadata": {},
   "source": [
    "Defition Lateral inflow over time\n",
    "- method_laterals = 1: laterals basis network\n",
    "- method_laterals = 2: laterals per discharge area > required: run function read_areas_laterals_timeseries(path_to_excel)\n",
    "- method_laterals = 3: homogeneous discharge > required: define laterals_drainage_per_ha (pandas series) in liters/second/hectare"
   ]
  },
  {
   "cell_type": "code",
   "execution_count": null,
   "metadata": {},
   "outputs": [],
   "source": [
    "network.method_laterals = 2\n",
    "\n",
    "# in case of 2: give direction to csv file with timeseries per area -> column names according to areas[areas_id_column]\n",
    "areas_laterals_path = Path(base_dir, network_name, \"1_data\", \"laterals\", \"laterals_areas.csv\")\n",
    "network.read_areas_laterals_timeseries(areas_laterals_path, sep=\";\", dayfirst=True)\n",
    "\n",
    "fig, ax = plt.subplots(1,1)\n",
    "network.laterals_areas_data.sum(axis=1).plot(ax=ax)\n",
    "ax.hlines(0, xmin=network.laterals_areas_data.index[0], xmax=network.laterals_areas_data.index[-1])"
   ]
  },
  {
   "cell_type": "markdown",
   "metadata": {},
   "source": [
    "Definition boundaries\n",
    "- method_boundaries = 1: use boundaries basis network, \n",
    "- method_boundaries = 2: use timeseries from imported csv, \n",
    "- method_boundaries = 3: use fixed boundaries"
   ]
  },
  {
   "cell_type": "code",
   "execution_count": null,
   "metadata": {},
   "outputs": [],
   "source": [
    "network.method_boundaries = 2\n",
    "\n",
    "boundaries_timeseries_path = Path(base_dir, network_name, \"1_data\", \"boundaries\", \"boundary_timeseries.csv\")\n",
    "network.read_boundaries_timeseries_data(boundaries_timeseries_path, skiprows=1, sep=\";\")\n",
    "# small adjustment to datetime\n",
    "network.boundaries_timeseries_data.index = network.boundaries_timeseries_data.index.floor(freq=\"D\")\n",
    "network.boundaries_timeseries_data.plot();"
   ]
  },
  {
   "cell_type": "markdown",
   "metadata": {},
   "source": [
    "Changes to timeseries data:\n",
    "- start and end time equal to laterals\n",
    "- backward fill of data from Almen (1389)"
   ]
  },
  {
   "cell_type": "code",
   "execution_count": null,
   "metadata": {},
   "outputs": [],
   "source": [
    "network.boundaries_timeseries_data = network.boundaries_timeseries_data.loc[\n",
    "    network.laterals_areas_data.index[0]:network.laterals_areas_data.index[-1]\n",
    "].bfill()\n",
    "network.boundaries_timeseries_data.plot();"
   ]
  },
  {
   "cell_type": "markdown",
   "metadata": {},
   "source": [
    "Definition initial water levels (refer to simulation name and index timestep)\n",
    "- method_initial_waterlevels = 1: based on one of the basis simulations\n",
    "- method_initial_waterlevels = 2: based on one of the simulations provided\n",
    "- method_initial_waterlevels = 3: based on areas, define a column (zomerpeil/winterpeil) to be used (NOT YET IMPLEMENTED)"
   ]
  },
  {
   "cell_type": "code",
   "execution_count": null,
   "metadata": {},
   "outputs": [],
   "source": [
    "network.method_initial_waterlevels = 2\n",
    "\n",
    "# give name of simulation plus the selected timestep (int)\n",
    "network.initial_waterlevels_set_name = \"tki_zuthpen_berkel_afvoergolf.dsproj_data\"\n",
    "network.initial_waterlevels_timestep = 3"
   ]
  },
  {
   "cell_type": "markdown",
   "metadata": {},
   "source": [
    "#### ADD SPLIT NODES\n",
    "use add_split_nodes function to add splitnodes. \n",
    "Select all weirs/pumps/uniweirs/orifices and/or select individual structures/objects to be included or excluded."
   ]
  },
  {
   "cell_type": "code",
   "execution_count": null,
   "metadata": {},
   "outputs": [],
   "source": [
    "# Define locations where the network should be split into Ribasim basins:\n",
    "network.add_split_nodes(\n",
    "    weirs=True,\n",
    "    pumps=True,\n",
    "    uniweirs=True,\n",
    "    orifices=True,\n",
    "    culverts=False,\n",
    "    edges=False,\n",
    "    structures_ids_to_include=[\n",
    "        'kdu_DR80760025', # duiker vispassage bovenstrooms\n",
    "        'kdu_DR80770020', # duiker afvoergebiedje noordzijde Berkel\n",
    "        'kdu_DR84930010', # duiker met terugslagklep Zutphen Noorderhaven (parallel aan gemaal)\n",
    "        'kdu_DR80950033', # duikers voor wijk Leesten\n",
    "        'kdu_DR80940046', 'kdu_DR80950043', 'kdu_DR80950151', # duikers voor wijk Zuidwijken\n",
    "        'kdu_DR80950103',\n",
    "        'kdu_DR80740070', # inlaat twentekanaal\n",
    "    ], \n",
    "    structures_ids_to_exclude=[\n",
    "        'BCAL_3', 'BCAL_11', # stuwen voor hoogwaterafvoer De Berkel\n",
    "        'BBypass_Besselink_2', 'BBypass_Besselink_3', 'BBypass_Besselink_4', 'BBypass_Besselink_5', 'BBypass_Besselink_6', # visdrempels vispassage De Berkel\n",
    "        'kst_ST80950035', # verwarrende stuw ivm afwaterende eenheid (Zutphen: Leesten)\n",
    "        'kst_ST84930001', # verwarrende stuw ivm afwaterende eenheid (Zutphen: Noorderhaven)\n",
    "        # 'kst_ST80830045', # weir tussen uitstroompunten Zutphen\n",
    "        # 'kst_ST80820031', 'kst_ST80820042', # test\n",
    "    ], \n",
    "    edge_ids_to_include=[1801],\n",
    ");"
   ]
  },
  {
   "cell_type": "markdown",
   "metadata": {},
   "source": [
    "Conversion of choosen split_nodes to ribasim-type. Select standard conversion for objects and individual exceptions"
   ]
  },
  {
   "cell_type": "code",
   "execution_count": null,
   "metadata": {},
   "outputs": [],
   "source": [
    "split_node_type_conversion = dict(\n",
    "    weir=\"TabulatedRatingCurve\",\n",
    "    universalWeir=\"TabulatedRatingCurve\",\n",
    "    pump=\"Pump\",\n",
    "    culvert=\"TabulatedRatingCurve\",\n",
    "    edge=\"ManningResistance\",\n",
    "    orifice=\"Outlet\",\n",
    "    boundary_connection=\"ManningResistance\"\n",
    ")\n",
    "\n",
    "# specify translation for specific split_nodes to ribasim-nodes\n",
    "split_node_id_conversion = dict(\n",
    "    kdu_DR80740070='ManningResistance',\n",
    "    # duikers voor wijk Zuidwijken\n",
    "    kdu_DR80940046='ManningResistance', \n",
    "    kdu_DR80950043='ManningResistance', \n",
    "    kdu_DR80950151='ManningResistance', \n",
    ")"
   ]
  },
  {
   "cell_type": "markdown",
   "metadata": {},
   "source": [
    "##### NETWORK GENERATION"
   ]
  },
  {
   "cell_type": "code",
   "execution_count": null,
   "metadata": {},
   "outputs": [],
   "source": [
    "network.generate_ribasim_lumping_network(\n",
    "    simulation_code=simulation_code,\n",
    "    split_node_type_conversion=split_node_type_conversion,\n",
    "    split_node_id_conversion=split_node_id_conversion,\n",
    ");"
   ]
  },
  {
   "cell_type": "code",
   "execution_count": null,
   "metadata": {},
   "outputs": [],
   "source": [
    "ribasim_model = network.generate_ribasim_model_complete(\n",
    "    set_name=\"winter\",\n",
    "    dummy_model=True,\n",
    "    saveat=3600,\n",
    ")"
   ]
  },
  {
   "cell_type": "code",
   "execution_count": null,
   "metadata": {},
   "outputs": [],
   "source": [
    "# network.plot_tabulated_rating_curves()"
   ]
  },
  {
   "cell_type": "code",
   "execution_count": null,
   "metadata": {},
   "outputs": [],
   "source": [
    "network.ribasim_model.tabulated_rating_curve.static.df"
   ]
  },
  {
   "cell_type": "code",
   "execution_count": null,
   "metadata": {},
   "outputs": [],
   "source": []
  },
  {
   "cell_type": "code",
   "execution_count": null,
   "metadata": {},
   "outputs": [],
   "source": []
  },
  {
   "cell_type": "code",
   "execution_count": null,
   "metadata": {},
   "outputs": [],
   "source": []
  },
  {
   "cell_type": "code",
   "execution_count": null,
   "metadata": {},
   "outputs": [],
   "source": [
    "network.ribasim_model.basin.state"
   ]
  },
  {
   "cell_type": "code",
   "execution_count": null,
   "metadata": {},
   "outputs": [],
   "source": [
    "network.ribasim_model.tabulated_rating_curve.static.df"
   ]
  },
  {
   "cell_type": "code",
   "execution_count": null,
   "metadata": {},
   "outputs": [],
   "source": []
  },
  {
   "cell_type": "code",
   "execution_count": null,
   "metadata": {},
   "outputs": [],
   "source": []
  },
  {
   "cell_type": "code",
   "execution_count": null,
   "metadata": {},
   "outputs": [],
   "source": []
  },
  {
   "cell_type": "code",
   "execution_count": null,
   "metadata": {},
   "outputs": [],
   "source": []
  }
 ],
 "metadata": {
  "kernelspec": {
   "display_name": "ribasim_lumping",
   "language": "python",
   "name": "python3"
  },
  "language_info": {
   "codemirror_mode": {
    "name": "ipython",
    "version": 3
   },
   "file_extension": ".py",
   "mimetype": "text/x-python",
   "name": "python",
   "nbconvert_exporter": "python",
   "pygments_lexer": "ipython3",
   "version": "3.11.7"
  },
  "vscode": {
   "interpreter": {
    "hash": "a036bb1803af6fe22f064fcf42d66cd9fc5247b5d3b121167c30abfc8c1c6b18"
   }
  }
 },
 "nbformat": 4,
 "nbformat_minor": 4
}
