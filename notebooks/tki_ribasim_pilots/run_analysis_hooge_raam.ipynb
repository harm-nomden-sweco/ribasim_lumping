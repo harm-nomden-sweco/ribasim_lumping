{
 "cells": [
  {
   "cell_type": "code",
   "execution_count": null,
   "metadata": {},
   "outputs": [],
   "source": [
    "import sys\n",
    "from pathlib import Path\n",
    "import matplotlib.pyplot as plt\n",
    "import matplotlib\n",
    "\n",
    "import ribasim\n",
    "\n",
    "import ribasim_lumping\n",
    "from ribasim_lumping.ribasim_model_results import plot_results_basin_ribasim_model, \\\n",
    "    plot_results_basins_ribasim_model, get_ribasim_basin_data_from_model, read_ribasim_model_results\n",
    "\n",
    "import pandas as pd\n",
    "import geopandas as gpd\n",
    "import numpy as np\n",
    "import pyarrow as pa\n",
    "\n",
    "import warnings\n",
    "\n",
    "warnings.simplefilter(\"ignore\")\n",
    "pd.options.mode.chained_assignment = None"
   ]
  },
  {
   "cell_type": "code",
   "execution_count": null,
   "metadata": {},
   "outputs": [],
   "source": [
    "%load_ext autoreload\n",
    "%autoreload 2"
   ]
  },
  {
   "cell_type": "markdown",
   "metadata": {},
   "source": [
    "#### BASIC SETTINGS"
   ]
  },
  {
   "cell_type": "code",
   "execution_count": null,
   "metadata": {},
   "outputs": [],
   "source": [
    "# define network name, base dir\n",
    "network_name = \"tki_hooge_raam\"\n",
    "base_dir = Path(\"..\\\\..\\\\..\\\\ribasim_lumping_data\\\\\")\n",
    "\n",
    "# directory D-HYDRO basis calculations\n",
    "dhydro_basis_dir = Path(base_dir, network_name, \"2_dhydro\\\\basis\\\\\")\n",
    "\n",
    "# directory D-HYDRO results calculations\n",
    "dhydro_results_dir = Path(base_dir, network_name, \"2_dhydro\\\\results\\\\\")\n",
    "\n",
    "# directory results\n",
    "results_dir = Path(base_dir, network_name, \"3_ribasim\\\\\")\n",
    "\n",
    "# batch file used to calculate volume D-Hydro module per GridPoint\n",
    "dhydro_volume_tool_bat_file = Path(r\"c:\\Program Files\\Deltares\\D-HYDRO Suite 2023.03 1D2D\\plugins\\DeltaShell.Dimr\\kernels\\x64\\dflowfm\\scripts\\run_dfm_volume_tool.bat\")\n",
    "dhydro_volume_tool_increment = 0.1\n",
    "\n",
    "# link to ribasim_executable\n",
    "path_ribasim_executable = \"..\\\\..\\\\..\\\\ribasim_cli_windows\\\\bin\\\\ribasim.exe\""
   ]
  },
  {
   "cell_type": "code",
   "execution_count": null,
   "metadata": {},
   "outputs": [],
   "source": [
    "# Create networkanalysis\n",
    "network = ribasim_lumping.create_ribasim_lumping_network(\n",
    "    base_dir=base_dir,\n",
    "    name=network_name,\n",
    "    dhydro_basis_dir=dhydro_basis_dir,\n",
    "    dhydro_results_dir=dhydro_results_dir,\n",
    "    results_dir=results_dir,\n",
    "    path_ribasim_executable=path_ribasim_executable,\n",
    "    crs=28992\n",
    ")"
   ]
  },
  {
   "cell_type": "markdown",
   "metadata": {},
   "source": [
    "#### READ NETWORK AND SIMULATION DATA"
   ]
  },
  {
   "cell_type": "code",
   "execution_count": null,
   "metadata": {},
   "outputs": [],
   "source": [
    "# Read network data and extract all objects (weirs/pumps/laterals/confluences/bifurcations)\n",
    "network.add_basis_network(\n",
    "    source_type=\"dhydro\",\n",
    "    set_name=\"winter\",\n",
    "    model_dir=Path(dhydro_basis_dir, \"winter\"),\n",
    "    simulation_name=\"HoogeRaamRibasim_afvoergolf.dsproj_data\",\n",
    "    dhydro_volume_tool_bat_file=dhydro_volume_tool_bat_file, \n",
    "    dhydro_volume_tool_force=False,\n",
    "    dhydro_volume_tool_increment=dhydro_volume_tool_increment\n",
    ");"
   ]
  },
  {
   "cell_type": "code",
   "execution_count": null,
   "metadata": {},
   "outputs": [],
   "source": [
    "# Select simulation sets and extract all data using xugrid/ugrid\n",
    "network.add_simulation_set(\n",
    "    source_type=\"dhydro\",\n",
    "    set_name=\"winter\",\n",
    "    model_dir=Path(dhydro_results_dir, \"winter\"),\n",
    "    simulation_names=[\"0_01\", \"0_02\", \"0_05\", \"0_075\", \"0_1\", \"0_2\", \"0_5\", \"0_75\", \"1_0\", \"1_5\", \"2_0\"],\n",
    "    simulation_ts=[-1],\n",
    ");"
   ]
  },
  {
   "cell_type": "markdown",
   "metadata": {},
   "source": [
    "#### SETUP SIMULATION"
   ]
  },
  {
   "cell_type": "code",
   "execution_count": null,
   "metadata": {},
   "outputs": [],
   "source": [
    "simulation_code = \"test_subgrid_20240307\"\n",
    "set_name = \"winter\""
   ]
  },
  {
   "cell_type": "markdown",
   "metadata": {},
   "source": [
    "##### READ AREAS"
   ]
  },
  {
   "cell_type": "code",
   "execution_count": null,
   "metadata": {},
   "outputs": [],
   "source": [
    "# Load areas (discharge units: afwaterende eenheden)\n",
    "areas_dir               = Path(base_dir, network_name, \"1_data\", \"areas\")\n",
    "areas_file_name         = \"afwateringseenheden2023_v1_HoogeRaam.shp\"\n",
    "areas_id_column         = \"CODE\"\n",
    "network.read_areas(\n",
    "    areas_file_path=Path(areas_dir, areas_file_name), \n",
    "    areas_id_column=areas_id_column\n",
    ")"
   ]
  },
  {
   "cell_type": "code",
   "execution_count": null,
   "metadata": {},
   "outputs": [],
   "source": [
    "network.plot();"
   ]
  },
  {
   "cell_type": "markdown",
   "metadata": {},
   "source": [
    "##### DEFINE DISCHARGE OVER TIME (LITER / SECOND / HECTARE)\n",
    "Defition Lateral inflow\n",
    "- method_laterals = 1: laterals basis network\n",
    "- method_laterals = 2: laterals per discharge area > required: run function read_areas_laterals_timeseries(path_to_excel)\n",
    "- method_laterals = 3: homogeneous discharge > required: define laterals_drainage_per_ha (pandas series)"
   ]
  },
  {
   "cell_type": "code",
   "execution_count": null,
   "metadata": {},
   "outputs": [],
   "source": [
    "network.method_laterals = 1\n",
    "\n",
    "fig, ax = plt.subplots(figsize=(7,4))\n",
    "network.laterals_data.sum(axis=1).plot(ax=ax);"
   ]
  },
  {
   "cell_type": "code",
   "execution_count": null,
   "metadata": {},
   "outputs": [],
   "source": [
    "network.method_boundaries"
   ]
  },
  {
   "cell_type": "markdown",
   "metadata": {},
   "source": [
    "##### DEFINE SPLIT-NODES WITHIN THE NETWORK"
   ]
  },
  {
   "cell_type": "code",
   "execution_count": null,
   "metadata": {},
   "outputs": [],
   "source": [
    "network.add_split_nodes(\n",
    "    weirs=False,\n",
    "    pumps=False,\n",
    "    uniweirs=False,\n",
    "    culverts=False,\n",
    "    edges=False,\n",
    "    structures_ids_to_include=[\n",
    "        \"105HOO\", \"105LHW\", \"105HOE\", \"105ACS\", \"105BZS\", \"105BRG\", \"105PCS\", \n",
    "        \"105OMS\", \"105ADS\", \"105PVS\", \"105NBG\", \"105AES\", \"105LBW\", \"105BGA\", \n",
    "        \"105MKP\", \"105PDS\", \"105AFT\", \"105GLS\", \"105ADH\", \"105WEV\", \"105SBG\", \n",
    "        \"105OMK\", \"105NXV\", \"105VLW\", \"105PDT\", \"105OUS\", \"105OVS\", \"105OQS\", \n",
    "        \"105OXS\", \"105AHS\", \"105PET\", \"105PGS\", \"105PES\", \"105BZV\", \"105ABS\", \n",
    "        \"105PCL\", \"105BRM\", \"105PBK\", \"105SAW\", \"105NXS\", \"105ONS\", \"105BFA\", \n",
    "        \"105MPD\", \"105PLW\", \"105ADB\", \"105PBR\", \"105HHT\", \"105AKS\", \"105DHA\", \n",
    "        \"105PAS\", \"105RKW\", \"105ADK\", \"105PDR\", \"105AFS\", \"105AGS\", \"105BUS\", \n",
    "        \"105ZAN\", \n",
    "    ],\n",
    "    structures_ids_to_exclude=[],\n",
    "    edge_ids_to_include=[],\n",
    "    edge_ids_to_exclude=[],\n",
    ");"
   ]
  },
  {
   "cell_type": "markdown",
   "metadata": {},
   "source": [
    "##### DEFINE TRANSLATION OF SPLIT-NODES TO RIBASIM-NODES (per type of structure or per individual split-node)"
   ]
  },
  {
   "cell_type": "code",
   "execution_count": null,
   "metadata": {},
   "outputs": [],
   "source": [
    "split_node_type_conversion = dict(\n",
    "    weir=\"TabulatedRatingCurve\",\n",
    "    uniweir=\"TabulatedRatingCurve\",\n",
    "    pump=\"Pump\",\n",
    "    culvert=\"TabulatedRatingCurve\",\n",
    "    edge=\"ManningResistance\",\n",
    "    orifice=\"Outlet\",\n",
    "    boundary_connection=\"ManningResistance\"\n",
    ")\n",
    "split_node_id_conversion = {}"
   ]
  },
  {
   "cell_type": "markdown",
   "metadata": {},
   "source": [
    "##### GENERATE RIBASIM LUMPING NETWORK BASED ON DHYDRO NETWORK"
   ]
  },
  {
   "cell_type": "code",
   "execution_count": null,
   "metadata": {},
   "outputs": [],
   "source": [
    "network.generate_ribasim_lumping_network(\n",
    "    simulation_code=simulation_code,\n",
    "    split_node_type_conversion=split_node_type_conversion,\n",
    "    split_node_id_conversion=split_node_id_conversion,\n",
    ");"
   ]
  },
  {
   "cell_type": "markdown",
   "metadata": {},
   "source": [
    "##### GENERATE RIBASIM MODEL AND EXPORT TO GEOPACKAGE"
   ]
  },
  {
   "cell_type": "code",
   "execution_count": null,
   "metadata": {},
   "outputs": [],
   "source": [
    "ribasim_model = network.generate_ribasim_model_complete(\n",
    "    set_name=set_name,\n",
    "    saveat=3600,\n",
    "    results_subgrid=True\n",
    ")"
   ]
  },
  {
   "cell_type": "markdown",
   "metadata": {},
   "source": [
    "##### ************ RUN MODEL BY RUNNING BAT-FILE ************"
   ]
  },
  {
   "cell_type": "markdown",
   "metadata": {},
   "source": [
    "##### READ RESULTS FROM MODEL AND CREATE PLOTS"
   ]
  },
  {
   "cell_type": "code",
   "execution_count": null,
   "metadata": {},
   "outputs": [],
   "source": [
    "ribasim_results = read_ribasim_model_results(\n",
    "    simulation_path=network.simulation_path\n",
    ")"
   ]
  },
  {
   "cell_type": "markdown",
   "metadata": {},
   "source": [
    "Create figures for each basin. Use complete=True if you also want A-H, V-H, Q-H relations."
   ]
  },
  {
   "cell_type": "code",
   "execution_count": null,
   "metadata": {},
   "outputs": [],
   "source": [
    "for basin_no in ribasim_model.basin.state.df.node_id.values:\n",
    "    ribasim_model, ribasim_results, basin_results, fig, axes = plot_results_basin_ribasim_model(\n",
    "        ribasim_model=ribasim_model,\n",
    "        ribasim_results=ribasim_results,\n",
    "        basin_no=basin_no,\n",
    "        complete=True\n",
    "    );"
   ]
  },
  {
   "cell_type": "code",
   "execution_count": null,
   "metadata": {},
   "outputs": [],
   "source": []
  },
  {
   "cell_type": "code",
   "execution_count": null,
   "metadata": {},
   "outputs": [],
   "source": []
  },
  {
   "cell_type": "code",
   "execution_count": null,
   "metadata": {},
   "outputs": [],
   "source": []
  },
  {
   "cell_type": "code",
   "execution_count": null,
   "metadata": {},
   "outputs": [],
   "source": []
  },
  {
   "cell_type": "code",
   "execution_count": null,
   "metadata": {},
   "outputs": [],
   "source": []
  },
  {
   "cell_type": "code",
   "execution_count": null,
   "metadata": {},
   "outputs": [],
   "source": []
  }
 ],
 "metadata": {
  "kernelspec": {
   "display_name": "ribasim",
   "language": "python",
   "name": "python3"
  },
  "language_info": {
   "codemirror_mode": {
    "name": "ipython",
    "version": 3
   },
   "file_extension": ".py",
   "mimetype": "text/x-python",
   "name": "python",
   "nbconvert_exporter": "python",
   "pygments_lexer": "ipython3",
   "version": "3.11.8"
  }
 },
 "nbformat": 4,
 "nbformat_minor": 4
}
