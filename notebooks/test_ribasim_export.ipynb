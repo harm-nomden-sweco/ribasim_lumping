{
 "cells": [
  {
   "cell_type": "code",
   "execution_count": null,
   "metadata": {},
   "outputs": [],
   "source": [
    "import sys\n",
    "from pathlib import Path\n",
    "\n",
    "sys.path.append(\"..\")\n",
    "from ribasim_lumping import RibasimLumpingNetwork\n",
    "\n",
    "import numpy as np\n",
    "import pandas as pd\n",
    "import geopandas as gpd\n",
    "from shapely.geometry import LineString\n",
    "\n",
    "from numba.core.errors import NumbaDeprecationWarning, NumbaPendingDeprecationWarning\n",
    "import warnings\n",
    "\n",
    "import ribasim\n",
    "\n",
    "warnings.simplefilter(\"ignore\", category=NumbaDeprecationWarning)\n",
    "\n"
   ]
  },
  {
   "cell_type": "code",
   "execution_count": null,
   "metadata": {},
   "outputs": [],
   "source": [
    "%load_ext autoreload\n",
    "%autoreload 2"
   ]
  },
  {
   "cell_type": "code",
   "execution_count": null,
   "metadata": {},
   "outputs": [],
   "source": [
    "# Define base_dir, results_dir and network name\n",
    "base_dir = Path(\"..\\\\..\\\\ribasim_lumping_data\\\\\")\n",
    "results_dir = Path(base_dir, \"results\")\n",
    "network_name = \"zutphen_tki_netwerk\""
   ]
  },
  {
   "cell_type": "code",
   "execution_count": null,
   "metadata": {},
   "outputs": [],
   "source": [
    "# Load areas (discharge units: afwaterende eenheden)\n",
    "areas_file_path = Path(base_dir, \"afw_eenheden\\\\wrij_afwateringseenheden_selectie_Zutphen.shp\")\n",
    "areas_gdf = gpd.read_file(areas_file_path)\n",
    "areas_gdf = areas_gdf[['GFEIDENT', 'geometry']]"
   ]
  },
  {
   "cell_type": "code",
   "execution_count": null,
   "metadata": {},
   "outputs": [],
   "source": [
    "# Create networkanalysis\n",
    "network = RibasimLumpingNetwork(\n",
    "    name=network_name, \n",
    "    results_dir=results_dir,\n",
    "    areas_gdf=areas_gdf,\n",
    ")"
   ]
  },
  {
   "cell_type": "code",
   "execution_count": null,
   "metadata": {},
   "outputs": [],
   "source": [
    "# Select simulation sets and extract all data using xugrid/ugrid\n",
    "network.add_data_from_simulations_set(\n",
    "    set_name=\"winter\",\n",
    "    simulations_dir=Path(base_dir, \"d-hydro\\\\\"),\n",
    "    simulations_names=[\"tki_zuthpen_berkel_basis.dsproj\"],\n",
    "    simulations_ts=pd.date_range(\"2000-01-02 23:00\", periods=9, freq=\"2D\"),\n",
    ");"
   ]
  },
  {
   "cell_type": "code",
   "execution_count": null,
   "metadata": {},
   "outputs": [],
   "source": [
    "simulation_name = 'tki_zuthpen_berkel_basis.dsproj_data'\n",
    "file_bc = f'{base_dir}\\\\d-hydro\\\\{simulation_name}\\\\FlowFM\\\\input\\\\FlowFM_boundaryconditions1d.bc'"
   ]
  },
  {
   "cell_type": "code",
   "execution_count": null,
   "metadata": {},
   "outputs": [],
   "source": [
    "# Read network data and extract all objects (weirs/pumps/laterals/confluences/bifurcations)\n",
    "network.get_network_data(file_bc)\n",
    "# Export to geopackage\n",
    "# network.export_to_geopackage()"
   ]
  },
  {
   "cell_type": "code",
   "execution_count": null,
   "metadata": {},
   "outputs": [],
   "source": [
    "# Define locations where the network should be split into Ribasim basins:\n",
    "\n",
    "network.add_split_nodes(\n",
    "    weirs=True,\n",
    "    pumps=True,\n",
    "    uniweirs=True,\n",
    "    structures_ids_to_include=[\n",
    "        'kdu_DR80760025', # duiker vispassage bovenstrooms\n",
    "        'kst_ST80830001', 'kst_ST80810015', # onderdoorlaten bij verdeelpunt De Berkel (Zutphen)\n",
    "        'kdu_DR84930010', # duiker met terugslagklep Zutphen Noorderhaven (parallel aan gemaal)\n",
    "        'kdu_DR80950033', # duikers voor wijk Leesten\n",
    "        'kdu_DR80940046', 'kdu_DR80950043', 'kdu_DR80950151' # duikers voor wijk Zuidwijken\n",
    "    ], \n",
    "    structures_ids_to_exclude=[\n",
    "        'BCAL_3', 'BCAL_11', # stuwen voor hoogwaterafvoer De Berkel\n",
    "        'BBypass_Besselink_1', 'BBypass_Besselink_2', 'BBypass_Besselink_3', 'BBypass_Besselink_4', 'BBypass_Besselink_5', # visdrempels vispassage De Berkel\n",
    "        'kst_ST80950035', # verwarrende stuw ivm afwaterende eenheid (Zutphen: Leesten)\n",
    "        'kst_ST84930001', # verwarrende stuw ivm afwaterende eenheid (Zutphen: Noorderhaven)\n",
    "    ], \n",
    "    node_ids_to_include=[\n",
    "        # 419, # voorbeeld splitsing\n",
    "        # 1455, # extra punt rondom verdeelpunt De Berkel\n",
    "    ],\n",
    "    node_ids_to_exclude=[],\n",
    ");"
   ]
  },
  {
   "cell_type": "code",
   "execution_count": null,
   "metadata": {},
   "outputs": [],
   "source": [
    "# Create basins (gdf) based on nodes, edges, split_node_ids and areas\n",
    "network.create_basins_and_connections_based_on_split_nodes();\n",
    "# Export to geopackage\n",
    "network.export_to_geopackage()"
   ]
  },
  {
   "cell_type": "code",
   "execution_count": null,
   "metadata": {},
   "outputs": [],
   "source": []
  },
  {
   "attachments": {},
   "cell_type": "markdown",
   "metadata": {},
   "source": [
    "Export to ribasim"
   ]
  },
  {
   "cell_type": "code",
   "execution_count": null,
   "metadata": {},
   "outputs": [],
   "source": [
    "network.basins_gdf.head(3)"
   ]
  },
  {
   "cell_type": "code",
   "execution_count": null,
   "metadata": {},
   "outputs": [],
   "source": [
    "network.boundaries_gdf.head(3)"
   ]
  },
  {
   "cell_type": "code",
   "execution_count": null,
   "metadata": {},
   "outputs": [],
   "source": [
    "# network.splitnodes_moved_gdf.head(3)"
   ]
  },
  {
   "cell_type": "code",
   "execution_count": null,
   "metadata": {},
   "outputs": [],
   "source": [
    "network.split_nodes"
   ]
  },
  {
   "cell_type": "code",
   "execution_count": null,
   "metadata": {},
   "outputs": [],
   "source": [
    "# network.basin_connections_gdf.head(3)"
   ]
  },
  {
   "attachments": {},
   "cell_type": "markdown",
   "metadata": {},
   "source": [
    "nodes"
   ]
  },
  {
   "cell_type": "code",
   "execution_count": null,
   "metadata": {},
   "outputs": [],
   "source": [
    "# set id's to node. Start with basins, then boundaries and then moved splitnodes. start with id 1\n",
    "basins_gdf =network.basins_gdf.copy()\n",
    "basins_gdf['node_id'] = basins_gdf['basin'] + 1\n",
    "\n",
    "boundaries_gdf = network.boundaries_gdf.copy()\n",
    "boundaries_gdf['node_id'] = boundaries_gdf['boundary_id'] + len(network.basins_gdf) +1\n",
    "\n",
    "splitnodes_gdf = network.split_nodes.copy()\n",
    "splitnodes_gdf.insert(0, 'splitnode_id', range(len(splitnodes_gdf)))\n",
    "splitnodes_gdf['node_id'] = splitnodes_gdf['splitnode_id'] + len(network.basins_gdf) + len(network.boundaries_gdf) +1"
   ]
  },
  {
   "cell_type": "code",
   "execution_count": null,
   "metadata": {},
   "outputs": [],
   "source": [
    "# concat basins, boundaries and splitnodes moved \n",
    "\n",
    "# oude versie ribasim\n",
    "# ribasim_node_gdf = pd.concat([basins_gdf.assign(type=\"Basin\"), boundaries_gdf.assign(type=\"LevelControl\"),splitnodes_moved_gdf.assign(type=\"TabulatedRatingCurve\")]) \n",
    "ribasim_node_gdf = pd.concat([basins_gdf.assign(type=\"Basin\"), boundaries_gdf.assign(type=\"LevelBoundary\"),splitnodes_gdf.assign(type=\"TabulatedRatingCurve\")]) \n",
    "\n",
    "\n",
    "# set node_id as index\n",
    "ribasim_node_gdf = ribasim_node_gdf.set_index('node_id')\n",
    "\n",
    "# keep columns geometry and type\n",
    "ribasim_node_gdf = ribasim_node_gdf[['geometry', 'type']]\n",
    "ribasim_node_gdf"
   ]
  },
  {
   "cell_type": "code",
   "execution_count": null,
   "metadata": {},
   "outputs": [],
   "source": [
    "# Set up the nodes:\n",
    "\n",
    "# Make sure the feature id starts at 1: explicitly give an index.\n",
    "node = ribasim.Node(\n",
    "    static=ribasim_node_gdf\n",
    ")\n",
    "node"
   ]
  },
  {
   "attachments": {},
   "cell_type": "markdown",
   "metadata": {},
   "source": [
    "edges"
   ]
  },
  {
   "cell_type": "code",
   "execution_count": null,
   "metadata": {},
   "outputs": [],
   "source": [
    "network.basin_connections_gdf.head()"
   ]
  },
  {
   "cell_type": "code",
   "execution_count": null,
   "metadata": {},
   "outputs": [],
   "source": [
    "splitnodes_gdf"
   ]
  },
  {
   "cell_type": "code",
   "execution_count": null,
   "metadata": {},
   "outputs": [],
   "source": [
    "basin_connections_gdf = network.basin_connections_gdf[['mesh1d_node_id', 'basin_in','basin_out','geometry']]\n",
    "basin_connections_gdf = basin_connections_gdf.merge(splitnodes_gdf[['splitnode_id','mesh1d_node_id', 'node_id']], left_on='mesh1d_node_id', right_on='mesh1d_node_id')\n",
    "\n",
    "basin_connections_gdf"
   ]
  },
  {
   "cell_type": "code",
   "execution_count": null,
   "metadata": {},
   "outputs": [],
   "source": [
    "# basin_connections_gdf_us = network.basin_connections_gdf[['mesh1d_node_id', 'basin_out','geometry']]\n",
    "basin_connections_gdf_us = basin_connections_gdf.copy()\n",
    "basin_connections_gdf_us['geometry'] = basin_connections_gdf_us.geometry.apply(lambda x: LineString([x.coords[0], x.coords[1]]))\n",
    "basin_connections_gdf_us['from_node_id'] = basin_connections_gdf_us['basin_out'] +1\n",
    "basin_connections_gdf_us['to_node_id'] = basin_connections_gdf_us['node_id']\n",
    "# basin_connections_gdf_us['to_node_id'] = basin_connections_gdf_us['splitnode_id'] + len(network.basins_gdf) + len(network.boundaries_gdf) +1\n",
    "basin_connections_gdf_us.head(3)"
   ]
  },
  {
   "cell_type": "code",
   "execution_count": null,
   "metadata": {},
   "outputs": [],
   "source": [
    "# basin_connections_gdf_ds = network.basin_connections_gdf[['mesh1d_node_id', 'basin_in','geometry']]\n",
    "basin_connections_gdf_ds = basin_connections_gdf.copy()\n",
    "basin_connections_gdf_ds['geometry'] = basin_connections_gdf.geometry.apply(lambda x: LineString([x.coords[1], x.coords[2]]))\n",
    "# basin_connections_gdf_ds['from_node_id'] = basin_connections_gdf_ds['splitnode_moved_id'] + len(network.basins_gdf) + len(network.boundaries_gdf) +1\n",
    "basin_connections_gdf_ds['from_node_id'] = basin_connections_gdf_ds['node_id']\n",
    "basin_connections_gdf_ds['to_node_id'] = basin_connections_gdf_ds['basin_in'] +1\n",
    "basin_connections_gdf_ds.head(3)\n",
    "\n",
    "\n"
   ]
  },
  {
   "cell_type": "code",
   "execution_count": null,
   "metadata": {},
   "outputs": [],
   "source": [
    "boundary_basin_connections = network.boundary_basin_connections_gdf[['boundary_id', 'basin','geometry','boundary_location']]\n",
    "\n",
    "\n",
    "# basin_connections_gdf_ds['geometry'] = basin_connections_gdf_ds.geometry.apply(lambda x: LineString([x.coords[1], x.coords[2]]))\n",
    "boundary_basin_connections_us = boundary_basin_connections.loc[boundary_basin_connections['boundary_location'] == 'upstream']\n",
    "boundary_basin_connections_us['from_node_id'] = boundary_basin_connections_us['boundary_id']  + len(network.basins_gdf) +1\n",
    "boundary_basin_connections_us['to_node_id'] = boundary_basin_connections_us['basin'] +1\n",
    "\n",
    "boundary_basin_connections_ds = boundary_basin_connections.loc[boundary_basin_connections['boundary_location'] == 'downstream']\n",
    "boundary_basin_connections_ds['from_node_id'] = boundary_basin_connections_ds['basin'] +1\n",
    "boundary_basin_connections_ds['to_node_id'] = boundary_basin_connections_ds['boundary_id'] + len(network.basins_gdf) +1\n",
    "\n",
    "boundary_basin_connections_us.head(3)"
   ]
  },
  {
   "cell_type": "code",
   "execution_count": null,
   "metadata": {},
   "outputs": [],
   "source": [
    "# edges = gpd.GeoDataFrame(\n",
    "#     index=np.arange(0,100),\n",
    "#     columns=['basin_in', 'basin_out', 'split_node', 'boundary', 'geometry']\n",
    "# )\n",
    "# edges['boundary'] = edges['boundary'] + 47\n",
    "# edges['split_node'] = edges['split_node'] + 52\n",
    "# edges#.reset_index()"
   ]
  },
  {
   "cell_type": "code",
   "execution_count": null,
   "metadata": {},
   "outputs": [],
   "source": [
    "# network.basin_connections_gdf.geometry.apply(lambda x: LineString([x.coords[0], x.coords[1]]))"
   ]
  },
  {
   "cell_type": "code",
   "execution_count": null,
   "metadata": {},
   "outputs": [],
   "source": [
    "# Setup the edges:\n",
    "ribasim_edges = pd.concat([basin_connections_gdf_ds, basin_connections_gdf_us,boundary_basin_connections_us, boundary_basin_connections_ds]) \n",
    "ribasim_edges = ribasim_edges[['from_node_id','to_node_id','geometry']].reset_index()\n",
    "ribasim_edges['from_node_id'].astype(int)\n",
    "\n",
    "edge = ribasim.Edge(\n",
    "    static=ribasim_edges\n",
    ")\n",
    "\n",
    "ribasim_edges.head(3)"
   ]
  },
  {
   "attachments": {},
   "cell_type": "markdown",
   "metadata": {},
   "source": [
    "basin"
   ]
  },
  {
   "cell_type": "code",
   "execution_count": null,
   "metadata": {},
   "outputs": [],
   "source": [
    "# # Setup the basins:\n",
    "\n",
    "# profile = pd.DataFrame(\n",
    "#     data={\n",
    "#         \"node_id\": [0, 0],\n",
    "#         \"storage\": [0.0, 1000.0],\n",
    "#         \"area\": [0.0, 1000.0],\n",
    "#         \"level\": [0.0, 1.0],\n",
    "#     }\n",
    "# )\n",
    "# repeat = np.tile([0, 1], 4)\n",
    "# profile = profile.iloc[repeat]\n",
    "# profile[\"node_id\"] = [1, 1, 3, 3, 6, 6, 9, 9]\n",
    "\n",
    "# # Convert steady forcing to m/s\n",
    "# # 2 mm/d precipitation, 1 mm/d evaporation\n",
    "# seconds_in_day = 24 * 3600\n",
    "# precipitation = 0.002 / seconds_in_day\n",
    "# evaporation = 0.001 / seconds_in_day\n",
    "\n",
    "\n",
    "# static = pd.DataFrame(\n",
    "#     data={\n",
    "#         \"node_id\": [0],\n",
    "#         \"drainage\": [0.0],\n",
    "#         \"potential_evaporation\": [evaporation],\n",
    "#         \"infiltration\": [0.0],\n",
    "#         \"precipitation\": [precipitation],\n",
    "#         \"urban_runoff\": [0.0],\n",
    "#     }\n",
    "# )\n",
    "# static = static.iloc[[0, 0, 0, 0]]\n",
    "# static[\"node_id\"] = [1, 3, 6, 9]\n",
    "\n",
    "# basin = ribasim.Basin(profile=profile, static=static)"
   ]
  },
  {
   "cell_type": "code",
   "execution_count": null,
   "metadata": {},
   "outputs": [],
   "source": [
    "profile_data = pd.DataFrame(\n",
    "    data={\n",
    "        \"node_id\": ribasim_node_gdf.loc[ribasim_node_gdf['type']=='Basin'].index.values.tolist()\n",
    "    }\n",
    ")\n",
    "\n",
    "profile_data['storage'] = 3.5\n",
    "profile_data['area'] = 4.5\n",
    "profile_data['level'] = 5.5\n",
    "\n",
    "profile_data.head()\n"
   ]
  },
  {
   "cell_type": "code",
   "execution_count": null,
   "metadata": {},
   "outputs": [],
   "source": [
    "static_data = pd.DataFrame(\n",
    "    data={\n",
    "        \"node_id\": ribasim_node_gdf.loc[ribasim_node_gdf['type']=='Basin'].index.values.tolist()\n",
    "    }\n",
    ")\n",
    "\n",
    "static_data['drainage'] = 6.5\n",
    "static_data['potential_evaporation'] = 6.5\n",
    "static_data['infiltration'] = 6.5\n",
    "static_data['precipitation'] = 6.5\n",
    "static_data['urban_runoff'] = 6.5\n",
    "\n",
    "\n",
    "static_data.head()"
   ]
  },
  {
   "cell_type": "code",
   "execution_count": null,
   "metadata": {},
   "outputs": [],
   "source": [
    "basin = ribasim.Basin(profile=profile_data, static=static_data)"
   ]
  },
  {
   "attachments": {},
   "cell_type": "markdown",
   "metadata": {},
   "source": [
    "rating curve"
   ]
  },
  {
   "cell_type": "code",
   "execution_count": null,
   "metadata": {},
   "outputs": [],
   "source": [
    "# Discharge: lose 1% of storage volume per day at storage = 1000.0.\n",
    "static_data = pd.DataFrame(\n",
    "    data={\n",
    "        \"node_id\": ribasim_node_gdf.loc[ribasim_node_gdf['type']=='TabulatedRatingCurve'].index.values.tolist()\n",
    "    }\n",
    ")\n",
    "\n",
    "static_data['level'] = 6.5\n",
    "static_data['discharge'] = 6.5\n",
    "\n",
    "\n",
    "\n",
    "\n",
    "rating_curve = ribasim.TabulatedRatingCurve(\n",
    "    static= static_data,)\n",
    "\n",
    "\n",
    "static_data.head()"
   ]
  },
  {
   "attachments": {},
   "cell_type": "markdown",
   "metadata": {},
   "source": [
    "boundary"
   ]
  },
  {
   "cell_type": "code",
   "execution_count": null,
   "metadata": {},
   "outputs": [],
   "source": [
    "static_boundary = boundaries_gdf[['node_id']].copy()\n",
    "# static_boundary = static_boundary.rename(columns={\"boundary_id\": \"node_id\"})\n",
    "static_boundary\n",
    "static_boundary['level'] = 6.5\n",
    "\n",
    "static_boundary"
   ]
  },
  {
   "cell_type": "code",
   "execution_count": null,
   "metadata": {},
   "outputs": [],
   "source": [
    "# boundaries_gdf"
   ]
  },
  {
   "cell_type": "code",
   "execution_count": null,
   "metadata": {},
   "outputs": [],
   "source": [
    "level_boundary = ribasim.LevelBoundary(\n",
    "    static=static_boundary\n",
    ")"
   ]
  },
  {
   "cell_type": "markdown",
   "metadata": {},
   "source": [
    "Export everything to geopackage"
   ]
  },
  {
   "cell_type": "code",
   "execution_count": null,
   "metadata": {},
   "outputs": [],
   "source": [
    "network.export_to_geopackage()"
   ]
  },
  {
   "cell_type": "code",
   "execution_count": null,
   "metadata": {},
   "outputs": [],
   "source": [
    "# Setup a model:\n",
    "\n",
    "model = ribasim.Model(\n",
    "    modelname=\"ribasim_model\",\n",
    "    node=node,\n",
    "    edge=edge,\n",
    "    basin=basin,\n",
    "    level_boundary=level_boundary,\n",
    "    # level_control=level_control,\n",
    "    # linear_level_connection=linear_connection,\n",
    "    tabulated_rating_curve=rating_curve,\n",
    "    # fractional_flow=fractional_flow,\n",
    "    starttime=\"2020-01-01 00:00:00\",\n",
    "    endtime=\"2021-01-01 00:00:00\",\n",
    ")\n",
    "\n",
    "# %%\n",
    "# Write the model to a TOML and GeoPackage:\n",
    "\n",
    "model.write(f\"{results_dir}/{network.name}\")"
   ]
  },
  {
   "cell_type": "code",
   "execution_count": null,
   "metadata": {},
   "outputs": [],
   "source": [
    "# ribasim_node_gdf.loc[ribasim_node_gdf['type']=='Basin']"
   ]
  },
  {
   "cell_type": "code",
   "execution_count": null,
   "metadata": {},
   "outputs": [],
   "source": [
    "ribasim_node_gdf"
   ]
  },
  {
   "cell_type": "markdown",
   "metadata": {},
   "source": []
  },
  {
   "attachments": {},
   "cell_type": "markdown",
   "metadata": {},
   "source": [
    "node"
   ]
  },
  {
   "cell_type": "code",
   "execution_count": null,
   "metadata": {},
   "outputs": [],
   "source": [
    "ribasim_node_gdf"
   ]
  },
  {
   "cell_type": "code",
   "execution_count": null,
   "metadata": {},
   "outputs": [],
   "source": [
    "basin"
   ]
  }
 ],
 "metadata": {
  "kernelspec": {
   "display_name": "ribasim",
   "language": "python",
   "name": "python3"
  },
  "language_info": {
   "codemirror_mode": {
    "name": "ipython",
    "version": 3
   },
   "file_extension": ".py",
   "mimetype": "text/x-python",
   "name": "python",
   "nbconvert_exporter": "python",
   "pygments_lexer": "ipython3",
   "version": "3.11.0"
  },
  "orig_nbformat": 4,
  "vscode": {
   "interpreter": {
    "hash": "dfc666eb4a62d5826d85bcfe032d59ef4dfc699941e19e14832498fb495ee494"
   }
  }
 },
 "nbformat": 4,
 "nbformat_minor": 2
}
