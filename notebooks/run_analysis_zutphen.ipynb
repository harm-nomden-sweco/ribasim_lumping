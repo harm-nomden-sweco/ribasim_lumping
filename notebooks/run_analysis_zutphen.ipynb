{
 "cells": [
  {
   "cell_type": "code",
   "execution_count": 2,
   "metadata": {},
   "outputs": [],
   "source": [
    "import sys\n",
    "from pathlib import Path\n",
    "\n",
    "sys.path.append(\"..\")\n",
    "from ribasim_lumping import RibasimLumpingNetwork\n",
    "\n",
    "import pandas as pd\n",
    "import numpy as np\n",
    "import geopandas as gpd\n",
    "import xarray as xr\n",
    "import dfm_tools as dfmt\n",
    "import xugrid as xu\n",
    "import matplotlib.pyplot as plt\n",
    "\n",
    "from numba.core.errors import NumbaDeprecationWarning, NumbaPendingDeprecationWarning\n",
    "import warnings\n",
    "\n",
    "warnings.simplefilter(\"ignore\", category=NumbaDeprecationWarning)\n",
    "warnings.simplefilter(\"ignore\", UserWarning)\n",
    "\n",
    "import networkx as nx"
   ]
  },
  {
   "cell_type": "code",
   "execution_count": 3,
   "metadata": {},
   "outputs": [],
   "source": [
    "%load_ext autoreload\n",
    "%autoreload 2"
   ]
  },
  {
   "cell_type": "markdown",
   "metadata": {},
   "source": [
    "##### STEP 1 - READ NETWORK AND SIMULATION DATA\n",
    "Read network and simulation data from D-Hydro simulations using his.nc and map.nc:\n",
    "- for sets WINTER and SUMMER and ...\n",
    "- for list of SIMULATIONS per set (in this case 1 simulation per set)\n",
    "- at list of TIMESTEPS per simulation (in this case multiple timesteps per simulation)\n",
    "\n",
    "and read network"
   ]
  },
  {
   "cell_type": "code",
   "execution_count": 4,
   "metadata": {},
   "outputs": [],
   "source": [
    "# Define base_dir, results_dir and network name\n",
    "base_dir = Path(\"..\\\\..\\\\ribasim_lumping_data\\\\\")\n",
    "dhydro_dir = Path(base_dir, \"d-hydro\")\n",
    "results_dir = Path(base_dir, \"results\")"
   ]
  },
  {
   "cell_type": "code",
   "execution_count": 5,
   "metadata": {},
   "outputs": [],
   "source": [
    "network_name = \"tki_zutphen_berkel\"\n",
    "\n",
    "simulation_name = 'tki_zuthpen_berkel_basis.dsproj_data' # nog verwerken in de code\n",
    "file_bc = f'{base_dir}\\\\d-hydro\\\\{simulation_name}\\\\FlowFM\\\\input\\\\FlowFM_boundaryconditions1d.bc' # nog verwerken in de code"
   ]
  },
  {
   "cell_type": "code",
   "execution_count": 6,
   "metadata": {},
   "outputs": [],
   "source": [
    "# Load areas (discharge units: afwaterende eenheden)\n",
    "areas_file_path = Path(base_dir, \"afw_eenheden\", f\"{network_name}_afw_eenheden.shp\")\n",
    "areas_gdf = gpd.read_file(areas_file_path)\n",
    "areas_gdf = areas_gdf[['GFEIDENT', 'geometry']]"
   ]
  },
  {
   "cell_type": "code",
   "execution_count": 7,
   "metadata": {},
   "outputs": [],
   "source": [
    "# Create networkanalysis\n",
    "network = RibasimLumpingNetwork(\n",
    "    name=network_name, \n",
    "    results_dir=results_dir,\n",
    "    areas_gdf=areas_gdf,\n",
    ")\n",
    "# network.export_to_geopackage()"
   ]
  },
  {
   "cell_type": "code",
   "execution_count": 8,
   "metadata": {},
   "outputs": [
    {
     "name": "stdout",
     "output_type": "stream",
     "text": [
      " - Simulation set (winter): tki_zuthpen_berkel_basis.dsproj_data | Timestamps: 9 | his.nc and map.nc\n"
     ]
    }
   ],
   "source": [
    "# Select simulation sets and extract all data using xugrid/ugrid\n",
    "network.add_data_from_simulations_set(\n",
    "    set_name=\"winter\",\n",
    "    simulations_dir=dhydro_dir,\n",
    "    simulations_names=[\"tki_zuthpen_berkel_basis.dsproj_data\"],\n",
    "    simulation_output_dir=\"FlowFM\\\\output\",\n",
    "    simulations_ts=pd.date_range(\"2000-01-02 23:00\", periods=9, freq=\"2D\"),\n",
    ");"
   ]
  },
  {
   "cell_type": "code",
   "execution_count": 9,
   "metadata": {},
   "outputs": [
    {
     "name": "stdout",
     "output_type": "stream",
     "text": [
      "D-HYDRO-network analysed:\n",
      " - nodes and waterlevels\n",
      " - edges and discharges\n",
      " - stations / pumps / weirs / orifices / bridges / culverts / uniweirs / confluences / bifurcations / boundaries\n",
      "Exporting to geopackage:\n",
      " - areas, nodes, edges, stations, pumps, weirs, orifices, bridges, culverts, uniweirs, boundaries, \n",
      " - not available: basin_areas, split_nodes, basins, basin_connections, boundary_basin_connections, \n",
      "Export location: ..\\..\\ribasim_lumping_data\\results\\tki_zutphen_berkel\\ribasim_network.qgz\n"
     ]
    }
   ],
   "source": [
    "# Read network data and extract all objects (weirs/pumps/laterals/confluences/bifurcations)\n",
    "network.get_network_data(file_bc)\n",
    "network.export_to_geopackage()"
   ]
  },
  {
   "cell_type": "markdown",
   "metadata": {},
   "source": [
    "##### STEP 2: SPLIT NETWORK IN RIBASIM BASINS\n",
    "2. Split network in ribasim basins  \n",
    "    1. Specify model cut locations (id nodes or xy coordinates)  \n",
    "    2. Dividing the network based on the clipping locations (function to be built in xugrid?)  \n",
    "        1. Convert to networkx graph\n",
    "        2. Split network\n",
    "        3. TODO: What to do if you want to distinguish areas that drain into a main watercourse as a basin with the end of the inflow point? Have choices made between:</dd>\n",
    "            - simple: also cut the main waterway at this junction or\n",
    "            - difficult: continue to see the parts upstream and downstream of the inflow point together as one basin\n",
    "    3. Based on the split network, associated drain areas are determined by means of spatial join.\n",
    "    4. Use representative locations of areas as node location."
   ]
  },
  {
   "cell_type": "code",
   "execution_count": 10,
   "metadata": {},
   "outputs": [
    {
     "name": "stdout",
     "output_type": "stream",
     "text": [
      "48 split locations\n",
      " - weir: 48\n"
     ]
    }
   ],
   "source": [
    "# Define locations where the network should be split into Ribasim basins:\n",
    "network.add_split_nodes(weirs=True);"
   ]
  },
  {
   "cell_type": "code",
   "execution_count": 11,
   "metadata": {},
   "outputs": [
    {
     "name": "stdout",
     "output_type": "stream",
     "text": [
      "Create basins using split nodes:\n",
      " - create network graph from nodes/edges\n",
      " - split network graph at split locations\n",
      " - define numbers Ribasim-Basins and join edges/nodes\n",
      " - check whether each split location results in a split\n",
      " - create final locations Ribasim-Basins\n",
      " - define for each Ribasim-Basin the related basin area\n",
      " - create Ribasim-Edges between Boundary and Basin\n",
      " - create Ribasim-Edges between Basins and split locations\n",
      "Exporting to geopackage:\n",
      " - areas, nodes, edges, stations, pumps, weirs, orifices, bridges, culverts, uniweirs, basin_areas, split_nodes, basins, basin_connections, boundaries, boundary_basin_connections, \n",
      " - not available: \n",
      "Export location: ..\\..\\ribasim_lumping_data\\results\\tki_zutphen_berkel\\ribasim_network.qgz\n"
     ]
    }
   ],
   "source": [
    "# Create basins (gdf) based on nodes, edges, split_node_ids and areas\n",
    "network.create_basins_and_connections_based_on_split_nodes();\n",
    "# Export to geopackage\n",
    "network.export_to_geopackage()"
   ]
  },
  {
   "cell_type": "code",
   "execution_count": 12,
   "metadata": {},
   "outputs": [
    {
     "name": "stdout",
     "output_type": "stream",
     "text": [
      "69 split locations\n",
      " - pump: 4\n",
      " - weir: 46\n",
      " - uniweir: 9\n",
      " - orifice: 2\n",
      " - culvert: 7\n",
      " - node: 1\n"
     ]
    }
   ],
   "source": [
    "# Define locations where the network should be split into Ribasim basins:\n",
    "network.add_split_nodes(\n",
    "    weirs=True,\n",
    "    pumps=True,\n",
    "    uniweirs=True,\n",
    "    structures_ids_to_include=[\n",
    "        'kdu_DR80760025', # duiker vispassage bovenstrooms\n",
    "        'kst_ST80830001', 'kst_ST80810015', # onderdoorlaten bij verdeelpunt De Berkel (Zutphen)\n",
    "        'kdu_DR84930010', # duiker met terugslagklep Zutphen Noorderhaven (parallel aan gemaal)\n",
    "        'kdu_DR80950033', # duikers voor wijk Leesten\n",
    "        'kdu_DR80940046', 'kdu_DR80950043', 'kdu_DR80950151', # duikers voor wijk Zuidwijken\n",
    "        'kdu_DR80950103',\n",
    "    ], \n",
    "    structures_ids_to_exclude=[\n",
    "        'BCAL_3', 'BCAL_11', # stuwen voor hoogwaterafvoer De Berkel\n",
    "        'BBypass_Besselink_1', 'BBypass_Besselink_2', 'BBypass_Besselink_3', 'BBypass_Besselink_4', 'BBypass_Besselink_5', # visdrempels vispassage De Berkel\n",
    "        'kst_ST80950035', # verwarrende stuw ivm afwaterende eenheid (Zutphen: Leesten)\n",
    "        'kst_ST84930001', # verwarrende stuw ivm afwaterende eenheid (Zutphen: Noorderhaven)\n",
    "    ], \n",
    "    node_ids_to_include=[\n",
    "        419, # voorbeeld splitsing\n",
    "        # 1455, # extra punt rondom verdeelpunt De Berkel\n",
    "    ],\n",
    "    node_ids_to_exclude=[],\n",
    ");"
   ]
  },
  {
   "cell_type": "code",
   "execution_count": 13,
   "metadata": {},
   "outputs": [
    {
     "name": "stdout",
     "output_type": "stream",
     "text": [
      "Create basins using split nodes:\n",
      " - create network graph from nodes/edges\n",
      " - split network graph at split locations\n",
      " - define numbers Ribasim-Basins and join edges/nodes\n",
      " - check whether each split location results in a split\n",
      " - create final locations Ribasim-Basins\n",
      " - define for each Ribasim-Basin the related basin area\n",
      " - create Ribasim-Edges between Boundary and Basin\n",
      " - create Ribasim-Edges between Basins and split locations\n",
      "Exporting to geopackage:\n",
      " - areas, nodes, edges, stations, pumps, weirs, orifices, bridges, culverts, uniweirs, basin_areas, split_nodes, basins, basin_connections, boundaries, boundary_basin_connections, \n",
      " - not available: \n",
      "Export location: ..\\..\\ribasim_lumping_data\\results\\tki_zutphen_berkel\\ribasim_network.qgz\n"
     ]
    }
   ],
   "source": [
    "# Create basins (gdf) based on nodes, edges, split_node_ids and areas\n",
    "network.create_basins_and_connections_based_on_split_nodes();\n",
    "# Export to geopackage\n",
    "network.export_to_geopackage()"
   ]
  },
  {
   "cell_type": "markdown",
   "metadata": {},
   "source": [
    "##### STEP 3: CREATE SETTINGS RIBASIM BASINS\n",
    "3. Create settings ribasim basins\n",
    "    1. Determine volume-water level relations for the Basins. Relationship between total volume and water levels within basin and water level representative outflow point:\n",
    "        1. Include all disposal in area: storage in calculation nodes and possible disposal nodes.\n",
    "        2. Also include storage in tertiary system? Modflow or possibly RR?\n",
    "        3. Practical point we ran into: What to do with the storage in the locations where you are just making the cut? Distribute evenly over the connected basins?\n",
    "    2. Lump and add lateral inflow/outflow within areas including precipitation/evaporation.\n",
    "        1. MODFLOW/MetaSWAP: Lump fluxes over area.\n",
    "        2. D-Hydro: Lump inflow of laterals.\n"
   ]
  },
  {
   "cell_type": "code",
   "execution_count": 14,
   "metadata": {},
   "outputs": [],
   "source": [
    "# TODO: CHECK WITH HKV WHAT THEY ARE DOING AND MAYBE IMPORT THEIR FUNCTIONS"
   ]
  },
  {
   "cell_type": "code",
   "execution_count": 16,
   "metadata": {},
   "outputs": [],
   "source": [
    "ribasim_model = network.generate_ribasim_model()"
   ]
  },
  {
   "cell_type": "code",
   "execution_count": 18,
   "metadata": {},
   "outputs": [],
   "source": [
    "# ribasim_model.write(f\"{results_dir}/{network.name}\")"
   ]
  },
  {
   "cell_type": "code",
   "execution_count": 20,
   "metadata": {},
   "outputs": [
    {
     "data": {
      "text/html": [
       "<div>\n",
       "<style scoped>\n",
       "    .dataframe tbody tr th:only-of-type {\n",
       "        vertical-align: middle;\n",
       "    }\n",
       "\n",
       "    .dataframe tbody tr th {\n",
       "        vertical-align: top;\n",
       "    }\n",
       "\n",
       "    .dataframe thead th {\n",
       "        text-align: right;\n",
       "    }\n",
       "</style>\n",
       "<table border=\"1\" class=\"dataframe\">\n",
       "  <thead>\n",
       "    <tr style=\"text-align: right;\">\n",
       "      <th></th>\n",
       "      <th>mesh1d_node_id</th>\n",
       "      <th>mesh1d_nEdges</th>\n",
       "      <th>geometry</th>\n",
       "      <th>object_type</th>\n",
       "      <th>projection_x</th>\n",
       "      <th>projection_y</th>\n",
       "      <th>mesh1d_nNodes</th>\n",
       "      <th>basin</th>\n",
       "      <th>status</th>\n",
       "      <th>split_type</th>\n",
       "    </tr>\n",
       "  </thead>\n",
       "  <tbody>\n",
       "    <tr>\n",
       "      <th>0</th>\n",
       "      <td>kgm_GM80920002</td>\n",
       "      <td>104</td>\n",
       "      <td>POINT (216581.528 457573.019)</td>\n",
       "      <td>pump</td>\n",
       "      <td>216581.527662</td>\n",
       "      <td>457573.019080</td>\n",
       "      <td>-1</td>\n",
       "      <td>NaN</td>\n",
       "      <td>True</td>\n",
       "      <td>pump</td>\n",
       "    </tr>\n",
       "    <tr>\n",
       "      <th>1</th>\n",
       "      <td>kgm_GM84930001</td>\n",
       "      <td>1685</td>\n",
       "      <td>POINT (211236.797 463775.030)</td>\n",
       "      <td>pump</td>\n",
       "      <td>211236.796738</td>\n",
       "      <td>463775.029554</td>\n",
       "      <td>-1</td>\n",
       "      <td>NaN</td>\n",
       "      <td>True</td>\n",
       "      <td>pump</td>\n",
       "    </tr>\n",
       "    <tr>\n",
       "      <th>2</th>\n",
       "      <td>kgm_GM80950124</td>\n",
       "      <td>1691</td>\n",
       "      <td>POINT (210161.557 460774.353)</td>\n",
       "      <td>pump</td>\n",
       "      <td>210161.557283</td>\n",
       "      <td>460774.353015</td>\n",
       "      <td>-1</td>\n",
       "      <td>NaN</td>\n",
       "      <td>True</td>\n",
       "      <td>pump</td>\n",
       "    </tr>\n",
       "    <tr>\n",
       "      <th>3</th>\n",
       "      <td>kgm_GM80750028</td>\n",
       "      <td>2388</td>\n",
       "      <td>POINT (222853.698 464144.803)</td>\n",
       "      <td>pump</td>\n",
       "      <td>222853.697638</td>\n",
       "      <td>464144.802696</td>\n",
       "      <td>-1</td>\n",
       "      <td>NaN</td>\n",
       "      <td>True</td>\n",
       "      <td>pump</td>\n",
       "    </tr>\n",
       "    <tr>\n",
       "      <th>4</th>\n",
       "      <td>kst_ST80940035</td>\n",
       "      <td>38</td>\n",
       "      <td>POINT (213450.820 457384.744)</td>\n",
       "      <td>weir</td>\n",
       "      <td>213450.819717</td>\n",
       "      <td>457384.743836</td>\n",
       "      <td>-1</td>\n",
       "      <td>NaN</td>\n",
       "      <td>True</td>\n",
       "      <td>weir</td>\n",
       "    </tr>\n",
       "    <tr>\n",
       "      <th>...</th>\n",
       "      <td>...</td>\n",
       "      <td>...</td>\n",
       "      <td>...</td>\n",
       "      <td>...</td>\n",
       "      <td>...</td>\n",
       "      <td>...</td>\n",
       "      <td>...</td>\n",
       "      <td>...</td>\n",
       "      <td>...</td>\n",
       "      <td>...</td>\n",
       "    </tr>\n",
       "    <tr>\n",
       "      <th>64</th>\n",
       "      <td>kdu_DR80950033</td>\n",
       "      <td>618</td>\n",
       "      <td>POINT (212180.726 459822.375)</td>\n",
       "      <td>culvert</td>\n",
       "      <td>212180.725618</td>\n",
       "      <td>459822.375267</td>\n",
       "      <td>-1</td>\n",
       "      <td>NaN</td>\n",
       "      <td>True</td>\n",
       "      <td>culvert</td>\n",
       "    </tr>\n",
       "    <tr>\n",
       "      <th>65</th>\n",
       "      <td>kdu_DR80950103</td>\n",
       "      <td>944</td>\n",
       "      <td>POINT (210729.841 460443.188)</td>\n",
       "      <td>culvert</td>\n",
       "      <td>210729.840700</td>\n",
       "      <td>460443.187549</td>\n",
       "      <td>-1</td>\n",
       "      <td>NaN</td>\n",
       "      <td>True</td>\n",
       "      <td>culvert</td>\n",
       "    </tr>\n",
       "    <tr>\n",
       "      <th>66</th>\n",
       "      <td>kdu_DR84930010</td>\n",
       "      <td>1688</td>\n",
       "      <td>POINT (211235.124 463775.333)</td>\n",
       "      <td>culvert</td>\n",
       "      <td>211235.124394</td>\n",
       "      <td>463775.333020</td>\n",
       "      <td>-1</td>\n",
       "      <td>NaN</td>\n",
       "      <td>True</td>\n",
       "      <td>culvert</td>\n",
       "    </tr>\n",
       "    <tr>\n",
       "      <th>67</th>\n",
       "      <td>kdu_DR80760025</td>\n",
       "      <td>2015</td>\n",
       "      <td>POINT (219551.087 463577.531)</td>\n",
       "      <td>culvert</td>\n",
       "      <td>219551.086748</td>\n",
       "      <td>463577.531439</td>\n",
       "      <td>-1</td>\n",
       "      <td>NaN</td>\n",
       "      <td>True</td>\n",
       "      <td>culvert</td>\n",
       "    </tr>\n",
       "    <tr>\n",
       "      <th>68</th>\n",
       "      <td>1009_1</td>\n",
       "      <td>-1</td>\n",
       "      <td>POINT (215801.577 459247.683)</td>\n",
       "      <td>node</td>\n",
       "      <td>215801.577000</td>\n",
       "      <td>459247.683000</td>\n",
       "      <td>419</td>\n",
       "      <td>1.0</td>\n",
       "      <td>True</td>\n",
       "      <td>node</td>\n",
       "    </tr>\n",
       "  </tbody>\n",
       "</table>\n",
       "<p>69 rows × 10 columns</p>\n",
       "</div>"
      ],
      "text/plain": [
       "    mesh1d_node_id  mesh1d_nEdges                       geometry object_type  \\\n",
       "0   kgm_GM80920002            104  POINT (216581.528 457573.019)        pump   \n",
       "1   kgm_GM84930001           1685  POINT (211236.797 463775.030)        pump   \n",
       "2   kgm_GM80950124           1691  POINT (210161.557 460774.353)        pump   \n",
       "3   kgm_GM80750028           2388  POINT (222853.698 464144.803)        pump   \n",
       "4   kst_ST80940035             38  POINT (213450.820 457384.744)        weir   \n",
       "..             ...            ...                            ...         ...   \n",
       "64  kdu_DR80950033            618  POINT (212180.726 459822.375)     culvert   \n",
       "65  kdu_DR80950103            944  POINT (210729.841 460443.188)     culvert   \n",
       "66  kdu_DR84930010           1688  POINT (211235.124 463775.333)     culvert   \n",
       "67  kdu_DR80760025           2015  POINT (219551.087 463577.531)     culvert   \n",
       "68          1009_1             -1  POINT (215801.577 459247.683)        node   \n",
       "\n",
       "     projection_x   projection_y  mesh1d_nNodes  basin  status split_type  \n",
       "0   216581.527662  457573.019080             -1    NaN    True       pump  \n",
       "1   211236.796738  463775.029554             -1    NaN    True       pump  \n",
       "2   210161.557283  460774.353015             -1    NaN    True       pump  \n",
       "3   222853.697638  464144.802696             -1    NaN    True       pump  \n",
       "4   213450.819717  457384.743836             -1    NaN    True       weir  \n",
       "..            ...            ...            ...    ...     ...        ...  \n",
       "64  212180.725618  459822.375267             -1    NaN    True    culvert  \n",
       "65  210729.840700  460443.187549             -1    NaN    True    culvert  \n",
       "66  211235.124394  463775.333020             -1    NaN    True    culvert  \n",
       "67  219551.086748  463577.531439             -1    NaN    True    culvert  \n",
       "68  215801.577000  459247.683000            419    1.0    True       node  \n",
       "\n",
       "[69 rows x 10 columns]"
      ]
     },
     "execution_count": 20,
     "metadata": {},
     "output_type": "execute_result"
    }
   ],
   "source": [
    "network.split_nodes"
   ]
  },
  {
   "cell_type": "markdown",
   "metadata": {},
   "source": []
  },
  {
   "cell_type": "markdown",
   "metadata": {},
   "source": [
    "##### STEP 4: BOUNDARIES AND BOUNDARY CONDITIONS FOR INFLOW/OUTFLOW POINTS\n",
    "4. Boundaries and boundary conditions of inflow/outflow points of the system/network\n",
    "     1. Automatically identify network edges based on network and areas.\n",
    "     2. Selecting borders and border type"
   ]
  },
  {
   "cell_type": "code",
   "execution_count": null,
   "metadata": {},
   "outputs": [],
   "source": []
  },
  {
   "cell_type": "markdown",
   "metadata": {},
   "source": [
    "##### STEP 5: CONNECTIONS BETWEEN RIBASIM - BASINS:\n",
    "5. Connections Between Ribasim-Basins:\n",
    "    1. Automatically generate connections between Basins. Determine per simulation set the flow and flow direction (winter/summer/supply):\n",
    "        1. Specify preferred exchange type (maybe per split location or basin)\n",
    "        2. Determine presence and direction based on flow direction.\n",
    "        3. Place connector nodes near the cut locations (but not all on top of each other).\n",
    "    2. Definition of exchange relations based on preference and manual choice model"
   ]
  },
  {
   "cell_type": "code",
   "execution_count": null,
   "metadata": {},
   "outputs": [],
   "source": []
  },
  {
   "cell_type": "markdown",
   "metadata": {},
   "source": [
    "##### STEP 6: GENERATE SETTINGS FOR EACH CONNECTION:\n",
    "6. Generate settings for the exchanges:\n",
    "    1. TabulatedRatingCurve: QH/QV relationships\n",
    "    2. Manning: Manning and distance\n",
    "    3. FractionalFlows for splits with distributions\n",
    "    4. PID controller: Translate control from D-Hydro-RTC"
   ]
  },
  {
   "cell_type": "code",
   "execution_count": null,
   "metadata": {},
   "outputs": [],
   "source": [
    "# TODO: CHECK WITH HKV WHAT THEY ARE DOING AND MAYBE IMPORT THEIR FUNCTIONS"
   ]
  },
  {
   "cell_type": "markdown",
   "metadata": {},
   "source": [
    "##### STEP 7: ADD ALL TIME-DEPENDENT INPUT\n",
    "7. Add all time-dependent inputs:\n",
    "    1. Hydraulic boundary conditions.\n",
    "    2. Precipitation on and evaporation from open water\n",
    "    3. Lateral inflow/outflow to groundwater or tertiary system\n",
    "    4. Surface water abstractions"
   ]
  },
  {
   "cell_type": "code",
   "execution_count": null,
   "metadata": {},
   "outputs": [],
   "source": [
    "# TODO: CHECK WITH HKV WHAT THEY ARE DOING AND MAYBE IMPORT THEIR FUNCTIONS"
   ]
  },
  {
   "cell_type": "code",
   "execution_count": null,
   "metadata": {},
   "outputs": [],
   "source": []
  },
  {
   "cell_type": "code",
   "execution_count": null,
   "metadata": {},
   "outputs": [],
   "source": []
  },
  {
   "cell_type": "code",
   "execution_count": null,
   "metadata": {},
   "outputs": [],
   "source": []
  }
 ],
 "metadata": {
  "kernelspec": {
   "display_name": "ribasim",
   "language": "python",
   "name": "python3"
  },
  "language_info": {
   "codemirror_mode": {
    "name": "ipython",
    "version": 3
   },
   "file_extension": ".py",
   "mimetype": "text/x-python",
   "name": "python",
   "nbconvert_exporter": "python",
   "pygments_lexer": "ipython3",
   "version": "3.10.0"
  },
  "vscode": {
   "interpreter": {
    "hash": "dfc666eb4a62d5826d85bcfe032d59ef4dfc699941e19e14832498fb495ee494"
   }
  }
 },
 "nbformat": 4,
 "nbformat_minor": 4
}
