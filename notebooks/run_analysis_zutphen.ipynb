{
 "cells": [
  {
   "cell_type": "code",
   "execution_count": null,
   "metadata": {},
   "outputs": [],
   "source": [
    "import sys\n",
    "from pathlib import Path\n",
    "\n",
    "# add directory with ribasim-repository\n",
    "sys.path.append(\"..\\\\..\\\\ribasim\\\\python\\\\ribasim\")\n",
    "import ribasim\n",
    "\n",
    "# add directory with ribasim_lumping-repository\n",
    "sys.path.append(\"..\")\n",
    "import ribasim_lumping\n",
    "\n",
    "import pandas as pd\n",
    "import geopandas as gpd\n",
    "\n",
    "from numba.core.errors import NumbaDeprecationWarning\n",
    "import warnings\n",
    "\n",
    "warnings.simplefilter(\"ignore\", category=NumbaDeprecationWarning)\n",
    "warnings.simplefilter(\"ignore\", category=UserWarning)\n",
    "warnings.simplefilter(\"ignore\", category=FutureWarning)"
   ]
  },
  {
   "cell_type": "code",
   "execution_count": null,
   "metadata": {},
   "outputs": [],
   "source": [
    "%load_ext autoreload\n",
    "%autoreload 2"
   ]
  },
  {
   "cell_type": "code",
   "execution_count": null,
   "metadata": {},
   "outputs": [],
   "source": [
    "# Define base_dir, results_dir and network name\n",
    "base_dir                = Path(\"..\\\\..\\\\ribasim_lumping_data\\\\\")\n",
    "network_name            = \"tki_zutphen_berkel\"\n",
    "dhydro_basis_dir        = Path(base_dir, network_name, \"2_dhydro\\\\\") # zelfde directory, want gebruik zelfde som\n",
    "dhydro_results_dir      = Path(base_dir, network_name, \"2_dhydro\\\\\") # zelfde directory, want gebruik zelfde som\n",
    "results_dir             = Path(base_dir, network_name, \"3_ribasim\\\\\")"
   ]
  },
  {
   "cell_type": "code",
   "execution_count": null,
   "metadata": {},
   "outputs": [],
   "source": [
    "# Create networkanalysis\n",
    "network = ribasim_lumping.create_ribasim_lumping_network(\n",
    "    base_dir=base_dir,\n",
    "    name=network_name,\n",
    "    dhydro_basis_dir=dhydro_basis_dir,\n",
    "    dhydro_results_dir=dhydro_results_dir,\n",
    "    results_dir=results_dir,\n",
    "    crs=28992\n",
    ")\n",
    "# network.export_to_geopackage()"
   ]
  },
  {
   "cell_type": "code",
   "execution_count": null,
   "metadata": {},
   "outputs": [],
   "source": [
    "# Load areas (discharge units: afwaterende eenheden)\n",
    "areas_dir               = Path(base_dir, network_name, \"1_areas\")\n",
    "areas_file_name         = f\"{network_name}_afw_eenheden.shp\"\n",
    "areas_id_column         = \"GFEIDENT\"\n",
    "network.read_areas(\n",
    "    areas_file_path=Path(areas_dir, areas_file_name), \n",
    "    areas_id_column=areas_id_column\n",
    ")"
   ]
  },
  {
   "cell_type": "code",
   "execution_count": null,
   "metadata": {},
   "outputs": [],
   "source": [
    "# Read network data and extract all objects (weirs/pumps/laterals/confluences/bifurcations)\n",
    "results = network.add_basis_simulation_data_set(\n",
    "    set_name=\"winter\", \n",
    "    simulation_name=\"tki_zuthpen_berkel_basis.dsproj_data\"\n",
    ")"
   ]
  },
  {
   "cell_type": "code",
   "execution_count": null,
   "metadata": {},
   "outputs": [],
   "source": [
    "# Add simulation sets for winter, summer, etc.\n",
    "network.add_simulation_data_from_set(\n",
    "    set_name=\"winter\",\n",
    "    simulations_names=[\"tki_zuthpen_berkel_basis.dsproj_data\"],\n",
    "    simulations_ts=pd.date_range(\"2000-01-06 23:00\", periods=9, freq=\"6D\"),\n",
    ");"
   ]
  },
  {
   "cell_type": "code",
   "execution_count": null,
   "metadata": {},
   "outputs": [],
   "source": [
    "# Define locations where the network should be split into Ribasim basins:\n",
    "network.add_split_nodes(\n",
    "    weirs=True,\n",
    "    pumps=True,\n",
    "    uniweirs=True,\n",
    "    orifices=True,\n",
    "    structures_ids_to_include=[\n",
    "        'kdu_DR80760025', # duiker vispassage bovenstrooms\n",
    "        'kdu_DR84930010', # duiker met terugslagklep Zutphen Noorderhaven (parallel aan gemaal)\n",
    "        'kdu_DR80950033', # duikers voor wijk Leesten\n",
    "        'kdu_DR80940046', 'kdu_DR80950043', 'kdu_DR80950151', # duikers voor wijk Zuidwijken\n",
    "        'kdu_DR80950103',\n",
    "        'kdu_DR80740070', # inlaat twentekanaal\n",
    "    ], \n",
    "    structures_ids_to_exclude=[\n",
    "        'BCAL_3', 'BCAL_11', # stuwen voor hoogwaterafvoer De Berkel\n",
    "        'BBypass_Besselink_1', 'BBypass_Besselink_2', 'BBypass_Besselink_3', 'BBypass_Besselink_4', 'BBypass_Besselink_5', # visdrempels vispassage De Berkel\n",
    "        'kst_ST80950035', # verwarrende stuw ivm afwaterende eenheid (Zutphen: Leesten)\n",
    "        'kst_ST84930001', # verwarrende stuw ivm afwaterende eenheid (Zutphen: Noorderhaven)\n",
    "        'kst_ST80830045', # weir tussen uitstroompunten Zutphen\n",
    "        'kst_ST80820031', 'kst_ST80820042', # test\n",
    "    ], \n",
    "    edge_ids_to_include=[1801],\n",
    ");"
   ]
  },
  {
   "cell_type": "code",
   "execution_count": null,
   "metadata": {},
   "outputs": [],
   "source": [
    "# Create basins (gdf) based on nodes, edges, split_node_ids and areas\n",
    "network.generate_ribasim_network();\n",
    "# Export to geopackage\n",
    "network.export_to_geopackage()"
   ]
  },
  {
   "cell_type": "code",
   "execution_count": null,
   "metadata": {},
   "outputs": [],
   "source": [
    "# specify translation split_nodes to ribasim-nodes per type\n",
    "split_node_type_conversion = {\n",
    "    'weir': 'TabulatedRatingCurve', \n",
    "    'uniweir': 'TabulatedRatingCurve' ,\n",
    "    'pump': 'Pump', \n",
    "    'culvert': 'TabulatedRatingCurve', \n",
    "    'manual': 'ManningResistance',\n",
    "    'orifice' : 'TabulatedRatingCurve',\n",
    "    'edge': 'ManningResistance',\n",
    "    'level_boundary_connection': 'LevelResistance'\n",
    "}\n",
    "# specify translation for specific split_nodes to ribasim-nodes\n",
    "split_node_id_conversion = {\n",
    "    'sto_AE80770024': 'ManningResistance', \n",
    "    'kdu_DR80740070': 'ManningResistance',\n",
    "    # duikers voor wijk Zuidwijken\n",
    "    'kdu_DR80940046': 'ManningResistance', \n",
    "    'kdu_DR80950043': 'ManningResistance', \n",
    "    'kdu_DR80950151': 'ManningResistance', \n",
    "}"
   ]
  },
  {
   "cell_type": "code",
   "execution_count": null,
   "metadata": {},
   "outputs": [],
   "source": [
    "# Generate Ribasim model en exporteer naar geopackage\n",
    "ribasim_model = network.generate_ribasim_model(\n",
    "    split_node_type_conversion=split_node_type_conversion, \n",
    "    split_node_id_conversion=split_node_id_conversion\n",
    ")\n",
    "ribasim_model.write(results_dir / \"ribasim_model\")"
   ]
  },
  {
   "cell_type": "code",
   "execution_count": null,
   "metadata": {},
   "outputs": [],
   "source": []
  },
  {
   "cell_type": "code",
   "execution_count": null,
   "metadata": {},
   "outputs": [],
   "source": []
  },
  {
   "cell_type": "code",
   "execution_count": null,
   "metadata": {},
   "outputs": [],
   "source": []
  },
  {
   "cell_type": "code",
   "execution_count": null,
   "metadata": {},
   "outputs": [],
   "source": [
    "network.basins_gdf"
   ]
  },
  {
   "cell_type": "code",
   "execution_count": null,
   "metadata": {},
   "outputs": [],
   "source": [
    "network.his_data.weirgen_state.to_dataframe().reset_index().set_index(['weirgens', 'set', 'condition']).sort_index()"
   ]
  },
  {
   "cell_type": "code",
   "execution_count": null,
   "metadata": {},
   "outputs": [],
   "source": []
  },
  {
   "cell_type": "code",
   "execution_count": null,
   "metadata": {},
   "outputs": [],
   "source": []
  }
 ],
 "metadata": {
  "kernelspec": {
   "display_name": "ribasim",
   "language": "python",
   "name": "python3"
  },
  "language_info": {
   "codemirror_mode": {
    "name": "ipython",
    "version": 3
   },
   "file_extension": ".py",
   "mimetype": "text/x-python",
   "name": "python",
   "nbconvert_exporter": "python",
   "pygments_lexer": "ipython3",
   "version": "3.11.5"
  },
  "vscode": {
   "interpreter": {
    "hash": "dfc666eb4a62d5826d85bcfe032d59ef4dfc699941e19e14832498fb495ee494"
   }
  }
 },
 "nbformat": 4,
 "nbformat_minor": 4
}
