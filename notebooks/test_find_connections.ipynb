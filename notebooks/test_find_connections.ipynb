{
 "cells": [
  {
   "cell_type": "code",
   "execution_count": null,
   "metadata": {},
   "outputs": [],
   "source": [
    "import sys\n",
    "from pathlib import Path\n",
    "\n",
    "sys.path.append(\"..\")\n",
    "from ribasim_lumping import RibasimLumpingNetwork\n",
    "\n",
    "import pandas as pd\n",
    "import numpy as np\n",
    "import geopandas as gpd\n",
    "from pydantic import BaseModel\n",
    "import xarray as xr\n",
    "import dfm_tools as dfmt\n",
    "import xugrid as xu\n",
    "import matplotlib.pyplot as plt\n",
    "import random\n",
    "\n",
    "from numba.core.errors import NumbaDeprecationWarning, NumbaPendingDeprecationWarning\n",
    "import warnings\n",
    "\n",
    "warnings.simplefilter(\"ignore\", category=NumbaDeprecationWarning)\n",
    "\n",
    "import networkx as nx\n",
    "import ribasim"
   ]
  },
  {
   "cell_type": "code",
   "execution_count": null,
   "metadata": {},
   "outputs": [],
   "source": [
    "%load_ext autoreload\n",
    "%autoreload 2"
   ]
  },
  {
   "cell_type": "markdown",
   "metadata": {},
   "source": [
    "Define base directory and results directory"
   ]
  },
  {
   "cell_type": "code",
   "execution_count": null,
   "metadata": {},
   "outputs": [],
   "source": [
    "base_dir = Path(\"..\\\\..\\\\ribasim_lumping_data\\\\\")\n",
    "results_dir = Path(base_dir, \"results\")"
   ]
  },
  {
   "cell_type": "markdown",
   "metadata": {},
   "source": [
    "Define network name and load areas (discharge units: afwaterende eenheden)"
   ]
  },
  {
   "cell_type": "code",
   "execution_count": null,
   "metadata": {},
   "outputs": [],
   "source": [
    "network_name = \"zutphen_tki_netwerk\"\n",
    "\n",
    "areas_file_path = Path(base_dir, \"afw_eenheden\\\\wrij_afwateringseenheden_clip_Zutphen.shp\")\n",
    "areas_gdf = gpd.read_file(areas_file_path)"
   ]
  },
  {
   "cell_type": "markdown",
   "metadata": {},
   "source": [
    "Create networkanalysis"
   ]
  },
  {
   "cell_type": "code",
   "execution_count": null,
   "metadata": {},
   "outputs": [],
   "source": [
    "network = RibasimLumpingNetwork(name=network_name, areas_gdf=areas_gdf)"
   ]
  },
  {
   "cell_type": "markdown",
   "metadata": {},
   "source": [
    "Select simulation sets and extract all data points"
   ]
  },
  {
   "cell_type": "code",
   "execution_count": null,
   "metadata": {},
   "outputs": [],
   "source": [
    "network.add_data_from_simulations_set(\n",
    "    set_name=\"winter\",\n",
    "    simulations_dir=Path(base_dir, \"d-hydro\\\\\"),\n",
    "    simulations_names=[\"tki_zuthpen_berkel_basis.dsproj\"],\n",
    "    simulations_ts=pd.date_range(\"2000-01-02 23:00\", periods=9, freq=\"2D\"),\n",
    ")\n",
    "network.add_data_from_simulations_set(\n",
    "    set_name=\"zomer\",\n",
    "    simulations_dir=Path(base_dir, \"d-hydro\\\\\"),\n",
    "    simulations_names=[\"tki_zuthpen_berkel_basis.dsproj\"],\n",
    "    simulations_ts=pd.date_range(\"2000-01-02 23:00\", periods=9, freq=\"2D\"),\n",
    ");"
   ]
  },
  {
   "cell_type": "markdown",
   "metadata": {},
   "source": [
    "Read network data and extract all objects (weirs/pumps/laterals/confluences/bifurcations)"
   ]
  },
  {
   "cell_type": "code",
   "execution_count": null,
   "metadata": {},
   "outputs": [],
   "source": [
    "network.get_network_data()"
   ]
  },
  {
   "cell_type": "markdown",
   "metadata": {},
   "source": [
    "Define node_ids on which to split the network into Ribasim basins:\n",
    "- define types to include\n",
    "- define additional split nodes by id\n",
    "- define which of the node_ids should be excluded\n",
    "- combine types of split_node_ids\n",
    "- add split_nodes to network"
   ]
  },
  {
   "cell_type": "code",
   "execution_count": null,
   "metadata": {},
   "outputs": [],
   "source": [
    "split_node_ids = network.get_node_ids_from_type(\n",
    "    bifurcations=False,\n",
    "    confluences=False,\n",
    "    weirs=True,\n",
    "    pumps=True,\n",
    "    laterals=False,\n",
    ")\n",
    "split_node_ids_to_include = [1452, 2378, 419, 96]\n",
    "split_node_ids_to_exclude = [314]\n",
    "\n",
    "split_node_ids = [node_id for node_id in split_node_ids + split_node_ids_to_include \n",
    "                  if node_id not in split_node_ids_to_exclude]\n",
    "\n",
    "network.add_split_nodes_based_on_node_ids(split_node_ids=split_node_ids);"
   ]
  },
  {
   "cell_type": "markdown",
   "metadata": {},
   "source": [
    "Create basins (gdf) based on nodes, edges, split_node_ids and areas"
   ]
  },
  {
   "cell_type": "code",
   "execution_count": null,
   "metadata": {},
   "outputs": [],
   "source": [
    "network.create_basins_based_on_split_nodes();"
   ]
  },
  {
   "attachments": {},
   "cell_type": "markdown",
   "metadata": {},
   "source": [
    "TODO: Find and create ribasim_edges_gdf between basins"
   ]
  },
  {
   "cell_type": "code",
   "execution_count": null,
   "metadata": {},
   "outputs": [],
   "source": [
    "network.basins_gdf.head(3)"
   ]
  },
  {
   "cell_type": "code",
   "execution_count": null,
   "metadata": {},
   "outputs": [],
   "source": [
    "network.split_nodes.head(3)"
   ]
  },
  {
   "cell_type": "code",
   "execution_count": null,
   "metadata": {},
   "outputs": [],
   "source": [
    "network.nodes_gdf.head(3)"
   ]
  },
  {
   "cell_type": "code",
   "execution_count": null,
   "metadata": {},
   "outputs": [],
   "source": [
    "network.edges_gdf.head(3)"
   ]
  },
  {
   "cell_type": "code",
   "execution_count": null,
   "metadata": {},
   "outputs": [],
   "source": [
    "\n",
    "ribasim_edges_gdf = network.split_nodes[['mesh1d_nNodes','geometry']]\n",
    "ribasim_edges_gdf = ribasim_edges_gdf.rename(columns={\"geometry\":\"geometry_splitnode\"})\n",
    "\n",
    "# merge splitnodes with edges\n",
    "ribasim_edges_ds = ribasim_edges_gdf.merge(network.edges_gdf[['basin', 'start_node_no', 'end_node_no','mesh1d_nEdges']], left_on='mesh1d_nNodes', right_on='start_node_no')\n",
    "ribasim_edges_us = ribasim_edges_gdf.merge(network.edges_gdf[['basin', 'start_node_no','end_node_no','mesh1d_nEdges']], left_on='mesh1d_nNodes', right_on='end_node_no')\n",
    "\n",
    "# DS\n",
    "# merge splitnodes with basins\n",
    "ribasim_edges_ds = ribasim_edges_ds.merge(network.basins_gdf[['basin', 'geometry']], left_on='basin', right_on='basin').rename(columns={\"geometry\":\"geometry_basin\"})\n",
    "ribasim_edges_ds['direction'] = 'in'\n",
    "basin_connections_ds = ribasim_edges_ds.copy()\n",
    "\n",
    "# draw connection\n",
    "from shapely.geometry import LineString\n",
    "ribasim_edges_ds['geometry'] = ribasim_edges_ds.apply(lambda row: LineString([row['geometry_splitnode'], row['geometry_basin']]), axis=1)\n",
    "ribasim_edges_ds = gpd.GeoDataFrame(ribasim_edges_ds, geometry='geometry', crs=28992)\n",
    "\n",
    "\n",
    "# US\n",
    "# merge splitnodes with basins\n",
    "ribasim_edges_us = ribasim_edges_us.merge(network.basins_gdf[['basin', 'geometry']], left_on='basin', right_on='basin').rename(columns={\"geometry\":\"geometry_basin\"})\n",
    "ribasim_edges_us['direction'] = 'out'\n",
    "basin_connections_us = ribasim_edges_us.copy()\n",
    "\n",
    "# draw connection\n",
    "ribasim_edges_us['geometry'] = ribasim_edges_us.apply(lambda row: LineString([row['geometry_basin'],row['geometry_splitnode']]), axis=1)\n",
    "ribasim_edges_us = gpd.GeoDataFrame(ribasim_edges_us, geometry='geometry', crs = 28992)\n",
    "\n",
    "# concat us and ds\n",
    "ribasim_edges_gdf = pd.concat([ribasim_edges_ds, ribasim_edges_us])\n",
    "# basin_connections = ribasim_edges_gdf.copy()\n",
    "\n",
    "ribasim_edges_gdf = ribasim_edges_gdf.drop(columns=['geometry_splitnode','geometry_basin'])\n",
    "\n",
    "# merge basin connections with nodes\n",
    "basin_connections_us = basin_connections_us.merge(network.nodes_gdf[['mesh1d_nNodes', 'geometry']], left_on='start_node_no', right_on='mesh1d_nNodes', suffixes=('','_r')).rename(columns={\"geometry\":\"geometry_edge_start_node\"})\n",
    "basin_connections_ds = basin_connections_ds.merge(network.nodes_gdf[['mesh1d_nNodes', 'geometry']], left_on='end_node_no', right_on='mesh1d_nNodes', suffixes=('','_r')).rename(columns={\"geometry\":\"geometry_edge_end_node\"})\n",
    "# basin_connections_us['x'] = basin_connections_us.geometry_edge_start_node.x\n",
    "\n",
    "basin_connections_us.head(3)"
   ]
  },
  {
   "cell_type": "code",
   "execution_count": null,
   "metadata": {},
   "outputs": [],
   "source": [
    "basin_connections_us['coords'] = basin_connections_us.geometry_basin.apply(lambda p: list(p.coords)[0])\n",
    "# basin_connections_us['coords'] = (basin_connections_us.geometry_basin.apply(lambda p: p.x) + basin_connections_us.geometry_splitnode.apply(lambda p: p.x))/2\n",
    "basin_connections_us.head(3)"
   ]
  },
  {
   "cell_type": "code",
   "execution_count": null,
   "metadata": {},
   "outputs": [],
   "source": [
    "# merge upstream and downstream connections\n",
    "basin_connections_gdf = basin_connections_us.merge(basin_connections_ds, left_on='mesh1d_nNodes',right_on='mesh1d_nNodes',suffixes=('_out','_in'))\n",
    "\n",
    "# add coordinate in middle of two nodes upstream and downstream of splitpoint\n",
    "basin_connections_gdf['x'] = (basin_connections_gdf.geometry_edge_start_node.apply(lambda p: p.x) + basin_connections_gdf.geometry_edge_end_node.apply(lambda p: p.x))/2\n",
    "basin_connections_gdf['y'] = (basin_connections_gdf.geometry_edge_start_node.apply(lambda p: p.y) + basin_connections_gdf.geometry_edge_end_node.apply(lambda p: p.y))/2\n",
    "basin_connections_gdf['extra_point'] = gpd.points_from_xy(basin_connections_gdf['x'], basin_connections_gdf['y'])\n",
    "\n",
    "# basin_connections_gdf['geometry'] = basin_connections_gdf.apply(lambda row: LineString([row['geometry_basin_in'],row['geometry_basin_out']]), axis=1)\n",
    "basin_connections_gdf['geometry'] = basin_connections_gdf.apply(lambda row: LineString([row['geometry_basin_out'],row['extra_point'],row['geometry_basin_in']]), axis=1)\n",
    "# alternative: draw line via split node\n",
    "# basin_connections_gdf['geometry'] = basin_connections_gdf.apply(lambda row: LineString([row['geometry_basin_in'],row['geometry_splitnode_out'],row['geometry_basin_out']]), axis=1)\n",
    "basin_connections_gdf = gpd.GeoDataFrame(basin_connections_gdf, geometry='geometry',crs=28992)\n",
    "\n",
    "basin_connections_gdf = basin_connections_gdf.drop(columns=['geometry_edge_start_node','geometry_edge_end_node', 'extra_point', 'geometry_splitnode_out','geometry_basin_out','start_node_no_out','mesh1d_nEdges_out','end_node_no_out','direction_out','geometry_splitnode_in','geometry_basin_in','start_node_no_in','end_node_no_in','mesh1d_nEdges_in','direction_in'])"
   ]
  },
  {
   "cell_type": "code",
   "execution_count": null,
   "metadata": {},
   "outputs": [],
   "source": [
    "basin_connections_gdf.head()"
   ]
  },
  {
   "cell_type": "code",
   "execution_count": null,
   "metadata": {},
   "outputs": [],
   "source": [
    "basin_connections_gdf.dtypes"
   ]
  },
  {
   "cell_type": "code",
   "execution_count": null,
   "metadata": {},
   "outputs": [],
   "source": [
    "basin_connections_gdf.plot()\n",
    "basin_connections_gdf.head(3)"
   ]
  },
  {
   "cell_type": "code",
   "execution_count": null,
   "metadata": {},
   "outputs": [],
   "source": [
    "ribasim_edges_gdf.plot()\n",
    "ribasim_edges_gdf"
   ]
  },
  {
   "cell_type": "code",
   "execution_count": null,
   "metadata": {},
   "outputs": [],
   "source": [
    "network.ribasim_edges_gdf = ribasim_edges_gdf\n",
    "network.basin_connections_gdf = basin_connections_gdf"
   ]
  },
  {
   "cell_type": "markdown",
   "metadata": {},
   "source": [
    "Export everything to geopackage"
   ]
  },
  {
   "cell_type": "code",
   "execution_count": null,
   "metadata": {},
   "outputs": [],
   "source": [
    "network.export_to_geopackage(output_dir=results_dir)"
   ]
  },
  {
   "cell_type": "code",
   "execution_count": null,
   "metadata": {},
   "outputs": [],
   "source": []
  }
 ],
 "metadata": {
  "kernelspec": {
   "display_name": "ribasim",
   "language": "python",
   "name": "python3"
  },
  "language_info": {
   "codemirror_mode": {
    "name": "ipython",
    "version": 3
   },
   "file_extension": ".py",
   "mimetype": "text/x-python",
   "name": "python",
   "nbconvert_exporter": "python",
   "pygments_lexer": "ipython3",
   "version": "3.11.0"
  },
  "orig_nbformat": 4,
  "vscode": {
   "interpreter": {
    "hash": "dfc666eb4a62d5826d85bcfe032d59ef4dfc699941e19e14832498fb495ee494"
   }
  }
 },
 "nbformat": 4,
 "nbformat_minor": 2
}
