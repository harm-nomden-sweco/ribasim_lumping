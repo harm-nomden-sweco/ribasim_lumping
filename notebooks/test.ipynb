{
 "cells": [
  {
   "cell_type": "code",
   "execution_count": null,
   "metadata": {},
   "outputs": [],
   "source": [
    "import geopandas as gpd\n",
    "import numpy as np\n",
    "import pandas as pd\n",
    "import matplotlib.pyplot as plt\n",
    "from pathlib import Path\n",
    "import sys\n",
    "sys.path.append(\"..\\\\..\\\\ribasim\\\\python\\\\ribasim\")\n",
    "import ribasim"
   ]
  },
  {
   "cell_type": "code",
   "execution_count": null,
   "metadata": {},
   "outputs": [],
   "source": [
    "profile = pd.DataFrame(\n",
    "    data={\n",
    "        \"node_id\": [1, 1, 3, 3, 6, 6, 9, 9],\n",
    "        \"area\": [0.01, 1000.0] * 4,\n",
    "        \"level\": [0.0, 1.0] * 4,\n",
    "    }\n",
    ")\n",
    "\n",
    "# Convert steady forcing to m/s\n",
    "# 2 mm/d precipitation, 1 mm/d evaporation\n",
    "seconds_in_day = 24 * 3600\n",
    "precipitation = 0.002 / seconds_in_day\n",
    "evaporation = 0.001 / seconds_in_day\n",
    "\n",
    "static = pd.DataFrame(\n",
    "    data={\n",
    "        \"node_id\": [0],\n",
    "        \"drainage\": [0.0],\n",
    "        \"potential_evaporation\": [evaporation],\n",
    "        \"infiltration\": [0.0],\n",
    "        \"precipitation\": [precipitation],\n",
    "        \"urban_runoff\": [0.0],\n",
    "    }\n",
    ")\n",
    "static = static.iloc[[0, 0, 0, 0]]\n",
    "static[\"node_id\"] = [1, 3, 6, 9]\n",
    "\n",
    "basin = ribasim.Basin(profile=profile, static=static)"
   ]
  },
  {
   "cell_type": "code",
   "execution_count": null,
   "metadata": {},
   "outputs": [],
   "source": [
    "basin.static"
   ]
  },
  {
   "cell_type": "code",
   "execution_count": null,
   "metadata": {},
   "outputs": [],
   "source": [
    "basin.profile"
   ]
  },
  {
   "cell_type": "code",
   "execution_count": null,
   "metadata": {},
   "outputs": [],
   "source": [
    "linear_resistance = ribasim.LinearResistance(\n",
    "    static=pd.DataFrame(\n",
    "        data={\"node_id\": [10, 12], \"resistance\": [5e3, (3600.0 * 24) / 100.0]}\n",
    "    )\n",
    ")\n",
    "linear_resistance.static"
   ]
  },
  {
   "cell_type": "code",
   "execution_count": null,
   "metadata": {},
   "outputs": [],
   "source": [
    "manning_resistance = ribasim.ManningResistance(\n",
    "    static=pd.DataFrame(\n",
    "        data={\n",
    "            \"node_id\": [2],\n",
    "            \"length\": [900.0],\n",
    "            \"manning_n\": [0.04],\n",
    "            \"profile_width\": [6.0],\n",
    "            \"profile_slope\": [3.0],\n",
    "        }\n",
    "    )\n",
    ")\n",
    "manning_resistance.static"
   ]
  },
  {
   "cell_type": "code",
   "execution_count": null,
   "metadata": {},
   "outputs": [],
   "source": [
    "# Discharge: lose 1% of storage volume per day at storage = 1000.0.\n",
    "q1000 = 1000.0 * 0.01 / seconds_in_day\n",
    "\n",
    "rating_curve = ribasim.TabulatedRatingCurve(\n",
    "    static=pd.DataFrame(\n",
    "        data={\n",
    "            \"node_id\": [4, 4],\n",
    "            \"level\": [0.0, 1.0],\n",
    "            \"discharge\": [0.0, q1000],\n",
    "        }\n",
    "    )\n",
    ")\n",
    "rating_curve.static"
   ]
  },
  {
   "cell_type": "code",
   "execution_count": null,
   "metadata": {},
   "outputs": [],
   "source": [
    "fractional_flow = ribasim.FractionalFlow(\n",
    "    static=pd.DataFrame(\n",
    "        data={\n",
    "            \"node_id\": [5, 8, 13],\n",
    "            \"fraction\": [0.3, 0.6, 0.1],\n",
    "        }\n",
    "    )\n",
    ")\n",
    "fractional_flow.static"
   ]
  },
  {
   "cell_type": "code",
   "execution_count": null,
   "metadata": {},
   "outputs": [],
   "source": [
    "pump = ribasim.Pump(\n",
    "    static=pd.DataFrame(\n",
    "        data={\n",
    "            \"node_id\": [7],\n",
    "            \"flow_rate\": [0.5 / 3600],\n",
    "        }\n",
    "    )\n",
    ")\n",
    "pump.static"
   ]
  },
  {
   "cell_type": "code",
   "execution_count": null,
   "metadata": {},
   "outputs": [],
   "source": [
    "level_boundary = ribasim.LevelBoundary(\n",
    "    static=pd.DataFrame(\n",
    "        data={\n",
    "            \"node_id\": [11, 17],\n",
    "            \"level\": [0.5, 1.5],\n",
    "        }\n",
    "    )\n",
    ")"
   ]
  },
  {
   "cell_type": "code",
   "execution_count": null,
   "metadata": {},
   "outputs": [],
   "source": [
    "level_boundary.static"
   ]
  },
  {
   "cell_type": "code",
   "execution_count": null,
   "metadata": {},
   "outputs": [],
   "source": [
    "level_boundary.time"
   ]
  },
  {
   "cell_type": "code",
   "execution_count": null,
   "metadata": {},
   "outputs": [],
   "source": [
    "flow_boundary = ribasim.FlowBoundary(\n",
    "    static=pd.DataFrame(\n",
    "        data={\n",
    "            \"node_id\": [15, 16],\n",
    "            \"flow_rate\": [1e-4, 1e-4],\n",
    "        }\n",
    "    )\n",
    ")\n",
    "flow_boundary.static"
   ]
  },
  {
   "cell_type": "code",
   "execution_count": null,
   "metadata": {},
   "outputs": [],
   "source": [
    "terminal = ribasim.Terminal(\n",
    "    static=pd.DataFrame(\n",
    "        data={\n",
    "            \"node_id\": [14],\n",
    "        }\n",
    "    )\n",
    ")\n",
    "terminal.static"
   ]
  },
  {
   "cell_type": "code",
   "execution_count": null,
   "metadata": {},
   "outputs": [],
   "source": [
    "xy = np.array(\n",
    "    [\n",
    "        (0.0, 0.0),  # 1: Basin,\n",
    "        (1.0, 0.0),  # 2: ManningResistance\n",
    "        (2.0, 0.0),  # 3: Basin\n",
    "        (3.0, 0.0),  # 4: TabulatedRatingCurve\n",
    "        (3.0, 1.0),  # 5: FractionalFlow\n",
    "        (3.0, 2.0),  # 6: Basin\n",
    "        (4.0, 1.0),  # 7: Pump\n",
    "        (4.0, 0.0),  # 8: FractionalFlow\n",
    "        (5.0, 0.0),  # 9: Basin\n",
    "        (6.0, 0.0),  # 10: LinearResistance\n",
    "        (2.0, 2.0),  # 11: LevelBoundary\n",
    "        (2.0, 1.0),  # 12: LinearResistance\n",
    "        (3.0, -1.0),  # 13: FractionalFlow\n",
    "        (3.0, -2.0),  # 14: Terminal\n",
    "        (3.0, 3.0),  # 15: FlowBoundary\n",
    "        (0.0, 1.0),  # 16: FlowBoundary\n",
    "        (6.0, 1.0),  # 17: LevelBoundary\n",
    "    ]\n",
    ")\n",
    "node_xy = gpd.points_from_xy(x=xy[:, 0], y=xy[:, 1])\n",
    "\n",
    "node_id, node_type = ribasim.Node.get_node_ids_and_types(\n",
    "    basin,\n",
    "    manning_resistance,\n",
    "    rating_curve,\n",
    "    pump,\n",
    "    fractional_flow,\n",
    "    linear_resistance,\n",
    "    level_boundary,\n",
    "    flow_boundary,\n",
    "    terminal,\n",
    ")\n",
    "\n",
    "# Make sure the feature id starts at 1: explicitly give an index.\n",
    "node = ribasim.Node(\n",
    "    static=gpd.GeoDataFrame(\n",
    "        data={\"type\": node_type},\n",
    "        index=pd.Index(node_id, name=\"fid\"),\n",
    "        geometry=node_xy,\n",
    "        crs=\"EPSG:28992\",\n",
    "    )\n",
    ")\n",
    "node.static"
   ]
  },
  {
   "cell_type": "code",
   "execution_count": null,
   "metadata": {},
   "outputs": [],
   "source": [
    "from_id = np.array(\n",
    "    [1, 2, 3, 4, 4, 5, 6, 8, 7, 9, 11, 12, 4, 13, 15, 16, 10], dtype=np.int64\n",
    ")\n",
    "to_id = np.array(\n",
    "    [2, 3, 4, 5, 8, 6, 7, 9, 9, 10, 12, 3, 13, 14, 6, 1, 17], dtype=np.int64\n",
    ")\n",
    "lines = ribasim.utils.geometry_from_connectivity(node, from_id, to_id)\n",
    "edge = ribasim.Edge(\n",
    "    static=gpd.GeoDataFrame(\n",
    "        data={\n",
    "            \"from_node_id\": from_id,\n",
    "            \"to_node_id\": to_id,\n",
    "            \"edge_type\": len(from_id) * [\"flow\"],\n",
    "        },\n",
    "        geometry=lines,\n",
    "        crs=\"EPSG:28992\",\n",
    "    )\n",
    ")\n",
    "lines"
   ]
  },
  {
   "cell_type": "code",
   "execution_count": null,
   "metadata": {},
   "outputs": [],
   "source": [
    "model = ribasim.Model(\n",
    "    modelname=\"basic\",\n",
    "    node=node,\n",
    "    edge=edge,\n",
    "    basin=basin,\n",
    "    level_boundary=level_boundary,\n",
    "    flow_boundary=flow_boundary,\n",
    "    pump=pump,\n",
    "    linear_resistance=linear_resistance,\n",
    "    manning_resistance=manning_resistance,\n",
    "    tabulated_rating_curve=rating_curve,\n",
    "    fractional_flow=fractional_flow,\n",
    "    terminal=terminal,\n",
    "    starttime=\"2020-01-01 00:00:00\",\n",
    "    endtime=\"2021-01-01 00:00:00\",\n",
    ")"
   ]
  },
  {
   "cell_type": "code",
   "execution_count": null,
   "metadata": {},
   "outputs": [],
   "source": [
    "model.plot()"
   ]
  },
  {
   "cell_type": "code",
   "execution_count": null,
   "metadata": {},
   "outputs": [],
   "source": []
  }
 ],
 "metadata": {
  "kernelspec": {
   "display_name": "ribasim_lumping",
   "language": "python",
   "name": "python3"
  },
  "language_info": {
   "codemirror_mode": {
    "name": "ipython",
    "version": 3
   },
   "file_extension": ".py",
   "mimetype": "text/x-python",
   "name": "python",
   "nbconvert_exporter": "python",
   "pygments_lexer": "ipython3",
   "version": "3.11.5"
  }
 },
 "nbformat": 4,
 "nbformat_minor": 2
}
