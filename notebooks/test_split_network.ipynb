{
 "cells": [
  {
   "cell_type": "code",
   "execution_count": null,
   "metadata": {},
   "outputs": [],
   "source": [
    "import sys\n",
    "from pathlib import Path\n",
    "\n",
    "sys.path.append(\"..\")\n",
    "from ribasim_lumping import NetworkAnalysis\n",
    "\n",
    "import pandas as pd\n",
    "import numpy as np\n",
    "import geopandas as gpd\n",
    "from pydantic import BaseModel\n",
    "import xarray as xr\n",
    "import dfm_tools as dfmt\n",
    "import xugrid as xu\n",
    "import matplotlib.pyplot as plt\n",
    "import random\n",
    "\n",
    "from numba.core.errors import NumbaDeprecationWarning, NumbaPendingDeprecationWarning\n",
    "import warnings\n",
    "\n",
    "warnings.simplefilter(\"ignore\", category=NumbaDeprecationWarning)\n",
    "\n",
    "import networkx as nx"
   ]
  },
  {
   "cell_type": "code",
   "execution_count": null,
   "metadata": {},
   "outputs": [],
   "source": [
    "%load_ext autoreload\n",
    "%autoreload 2"
   ]
  },
  {
   "cell_type": "code",
   "execution_count": null,
   "metadata": {},
   "outputs": [],
   "source": [
    "base_dir = Path(\"c:\\\\Users\\\\NLHARN\\\\Documents\\\\SWECO_LOKAAL\\\\NHI-TKI-oppervlaktewatermodule-Ribasim\\\\TKI-NHI-oppervlaktewatermodule\\\\\")\n",
    "simulations_dir = Path(base_dir, \"d-hydro\\\\dhydro\\\\\")\n",
    "date_range = pd.date_range(\"2000-01-02 23:00\", periods=9, freq=\"2D\")"
   ]
  },
  {
   "cell_type": "code",
   "execution_count": null,
   "metadata": {},
   "outputs": [],
   "source": [
    "# create networkanalysis\n",
    "network = NetworkAnalysis()\n",
    "\n",
    "# add data from simulation sets\n",
    "network.add_data_from_simulations_set(\n",
    "    set_name=\"winter\",\n",
    "    simulations_dir=Path(simulations_dir, \"\"),\n",
    "    simulations_names=[\"tki_zuthpen_berkel_basis.dsproj\"],\n",
    "    simulations_ts=date_range,\n",
    ")\n",
    "network.add_data_from_simulations_set(\n",
    "    set_name=\"zomer\",\n",
    "    simulations_dir=Path(simulations_dir, \"\"),\n",
    "    simulations_names=[\"tki_zuthpen_berkel_basis.dsproj\"],\n",
    "    simulations_ts=date_range,\n",
    ")\n",
    "\n",
    "# get all network data from the schematisations\n",
    "network.get_network_data()"
   ]
  },
  {
   "cell_type": "code",
   "execution_count": null,
   "metadata": {},
   "outputs": [],
   "source": [
    "# nodes = network.dhydro_nodes.sort_values(by='mesh1d_node_x', ascending=False).iloc[:150]\n",
    "nodes = network.dhydro_nodes\n",
    "nodes_ids = list(nodes.mesh1d_nNodes.values)\n",
    "\n",
    "edges = network.dhydro_edges\n",
    "edges = edges[(edges[\"start_node_no\"].isin(nodes_ids)) & \n",
    "              (edges[\"end_node_no\"].isin(nodes_ids))]"
   ]
  },
  {
   "cell_type": "code",
   "execution_count": null,
   "metadata": {},
   "outputs": [],
   "source": [
    "# Define node_ids on which to split\n",
    "# split_node_ids = [300, 1200, 1300, 1400, 1430, 1818, 1950, 2380]\n",
    "# split_node_ids = [2380]\n",
    "# split_node_ids = list(network.bifurcation_points.mesh1d_nNodes.values)\n",
    "split_node_ids = list(network.bifurcation_points.mesh1d_nNodes.values) + list(network.confluence_points.mesh1d_nNodes.values)\n",
    "# split_node_ids = list(network.weirs.mesh1d_nNodes.values) # all weirs\n",
    "# split_node_ids = random.sample(split_node_ids, 25)\n",
    "\n",
    "# load areas units (discharge units: afwaterende eenheden)\n",
    "areas_file_path = Path(base_dir, \"wrij_afwateringseenheden_clip_Zutphen\\\\wrij_afwateringseenheden_clip_Zutphen.shp\")\n",
    "areas = gpd.read_file(areas_file_path)[[\"geometry\"]].to_crs(28992)\n",
    "\n",
    "# create basins (gdf) based on nodes, edges, split_node_ids and areas\n",
    "basins, areas = network.create_basins_based_on_split_node_ids(\n",
    "    nodes=nodes, \n",
    "    edges=edges, \n",
    "    split_node_ids=split_node_ids, \n",
    "    areas=areas\n",
    ")"
   ]
  },
  {
   "cell_type": "code",
   "execution_count": null,
   "metadata": {},
   "outputs": [],
   "source": [
    "fig, ax = plt.subplots(1, 1, figsize=(15, 15))\n",
    "basins.plot(ax=ax, edgecolor=\"black\", column=\"basin\", cmap=\"tab20\", categorical=True, alpha=0.5, linewidth=2)\n",
    "areas.plot(ax=ax, edgecolor=\"black\", facecolor='none', alpha=0.5, linewidth=0.25)\n",
    "edges.plot(ax=ax, color=\"darkblue\", linewidth=3)\n",
    "network.weirs.plot(ax=ax, color=\"orange\", edgecolor=\"black\", linewidth=2, markersize=50, zorder=100)\n",
    "nodes.loc[split_node_ids].plot(ax=ax, color=\"red\", edgecolor=\"black\", linewidth=2, markersize=75, zorder=100)\n",
    "\n",
    "ax.set_title('TKI pilot-gebied Zutphen: Toepassing Lumpen', fontsize=18)\n",
    "plt.axis('off')\n",
    "\n",
    "output_dir = Path(\"output//test_split_network//\")\n",
    "if not output_dir.exists():\n",
    "    output_dir.mkdir(parents=True, exist_ok=True)\n",
    "figure_path = Path(output_dir, \"TKI_ribasim_Zutphen_voorbeeld_lumpen.png\")\n",
    "plt.savefig(str(figure_path), bbox_inches='tight', dpi=300)"
   ]
  },
  {
   "cell_type": "code",
   "execution_count": null,
   "metadata": {},
   "outputs": [],
   "source": []
  }
 ],
 "metadata": {
  "kernelspec": {
   "display_name": "ribasim",
   "language": "python",
   "name": "python3"
  },
  "language_info": {
   "codemirror_mode": {
    "name": "ipython",
    "version": 3
   },
   "file_extension": ".py",
   "mimetype": "text/x-python",
   "name": "python",
   "nbconvert_exporter": "python",
   "pygments_lexer": "ipython3",
   "version": "3.10.0"
  },
  "orig_nbformat": 4
 },
 "nbformat": 4,
 "nbformat_minor": 2
}
