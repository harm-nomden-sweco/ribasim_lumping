{
 "cells": [
  {
   "cell_type": "code",
   "execution_count": 2,
   "metadata": {},
   "outputs": [],
   "source": [
    "import sys\n",
    "from pathlib import Path\n",
    "import matplotlib.pyplot as plt\n",
    "\n",
    "# add directory with ribasim-repository\n",
    "sys.path.append(\"..\\\\..\\\\ribasim\\\\python\\\\ribasim\")\n",
    "import ribasim\n",
    "\n",
    "# add directory with ribasim_lumping-repository\n",
    "sys.path.append(\"..\")\n",
    "import ribasim_lumping_nl\n",
    "\n",
    "import pandas as pd\n",
    "import geopandas as gpd\n",
    "import numpy as np\n",
    "import pyarrow as pa\n",
    "\n",
    "from numba.core.errors import NumbaDeprecationWarning\n",
    "import warnings\n",
    "\n",
    "warnings.simplefilter(\"ignore\", category=NumbaDeprecationWarning)\n",
    "warnings.simplefilter(\"ignore\", category=UserWarning)\n",
    "warnings.simplefilter(\"ignore\", category=FutureWarning)\n",
    "pd.options.mode.chained_assignment = None"
   ]
  },
  {
   "cell_type": "code",
   "execution_count": 3,
   "metadata": {},
   "outputs": [],
   "source": [
    "%load_ext autoreload\n",
    "%autoreload 2"
   ]
  },
  {
   "cell_type": "code",
   "execution_count": 4,
   "metadata": {},
   "outputs": [],
   "source": [
    "start_time = pd.Timestamp.now()"
   ]
  },
  {
   "cell_type": "markdown",
   "metadata": {},
   "source": [
    "#### BASIS OPZETTEN"
   ]
  },
  {
   "cell_type": "code",
   "execution_count": 5,
   "metadata": {},
   "outputs": [],
   "source": [
    "# define network name, base dir\n",
    "network_name = \"tki_hooge_raam\"\n",
    "base_dir = Path(\"..\\\\..\\\\ribasim_lumping_data\\\\\")\n",
    "# directory D-HYDRO basis calculations\n",
    "dhydro_basis_dir = Path(base_dir, network_name, \"2_dhydro\\\\basis\\\\\")\n",
    "# directory D-HYDRO results calculations\n",
    "dhydro_results_dir = Path(base_dir, network_name, \"2_dhydro\\\\results\\\\\")\n",
    "# directory results\n",
    "results_dir = Path(base_dir, network_name, \"3_ribasim\\\\\")\n",
    "# batch file used to calculate volume D-Hydro module per GridPoint\n",
    "dhydro_volume_tool_bat_file = Path(r\"c:\\Program Files\\Deltares\\D-HYDRO Suite 2023.03 1D2D\\plugins\\DeltaShell.Dimr\\kernels\\x64\\dflowfm\\scripts\\run_dfm_volume_tool.bat\")\n",
    "dhydro_volume_tool_increment = 0.1\n",
    "# link to ribasim_executable\n",
    "path_ribasim_executable = \"..\\\\..\\\\..\\\\ribasim_cli\\\\bin\\\\ribasim.exe\""
   ]
  },
  {
   "cell_type": "code",
   "execution_count": 8,
   "metadata": {},
   "outputs": [],
   "source": [
    "# Create networkanalysis\n",
    "network = ribasim_lumping_nl.create_ribasim_lumping_network(\n",
    "    base_dir=base_dir,\n",
    "    name=network_name,\n",
    "    dhydro_basis_dir=dhydro_basis_dir,\n",
    "    dhydro_results_dir=dhydro_results_dir,\n",
    "    hydamo_basis_dir = '' ,\n",
    "    results_dir=results_dir,\n",
    "    path_ribasim_executable=path_ribasim_executable,\n",
    "    crs=28992\n",
    ")\n",
    "# network.export_to_geopackage()"
   ]
  },
  {
   "cell_type": "markdown",
   "metadata": {},
   "source": [
    "#### INLEZEN NETWERK EN SIMULATIE DATA"
   ]
  },
  {
   "cell_type": "code",
   "execution_count": 9,
   "metadata": {},
   "outputs": [
    {
     "name": "stderr",
     "output_type": "stream",
     "text": [
      "Custom TB Handler failed, unregistering\n"
     ]
    },
    {
     "name": "stdout",
     "output_type": "stream",
     "text": [
      "Unexpected exception formatting exception. Falling back to standard exception\n"
     ]
    },
    {
     "name": "stderr",
     "output_type": "stream",
     "text": [
      "Traceback (most recent call last):\n",
      "  File \"fiona\\ogrext.pyx\", line 136, in fiona.ogrext.gdal_open_vector\n",
      "  File \"fiona\\_err.pyx\", line 291, in fiona._err.exc_wrap_pointer\n",
      "fiona._err.CPLE_OpenFailedError: ..\\..\\ribasim_lumping_data\\tki_hooge_raam\\1_areas\\afwateringseenheden2023_v1_HoogeRaam.shp: No such file or directory\n",
      "\n",
      "During handling of the above exception, another exception occurred:\n",
      "\n",
      "Traceback (most recent call last):\n",
      "  File \"c:\\ProgramData\\Anaconda3\\envs\\ribasim\\Lib\\site-packages\\IPython\\core\\interactiveshell.py\", line 3460, in run_code\n",
      "    exec(code_obj, self.user_global_ns, self.user_ns)\n",
      "  File \"C:\\Users\\NLTAND\\AppData\\Local\\Temp\\ipykernel_3128\\543981536.py\", line 5, in <module>\n",
      "    network.read_areas(\n",
      "  File \"c:\\Users\\NLTAND\\OneDrive - Sweco AB\\Algemeen-Tessa\\Projecten\\TKI oppervlaktewatermodule NHI\\ribasim_lumping_NL\\notebooks\\..\\ribasim_lumping_nl\\ribasim_lumping.py\", line 113, in read_areas\n",
      "    def read_areas(self, areas_file_path: Path, areas_id_column: str):\n",
      "                    ^^^^^^^^^^^^^^^^^^^^^^^^^^^^^^\n",
      "  File \"c:\\ProgramData\\Anaconda3\\envs\\ribasim\\Lib\\site-packages\\geopandas\\io\\file.py\", line 259, in _read_file\n",
      "    return _read_file_fiona(\n",
      "           ^^^^^^^^^^^^^^^^^\n",
      "  File \"c:\\ProgramData\\Anaconda3\\envs\\ribasim\\Lib\\site-packages\\geopandas\\io\\file.py\", line 303, in _read_file_fiona\n",
      "    with reader(path_or_bytes, **kwargs) as features:\n",
      "         ^^^^^^^^^^^^^^^^^^^^^^^^^^^^^^^\n",
      "  File \"c:\\ProgramData\\Anaconda3\\envs\\ribasim\\Lib\\site-packages\\fiona\\env.py\", line 457, in wrapper\n",
      "    return f(*args, **kwds)\n",
      "           ^^^^^^^^^^^^^^^^\n",
      "  File \"c:\\ProgramData\\Anaconda3\\envs\\ribasim\\Lib\\site-packages\\fiona\\__init__.py\", line 336, in open\n",
      "    colxn = Collection(\n",
      "            ^^^^^^^^^^^\n",
      "  File \"c:\\ProgramData\\Anaconda3\\envs\\ribasim\\Lib\\site-packages\\fiona\\collection.py\", line 234, in __init__\n",
      "    self.session.start(self, **kwargs)\n",
      "  File \"fiona\\ogrext.pyx\", line 587, in fiona.ogrext.Session.start\n",
      "  File \"fiona\\ogrext.pyx\", line 143, in fiona.ogrext.gdal_open_vector\n",
      "fiona.errors.DriverError: ..\\..\\ribasim_lumping_data\\tki_hooge_raam\\1_areas\\afwateringseenheden2023_v1_HoogeRaam.shp: No such file or directory\n",
      "\n",
      "During handling of the above exception, another exception occurred:\n",
      "\n",
      "Traceback (most recent call last):\n",
      "  File \"c:\\ProgramData\\Anaconda3\\envs\\ribasim\\Lib\\site-packages\\IPython\\core\\interactiveshell.py\", line 1927, in wrapped\n",
      "    stb = handler(self,etype,value,tb,tb_offset=tb_offset)\n",
      "          ^^^^^^^^^^^^^^^^^^^^^^^^^^^^^^^^^^^^^^^^^^^^^^^^\n",
      "  File \"c:\\ProgramData\\Anaconda3\\envs\\ribasim\\Lib\\site-packages\\dask\\base.py\", line 79, in _clean_ipython_traceback\n",
      "    stb = self.InteractiveTB.structured_traceback(\n",
      "          ^^^^^^^^^^^^^^^^^^^^^^^^^^^^^^^^^^^^^^^^\n",
      "  File \"c:\\ProgramData\\Anaconda3\\envs\\ribasim\\Lib\\site-packages\\IPython\\core\\ultratb.py\", line 1288, in structured_traceback\n",
      "    return FormattedTB.structured_traceback(\n",
      "           ^^^^^^^^^^^^^^^^^^^^^^^^^^^^^^^^^\n",
      "  File \"c:\\ProgramData\\Anaconda3\\envs\\ribasim\\Lib\\site-packages\\IPython\\core\\ultratb.py\", line 1177, in structured_traceback\n",
      "    return VerboseTB.structured_traceback(\n",
      "           ^^^^^^^^^^^^^^^^^^^^^^^^^^^^^^^\n",
      "  File \"c:\\ProgramData\\Anaconda3\\envs\\ribasim\\Lib\\site-packages\\IPython\\core\\ultratb.py\", line 1049, in structured_traceback\n",
      "    formatted_exceptions += self.format_exception_as_a_whole(etype, evalue, etb, lines_of_context,\n",
      "                            ^^^^^^^^^^^^^^^^^^^^^^^^^^^^^^^^^^^^^^^^^^^^^^^^^^^^^^^^^^^^^^^^^^^^^^\n",
      "  File \"c:\\ProgramData\\Anaconda3\\envs\\ribasim\\Lib\\site-packages\\IPython\\core\\ultratb.py\", line 935, in format_exception_as_a_whole\n",
      "    self.get_records(etb, number_of_lines_of_context, tb_offset) if etb else []\n",
      "    ^^^^^^^^^^^^^^^^^^^^^^^^^^^^^^^^^^^^^^^^^^^^^^^^^^^^^^^^^^^^\n",
      "  File \"c:\\ProgramData\\Anaconda3\\envs\\ribasim\\Lib\\site-packages\\IPython\\core\\ultratb.py\", line 1003, in get_records\n",
      "    lines, first = inspect.getsourcelines(etb.tb_frame)\n",
      "                   ^^^^^^^^^^^^^^^^^^^^^^^^^^^^^^^^^^^^\n",
      "  File \"c:\\ProgramData\\Anaconda3\\envs\\ribasim\\Lib\\inspect.py\", line 1252, in getsourcelines\n",
      "    lines, lnum = findsource(object)\n",
      "                  ^^^^^^^^^^^^^^^^^^\n",
      "  File \"c:\\ProgramData\\Anaconda3\\envs\\ribasim\\Lib\\inspect.py\", line 1081, in findsource\n",
      "    raise OSError('could not get source code')\n",
      "OSError: could not get source code\n",
      "\n",
      "During handling of the above exception, another exception occurred:\n",
      "\n",
      "Traceback (most recent call last):\n",
      "  File \"c:\\ProgramData\\Anaconda3\\envs\\ribasim\\Lib\\site-packages\\IPython\\core\\interactiveshell.py\", line 3400, in run_ast_nodes\n",
      "    if await self.run_code(code, result, async_=asy):\n",
      "       ^^^^^^^^^^^^^^^^^^^^^^^^^^^^^^^^^^^^^^^^^^^^^\n",
      "  File \"c:\\ProgramData\\Anaconda3\\envs\\ribasim\\Lib\\site-packages\\IPython\\core\\interactiveshell.py\", line 3478, in run_code\n",
      "    self.CustomTB(etype, value, tb)\n",
      "  File \"c:\\ProgramData\\Anaconda3\\envs\\ribasim\\Lib\\site-packages\\IPython\\core\\interactiveshell.py\", line 1934, in wrapped\n",
      "    stb = self.InteractiveTB.structured_traceback(*sys.exc_info())\n",
      "          ^^^^^^^^^^^^^^^^^^^^^^^^^^^^^^^^^^^^^^^^^^^^^^^^^^^^^^^^\n",
      "  File \"c:\\ProgramData\\Anaconda3\\envs\\ribasim\\Lib\\site-packages\\IPython\\core\\ultratb.py\", line 1288, in structured_traceback\n",
      "    return FormattedTB.structured_traceback(\n",
      "           ^^^^^^^^^^^^^^^^^^^^^^^^^^^^^^^^^\n",
      "  File \"c:\\ProgramData\\Anaconda3\\envs\\ribasim\\Lib\\site-packages\\IPython\\core\\ultratb.py\", line 1177, in structured_traceback\n",
      "    return VerboseTB.structured_traceback(\n",
      "           ^^^^^^^^^^^^^^^^^^^^^^^^^^^^^^^\n",
      "  File \"c:\\ProgramData\\Anaconda3\\envs\\ribasim\\Lib\\site-packages\\IPython\\core\\ultratb.py\", line 1049, in structured_traceback\n",
      "    formatted_exceptions += self.format_exception_as_a_whole(etype, evalue, etb, lines_of_context,\n",
      "                            ^^^^^^^^^^^^^^^^^^^^^^^^^^^^^^^^^^^^^^^^^^^^^^^^^^^^^^^^^^^^^^^^^^^^^^\n",
      "  File \"c:\\ProgramData\\Anaconda3\\envs\\ribasim\\Lib\\site-packages\\IPython\\core\\ultratb.py\", line 935, in format_exception_as_a_whole\n",
      "    self.get_records(etb, number_of_lines_of_context, tb_offset) if etb else []\n",
      "    ^^^^^^^^^^^^^^^^^^^^^^^^^^^^^^^^^^^^^^^^^^^^^^^^^^^^^^^^^^^^\n",
      "  File \"c:\\ProgramData\\Anaconda3\\envs\\ribasim\\Lib\\site-packages\\IPython\\core\\ultratb.py\", line 1003, in get_records\n",
      "    lines, first = inspect.getsourcelines(etb.tb_frame)\n",
      "                   ^^^^^^^^^^^^^^^^^^^^^^^^^^^^^^^^^^^^\n",
      "  File \"c:\\ProgramData\\Anaconda3\\envs\\ribasim\\Lib\\inspect.py\", line 1252, in getsourcelines\n",
      "    lines, lnum = findsource(object)\n",
      "                  ^^^^^^^^^^^^^^^^^^\n",
      "  File \"c:\\ProgramData\\Anaconda3\\envs\\ribasim\\Lib\\inspect.py\", line 1081, in findsource\n",
      "    raise OSError('could not get source code')\n",
      "OSError: could not get source code\n",
      "\n",
      "During handling of the above exception, another exception occurred:\n",
      "\n",
      "Traceback (most recent call last):\n",
      "  File \"c:\\ProgramData\\Anaconda3\\envs\\ribasim\\Lib\\site-packages\\IPython\\core\\interactiveshell.py\", line 2057, in showtraceback\n",
      "    stb = self.InteractiveTB.structured_traceback(\n",
      "          ^^^^^^^^^^^^^^^^^^^^^^^^^^^^^^^^^^^^^^^^\n",
      "  File \"c:\\ProgramData\\Anaconda3\\envs\\ribasim\\Lib\\site-packages\\IPython\\core\\ultratb.py\", line 1288, in structured_traceback\n",
      "    return FormattedTB.structured_traceback(\n",
      "           ^^^^^^^^^^^^^^^^^^^^^^^^^^^^^^^^^\n",
      "  File \"c:\\ProgramData\\Anaconda3\\envs\\ribasim\\Lib\\site-packages\\IPython\\core\\ultratb.py\", line 1177, in structured_traceback\n",
      "    return VerboseTB.structured_traceback(\n",
      "           ^^^^^^^^^^^^^^^^^^^^^^^^^^^^^^^\n",
      "  File \"c:\\ProgramData\\Anaconda3\\envs\\ribasim\\Lib\\site-packages\\IPython\\core\\ultratb.py\", line 1049, in structured_traceback\n",
      "    formatted_exceptions += self.format_exception_as_a_whole(etype, evalue, etb, lines_of_context,\n",
      "                            ^^^^^^^^^^^^^^^^^^^^^^^^^^^^^^^^^^^^^^^^^^^^^^^^^^^^^^^^^^^^^^^^^^^^^^\n",
      "  File \"c:\\ProgramData\\Anaconda3\\envs\\ribasim\\Lib\\site-packages\\IPython\\core\\ultratb.py\", line 935, in format_exception_as_a_whole\n",
      "    self.get_records(etb, number_of_lines_of_context, tb_offset) if etb else []\n",
      "    ^^^^^^^^^^^^^^^^^^^^^^^^^^^^^^^^^^^^^^^^^^^^^^^^^^^^^^^^^^^^\n",
      "  File \"c:\\ProgramData\\Anaconda3\\envs\\ribasim\\Lib\\site-packages\\IPython\\core\\ultratb.py\", line 1003, in get_records\n",
      "    lines, first = inspect.getsourcelines(etb.tb_frame)\n",
      "                   ^^^^^^^^^^^^^^^^^^^^^^^^^^^^^^^^^^^^\n",
      "  File \"c:\\ProgramData\\Anaconda3\\envs\\ribasim\\Lib\\inspect.py\", line 1252, in getsourcelines\n",
      "    lines, lnum = findsource(object)\n",
      "                  ^^^^^^^^^^^^^^^^^^\n",
      "  File \"c:\\ProgramData\\Anaconda3\\envs\\ribasim\\Lib\\inspect.py\", line 1081, in findsource\n",
      "    raise OSError('could not get source code')\n",
      "OSError: could not get source code\n"
     ]
    }
   ],
   "source": [
    "# Load areas (discharge units: afwaterende eenheden)\n",
    "areas_dir               = Path(base_dir, network_name, \"1_areas\")\n",
    "areas_file_name         = \"afwateringseenheden2023_v1_HoogeRaam.shp\"\n",
    "areas_id_column         = \"CODE\"\n",
    "network.read_areas(\n",
    "    areas_file_path=Path(areas_dir, areas_file_name), \n",
    "    areas_id_column=areas_id_column\n",
    ")"
   ]
  },
  {
   "cell_type": "code",
   "execution_count": 10,
   "metadata": {},
   "outputs": [
    {
     "ename": "PermissionError",
     "evalue": "[Errno 13] Permission denied: '.'",
     "output_type": "error",
     "traceback": [
      "\u001b[1;31m---------------------------------------------------------------------------\u001b[0m",
      "\u001b[1;31mPermissionError\u001b[0m                           Traceback (most recent call last)",
      "Cell \u001b[1;32mIn[10], line 2\u001b[0m\n\u001b[0;32m      1\u001b[0m \u001b[39m# Read network data and extract all objects (weirs/pumps/laterals/confluences/bifurcations)\u001b[39;00m\n\u001b[1;32m----> 2\u001b[0m network\u001b[39m.\u001b[39;49madd_basis_network(\n\u001b[0;32m      3\u001b[0m     source_type\u001b[39m=\u001b[39;49m\u001b[39m'\u001b[39;49m\u001b[39mdhydro\u001b[39;49m\u001b[39m'\u001b[39;49m,\n\u001b[0;32m      4\u001b[0m     set_name\u001b[39m=\u001b[39;49m\u001b[39m\"\u001b[39;49m\u001b[39mwinter\u001b[39;49m\u001b[39m\"\u001b[39;49m,\n\u001b[0;32m      5\u001b[0m     model_dir\u001b[39m=\u001b[39;49mPath(dhydro_basis_dir, \u001b[39m\"\u001b[39;49m\u001b[39mwinter\u001b[39;49m\u001b[39m\"\u001b[39;49m),\n\u001b[0;32m      6\u001b[0m     simulation_name\u001b[39m=\u001b[39;49m\u001b[39m\"\u001b[39;49m\u001b[39m0_01\u001b[39;49m\u001b[39m\"\u001b[39;49m,\n\u001b[0;32m      7\u001b[0m     dhydro_volume_tool_bat_file\u001b[39m=\u001b[39;49mdhydro_volume_tool_bat_file, \n\u001b[0;32m      8\u001b[0m     dhydro_volume_tool_force\u001b[39m=\u001b[39;49m\u001b[39mTrue\u001b[39;49;00m,\n\u001b[0;32m      9\u001b[0m     dhydro_volume_tool_increment\u001b[39m=\u001b[39;49mdhydro_volume_tool_increment\n\u001b[0;32m     10\u001b[0m );\n\u001b[0;32m     11\u001b[0m \u001b[39m# network.add_basis_network(\u001b[39;00m\n\u001b[0;32m     12\u001b[0m \u001b[39m#     source_type='dhydro',\u001b[39;00m\n\u001b[0;32m     13\u001b[0m \u001b[39m#     set_name='winter2', \u001b[39;00m\n\u001b[1;32m   (...)\u001b[0m\n\u001b[0;32m     18\u001b[0m \u001b[39m#     dhydro_volume_tool_increment=0.1\u001b[39;00m\n\u001b[0;32m     19\u001b[0m \u001b[39m# );\u001b[39;00m\n",
      "File \u001b[1;32mc:\\Users\\NLTAND\\OneDrive - Sweco AB\\Algemeen-Tessa\\Projecten\\TKI oppervlaktewatermodule NHI\\ribasim_lumping_NL\\notebooks\\..\\ribasim_lumping_nl\\ribasim_lumping.py:130\u001b[0m, in \u001b[0;36madd_basis_network\u001b[1;34m(self, source_type, model_dir, hydamo_basis_dir, set_name, simulation_name, dhydro_volume_tool_bat_file, dhydro_volume_tool_force, dhydro_volume_tool_increment)\u001b[0m\n\u001b[0;32m    118\u001b[0m \u001b[39mdef\u001b[39;00m \u001b[39madd_basis_network\u001b[39m(\n\u001b[0;32m    119\u001b[0m     \u001b[39mself\u001b[39m, \n\u001b[0;32m    120\u001b[0m     source_type: \u001b[39mstr\u001b[39m, \n\u001b[1;32m   (...)\u001b[0m\n\u001b[0;32m    127\u001b[0m     dhydro_volume_tool_increment: \u001b[39mfloat\u001b[39m \u001b[39m=\u001b[39m \u001b[39m0.1\u001b[39m\n\u001b[0;32m    128\u001b[0m ):\n\u001b[0;32m    129\u001b[0m     results \u001b[39m=\u001b[39m \u001b[39mNone\u001b[39;00m\n\u001b[1;32m--> 130\u001b[0m     \u001b[39mif\u001b[39;00m source_type \u001b[39m==\u001b[39m \u001b[39m'\u001b[39m\u001b[39mdhydro\u001b[39m\u001b[39m'\u001b[39m:\n\u001b[0;32m    131\u001b[0m         results \u001b[39m=\u001b[39m add_dhydro_basis_network(\n\u001b[0;32m    132\u001b[0m             model_dir\u001b[39m=\u001b[39mmodel_dir, \n\u001b[0;32m    133\u001b[0m             set_name\u001b[39m=\u001b[39mset_name, \n\u001b[1;32m   (...)\u001b[0m\n\u001b[0;32m    137\u001b[0m             volume_tool_increment\u001b[39m=\u001b[39mdhydro_volume_tool_increment\n\u001b[0;32m    138\u001b[0m         )\n\u001b[0;32m    140\u001b[0m     \u001b[39mself\u001b[39m\u001b[39m.\u001b[39mbasis_source_types\u001b[39m.\u001b[39mappend(source_type)\n",
      "File \u001b[1;32mc:\\Users\\NLTAND\\OneDrive - Sweco AB\\Algemeen-Tessa\\Projecten\\TKI oppervlaktewatermodule NHI\\ribasim_lumping_NL\\notebooks\\..\\ribasim_lumping_nl\\dhydro\\read_dhydro_simulations.py:24\u001b[0m, in \u001b[0;36madd_dhydro_basis_network\u001b[1;34m(model_dir, set_name, simulation_name, volume_tool_bat_file, volume_tool_force, volume_tool_increment, crs)\u001b[0m\n\u001b[0;32m     22\u001b[0m \u001b[39m\u001b[39m\u001b[39m\"\"\"Extracts nodes, edges, weirs, pumps from his/map\"\"\"\u001b[39;00m\n\u001b[0;32m     23\u001b[0m basis_simulation_path \u001b[39m=\u001b[39m Path(model_dir, simulation_name)\n\u001b[1;32m---> 24\u001b[0m results \u001b[39m=\u001b[39m get_dhydro_data_from_simulation(\n\u001b[0;32m     25\u001b[0m     basis_simulation_path, \n\u001b[0;32m     26\u001b[0m     crs\u001b[39m=\u001b[39;49mcrs,\n\u001b[0;32m     27\u001b[0m     volume_tool_bat_file\u001b[39m=\u001b[39;49mvolume_tool_bat_file, \n\u001b[0;32m     28\u001b[0m     volume_tool_force\u001b[39m=\u001b[39;49mvolume_tool_force,\n\u001b[0;32m     29\u001b[0m     volume_tool_increment\u001b[39m=\u001b[39;49mvolume_tool_increment\n\u001b[0;32m     30\u001b[0m )\n\u001b[0;32m     32\u001b[0m results_gdfs \u001b[39m=\u001b[39m []\n\u001b[0;32m     33\u001b[0m \u001b[39mfor\u001b[39;00m gdf_name \u001b[39min\u001b[39;00m [\n\u001b[0;32m     34\u001b[0m     \u001b[39m'\u001b[39m\u001b[39mnetwork_data\u001b[39m\u001b[39m'\u001b[39m, \u001b[39m'\u001b[39m\u001b[39mbranches_gdf\u001b[39m\u001b[39m'\u001b[39m, \u001b[39m'\u001b[39m\u001b[39mnetwork_nodes_gdf\u001b[39m\u001b[39m'\u001b[39m,\n\u001b[0;32m     35\u001b[0m     \u001b[39m'\u001b[39m\u001b[39medges_gdf\u001b[39m\u001b[39m'\u001b[39m, \u001b[39m'\u001b[39m\u001b[39mnodes_gdf\u001b[39m\u001b[39m'\u001b[39m, \u001b[39m'\u001b[39m\u001b[39mboundaries_gdf\u001b[39m\u001b[39m'\u001b[39m, \u001b[39m'\u001b[39m\u001b[39mlaterals_gdf\u001b[39m\u001b[39m'\u001b[39m, \u001b[39m'\u001b[39m\u001b[39mvolume_data\u001b[39m\u001b[39m'\u001b[39m\n\u001b[0;32m     36\u001b[0m ]:\n",
      "File \u001b[1;32mc:\\Users\\NLTAND\\OneDrive - Sweco AB\\Algemeen-Tessa\\Projecten\\TKI oppervlaktewatermodule NHI\\ribasim_lumping_NL\\notebooks\\..\\ribasim_lumping_nl\\dhydro\\read_dhydro_network.py:359\u001b[0m, in \u001b[0;36mget_dhydro_data_from_simulation\u001b[1;34m(simulation_path, volume_tool_bat_file, volume_tool_force, volume_tool_increment, crs)\u001b[0m\n\u001b[0;32m    356\u001b[0m laterals_data \u001b[39m=\u001b[39m \u001b[39mNone\u001b[39;00m\n\u001b[0;32m    357\u001b[0m boundaries_data \u001b[39m=\u001b[39m \u001b[39mNone\u001b[39;00m\n\u001b[1;32m--> 359\u001b[0m files \u001b[39m=\u001b[39m get_dhydro_files(simulation_path)\n\u001b[0;32m    361\u001b[0m network_data, network_nc \u001b[39m=\u001b[39m get_dhydro_network_data(files[\u001b[39m'\u001b[39m\u001b[39mnet_file\u001b[39m\u001b[39m'\u001b[39m])\n\u001b[0;32m    362\u001b[0m network_nodes_gdf \u001b[39m=\u001b[39m get_dhydro_network_nodes_from_network_nc(network_nc, crs)\n",
      "File \u001b[1;32mc:\\Users\\NLTAND\\OneDrive - Sweco AB\\Algemeen-Tessa\\Projecten\\TKI oppervlaktewatermodule NHI\\ribasim_lumping_NL\\notebooks\\..\\ribasim_lumping_nl\\dhydro\\read_dhydro_network.py:26\u001b[0m, in \u001b[0;36mget_dhydro_files\u001b[1;34m(simulation_path)\u001b[0m\n\u001b[0;32m     23\u001b[0m mdu_file \u001b[39m=\u001b[39m find_file_in_directory(simulation_path, \u001b[39m\"\u001b[39m\u001b[39m.mdu\u001b[39m\u001b[39m\"\u001b[39m)\n\u001b[0;32m     24\u001b[0m \u001b[39m# print(f\"  - MDU-file: {mdu_file}\")\u001b[39;00m\n\u001b[1;32m---> 26\u001b[0m replace_string_in_file(mdu_file, \u001b[39m\"\u001b[39;49m\u001b[39m*\u001b[39;49m\u001b[39m\\n\u001b[39;49;00m\u001b[39m\"\u001b[39;49m, \u001b[39m\"\u001b[39;49m\u001b[39m# *\u001b[39;49m\u001b[39m\\n\u001b[39;49;00m\u001b[39m\"\u001b[39;49m)\n\u001b[0;32m     27\u001b[0m mdu \u001b[39m=\u001b[39m configparser\u001b[39m.\u001b[39mConfigParser()\n\u001b[0;32m     28\u001b[0m mdu_dir \u001b[39m=\u001b[39m Path(mdu_file)\u001b[39m.\u001b[39mparent\n",
      "File \u001b[1;32mc:\\Users\\NLTAND\\OneDrive - Sweco AB\\Algemeen-Tessa\\Projecten\\TKI oppervlaktewatermodule NHI\\ribasim_lumping_NL\\notebooks\\..\\ribasim_lumping_nl\\utils\\general_functions.py:15\u001b[0m, in \u001b[0;36mreplace_string_in_file\u001b[1;34m(file_path, string, new_string)\u001b[0m\n\u001b[0;32m     14\u001b[0m \u001b[39mdef\u001b[39;00m \u001b[39mreplace_string_in_file\u001b[39m(file_path, string, new_string):\n\u001b[1;32m---> 15\u001b[0m     \u001b[39mwith\u001b[39;00m \u001b[39mopen\u001b[39;49m(file_path, \u001b[39m\"\u001b[39;49m\u001b[39mr\u001b[39;49m\u001b[39m\"\u001b[39;49m) \u001b[39mas\u001b[39;00m file:\n\u001b[0;32m     16\u001b[0m         content \u001b[39m=\u001b[39m file\u001b[39m.\u001b[39mread()\n\u001b[0;32m     17\u001b[0m     content \u001b[39m=\u001b[39m content\u001b[39m.\u001b[39mreplace(string, new_string)\n",
      "\u001b[1;31mPermissionError\u001b[0m: [Errno 13] Permission denied: '.'"
     ]
    }
   ],
   "source": [
    "# Read network data and extract all objects (weirs/pumps/laterals/confluences/bifurcations)\n",
    "network.add_basis_network(\n",
    "    source_type='dhydro',\n",
    "    set_name=\"winter\",\n",
    "    model_dir=Path(dhydro_basis_dir, \"winter\"),\n",
    "    simulation_name=\"0_01\",\n",
    "    dhydro_volume_tool_bat_file=dhydro_volume_tool_bat_file, \n",
    "    dhydro_volume_tool_force=True,\n",
    "    dhydro_volume_tool_increment=dhydro_volume_tool_increment\n",
    ");\n",
    "# network.add_basis_network(\n",
    "#     source_type='dhydro',\n",
    "#     set_name='winter2', \n",
    "#     model_dir=Path(dhydro_basis_dir, \"winter\"),\n",
    "#     simulation_name=\"HoogeRaamRibasim.dsproj_data\",\n",
    "#     dhydro_volume_tool_bat_file=dhydro_volume_tool_bat_file, \n",
    "#     dhydro_volume_tool_force=True,\n",
    "#     dhydro_volume_tool_increment=0.1\n",
    "# );"
   ]
  },
  {
   "cell_type": "code",
   "execution_count": null,
   "metadata": {},
   "outputs": [],
   "source": [
    "# Select simulation sets and extract all data using xugrid/ugrid\n",
    "network.add_simulation_set(\n",
    "    source_type='dhydro',\n",
    "    set_name=\"winter\",\n",
    "    model_dir=Path(dhydro_results_dir, \"winter\"),\n",
    "    simulation_names=[\"0_01\", \"0_02\", \"0_05\", \"0_075\", \"0_1\", \"0_2\", \"0_5\", \"0_75\", \"1_0\", \"1_5\", \"2_0\"],\n",
    "    simulation_ts=[-1],\n",
    ");\n",
    "# network.add_simulation_set(\n",
    "#     source_type='dhydro',\n",
    "#     set_name=\"zomer\",\n",
    "#     model_dir=Path(dhydro_results_dir, \"winter\"),\n",
    "#     simulation_names=[\"0_01\", \"0_02\", \"0_05\", \"0_075\", \"0_1\", \"0_2\", \"0_5\", \"0_75\", \"1_0\", \"1_5\", \"2_0\"],\n",
    "#     simulation_ts=[-1],\n",
    "# );"
   ]
  },
  {
   "cell_type": "markdown",
   "metadata": {},
   "source": [
    "#### OPZETTEN SIMULATIE"
   ]
  },
  {
   "cell_type": "code",
   "execution_count": null,
   "metadata": {},
   "outputs": [],
   "source": [
    "simulation_code = \"test_14f_gebieden\"\n",
    "set_name = 'winter'\n",
    "starttime = \"2020-01-01 00:00:00\"\n",
    "endtime = \"2020-02-01 00:00:00\""
   ]
  },
  {
   "cell_type": "markdown",
   "metadata": {},
   "source": [
    "Define locations where the network should be split into Ribasim basins:"
   ]
  },
  {
   "cell_type": "code",
   "execution_count": null,
   "metadata": {},
   "outputs": [],
   "source": [
    "# black list: \"105BGA\"\n",
    "network.add_split_nodes(\n",
    "    weirs=False,\n",
    "    pumps=False,\n",
    "    uniweirs=False,\n",
    "    edges=False,\n",
    "    structures_ids_to_include=[\n",
    "        \"105PAS\", \"105HOE\", \"105PVS\", \"105BZS\",                         # 5 gebieden\n",
    "        \"105BRG\", \"105PCS\", \"105ONS\", \"105ACS\", \"105ADS\",               # 10 gebieden\n",
    "        # \"105NBG\", \"105PVS\", \"105AGS\", \"105LBW\", \"105BGA\",             # 14a gebieden\n",
    "        # \"105DHA\", \"105PVS\", \"105AGS\", \"105LBW\", \"105BGA\",             # 14b gebieden\n",
    "        # \"105DHA\", \"105NBG\", \"105AGS\", \"105LBW\", \"105BGA\",             # 14c gebieden\n",
    "        # \"105DHA\", \"105NBG\", \"105PVS\", \"105LBW\", \"105BGA\",             # 14d gebieden\n",
    "        # \"105DHA\", \"105NBG\", \"105PVS\", \"105AGS\", \"105BGA\",             # 14e gebieden\n",
    "        \"105DHA\", \"105NBG\", \"105PVS\", \"105AGS\", \"105LBW\",             # 14f gebieden\n",
    "        # \"105DHA\", \"105NBG\", \"105PVS\", \"105AGS\", \"105LBW\", \"105GLS\"      # 15 gebieden\n",
    "        # \"105DHA\", \"105NBG\", \"105PVS\", \"105AGS\", \"105LBW\", \"105BGA\"      # 15 gebieden slow\n",
    "        \n",
    "        # '105MKP', '105PDS', '105AFT', \n",
    "        # '105GLS', '105ADH', '105WEV',\n",
    "        # '105NBG', '105SBG', '105OMK', \n",
    "        # '105NXV', '105BZS', '105VLW',\n",
    "        # '105PDT', '105OUS', '105OVS', \n",
    "        # '105OQS', '105OXS', '105LHW',\n",
    "        # '105AGS', '105AHS', '105DHA', \n",
    "        # '105PET', '105PVS', '105HOE',\n",
    "        # '105PGS', '105PES', '105BZV', \n",
    "        # '105ABS', '105ACS', '105PCL',\n",
    "        # '105BRM', '105PBK', '105SAW', \n",
    "        # '105NXS', '105ONS', '105OMS',\n",
    "        # '105BFA', '105MPD', '105LBW', \n",
    "        # '105PLW', '105PCS', '105ADB',\n",
    "        # '105PBR', '105HHT', '105AKS', \n",
    "        # '105HOO', '105PAS', #'105BGA', \n",
    "        # '105RKW', '105ADK', '105PDR', \n",
    "        # '105AFS', '105AES', '105ADS',\n",
    "        # '105BUS', '105ZAN', '105BRG',\n",
    "    ],\n",
    "    structures_ids_to_exclude=[\"105BBW\"],\n",
    "    edge_ids_to_include=[],                                  # 1 edge voor 15 gebieden\n",
    "    edge_ids_to_exclude=[],\n",
    ");"
   ]
  },
  {
   "cell_type": "code",
   "execution_count": 2,
   "metadata": {},
   "outputs": [
    {
     "ename": "NameError",
     "evalue": "name 'network' is not defined",
     "output_type": "error",
     "traceback": [
      "\u001b[1;31m---------------------------------------------------------------------------\u001b[0m",
      "\u001b[1;31mNameError\u001b[0m                                 Traceback (most recent call last)",
      "Cell \u001b[1;32mIn[2], line 1\u001b[0m\n\u001b[1;32m----> 1\u001b[0m network\u001b[39m.\u001b[39msplit_nodes\u001b[39m.\u001b[39msplit_node_id\u001b[39m.\u001b[39mvalues\n",
      "\u001b[1;31mNameError\u001b[0m: name 'network' is not defined"
     ]
    }
   ],
   "source": [
    "network.split_nodes.split_node_id.values"
   ]
  },
  {
   "cell_type": "markdown",
   "metadata": {},
   "source": [
    "Specify translation split_nodes to ribasim-nodes per type or for specifiek split_node_id"
   ]
  },
  {
   "cell_type": "code",
   "execution_count": null,
   "metadata": {},
   "outputs": [],
   "source": [
    "split_node_type_conversion = dict(\n",
    "    weir=\"TabulatedRatingCurve\",\n",
    "    uniweir=\"TabulatedRatingCurve\",\n",
    "    pump=\"Pump\",\n",
    "    culvert=\"TabulatedRatingCurve\",\n",
    "    edge=\"ManningResistance\",\n",
    "    orifice=\"Outlet\",\n",
    "    boundary_connection=\"ManningResistance\"\n",
    ")\n",
    "split_node_id_conversion = {}"
   ]
  },
  {
   "cell_type": "markdown",
   "metadata": {},
   "source": [
    "Create basins (gdf) based on nodes, edges, split_node_ids and areas"
   ]
  },
  {
   "cell_type": "code",
   "execution_count": null,
   "metadata": {},
   "outputs": [],
   "source": [
    "network.generate_ribasim_lumping_network(\n",
    "    simulation_code=simulation_code,\n",
    "    split_node_type_conversion=split_node_type_conversion,\n",
    "    split_node_id_conversion=split_node_id_conversion,\n",
    ");"
   ]
  },
  {
   "cell_type": "markdown",
   "metadata": {},
   "source": [
    "Generate Ribasim model and export to geopackage"
   ]
  },
  {
   "cell_type": "code",
   "execution_count": null,
   "metadata": {},
   "outputs": [],
   "source": [
    "ribasim_model = network.generate_ribasim_model_complete(\n",
    "    set_name=set_name,\n",
    "    starttime=starttime,\n",
    "    endtime=endtime\n",
    ")"
   ]
  },
  {
   "cell_type": "code",
   "execution_count": null,
   "metadata": {},
   "outputs": [],
   "source": [
    "# network.plot_basin_waterlevels_for_basins(\n",
    "#     set_name='winter', \n",
    "#     basins_nos=[6, 9, 10, 39, 19, 57, 58, 53, 20, 38]\n",
    "# );"
   ]
  },
  {
   "cell_type": "code",
   "execution_count": null,
   "metadata": {},
   "outputs": [],
   "source": [
    "f\"Duration: {pd.Timestamp.now() - start_time}\""
   ]
  },
  {
   "cell_type": "code",
   "execution_count": null,
   "metadata": {},
   "outputs": [],
   "source": [
    "basin_df, control_df, flow_df = network.read_ribasim_results(simulation_code=simulation_code)\n",
    "basin_df.drop(columns='node_id').groupby('time').sum()['storage'].plot()"
   ]
  },
  {
   "cell_type": "code",
   "execution_count": null,
   "metadata": {},
   "outputs": [],
   "source": [
    "flow_df[~flow_df['edge_id'].isna()].groupby('to_node_id').get_group(1)['flow'].plot()"
   ]
  },
  {
   "cell_type": "code",
   "execution_count": null,
   "metadata": {},
   "outputs": [],
   "source": []
  },
  {
   "cell_type": "code",
   "execution_count": null,
   "metadata": {},
   "outputs": [],
   "source": []
  },
  {
   "cell_type": "code",
   "execution_count": null,
   "metadata": {},
   "outputs": [],
   "source": [
    "# q = uniweirs_q_gdf.loc['weirgen_discharge'].iloc[5]['winter']"
   ]
  },
  {
   "cell_type": "code",
   "execution_count": null,
   "metadata": {},
   "outputs": [],
   "source": [
    "# import numpy as np\n",
    "# import matplotlib.pyplot as plt\n",
    "# from scipy.optimize import curve_fit\n",
    "\n",
    "# for i, weir in uniweirs_q_gdf.loc['weirgen_discharge']['winter'].iterrows():\n",
    "#     x_data = weir.index.values\n",
    "#     y_data = weir.values\n",
    "\n",
    "#     def exponential_function(x, a, b):\n",
    "#         return a * np.exp(b * x)\n",
    "\n",
    "#     params, covariance = curve_fit(exponential_function, x_data, y_data)\n",
    "#     a, b = params\n",
    "\n",
    "#     y_fit = exponential_function(x_data, a, b)\n",
    "\n",
    "#     fig, ax = plt.subplots()\n",
    "#     ax.scatter(x_data, y_data, label=\"Data\")\n",
    "#     ax.plot(x_data, y_fit, \"-x\", label=\"Exponential Fit\", color='red')\n",
    "#     fig.show()\n",
    "#     # plt.legend()\n",
    "#     # plt.xlabel('X')\n",
    "#     # plt.ylabel('Y')\n",
    "#     # plt.title('Exponential Regression')\n",
    "#     # plt.show()"
   ]
  },
  {
   "cell_type": "code",
   "execution_count": null,
   "metadata": {},
   "outputs": [],
   "source": [
    "# def exponential_function(x, a, b):\n",
    "#     return a * np.exp(b * x)\n",
    "\n",
    "# def apply_exponential_function(df_series):\n",
    "#     x_data = df_series.index.values\n",
    "#     y_data = df_series.values\n",
    "#     params, covariance = curve_fit(exponential_function, x_data, y_data)\n",
    "#     a, b = params\n",
    "#     y_fit = exponential_function(x_data, a, b)\n",
    "#     df_series.values = y_fit\n",
    "#     return df_series\n",
    "\n",
    "# uniweirs_q_gdf#.loc['winter']#.apply(lambda row: apply_exponential_function(row))"
   ]
  },
  {
   "cell_type": "code",
   "execution_count": null,
   "metadata": {},
   "outputs": [],
   "source": []
  },
  {
   "cell_type": "code",
   "execution_count": null,
   "metadata": {},
   "outputs": [],
   "source": []
  }
 ],
 "metadata": {
  "kernelspec": {
   "display_name": "ribasim",
   "language": "python",
   "name": "python3"
  },
  "language_info": {
   "codemirror_mode": {
    "name": "ipython",
    "version": 3
   },
   "file_extension": ".py",
   "mimetype": "text/x-python",
   "name": "python",
   "nbconvert_exporter": "python",
   "pygments_lexer": "ipython3",
   "version": "3.11.0"
  },
  "vscode": {
   "interpreter": {
    "hash": "dfc666eb4a62d5826d85bcfe032d59ef4dfc699941e19e14832498fb495ee494"
   }
  }
 },
 "nbformat": 4,
 "nbformat_minor": 4
}
