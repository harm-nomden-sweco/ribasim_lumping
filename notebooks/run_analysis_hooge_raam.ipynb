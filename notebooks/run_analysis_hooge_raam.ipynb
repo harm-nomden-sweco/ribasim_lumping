{
 "cells": [
  {
   "cell_type": "code",
   "execution_count": null,
   "metadata": {},
   "outputs": [],
   "source": [
    "import sys\n",
    "from pathlib import Path\n",
    "import matplotlib.pyplot as plt\n",
    "\n",
    "# add directory with ribasim-repository\n",
    "sys.path.append(\"..\\\\..\\\\ribasim\\\\python\\\\ribasim\")\n",
    "import ribasim\n",
    "\n",
    "# add directory with ribasim_lumping-repository\n",
    "sys.path.append(\"..\")\n",
    "import ribasim_lumping\n",
    "\n",
    "import pandas as pd\n",
    "import geopandas as gpd\n",
    "import numpy as np\n",
    "\n",
    "from numba.core.errors import NumbaDeprecationWarning\n",
    "import warnings\n",
    "\n",
    "warnings.simplefilter(\"ignore\", category=NumbaDeprecationWarning)\n",
    "warnings.simplefilter(\"ignore\", category=UserWarning)\n",
    "warnings.simplefilter(\"ignore\", category=FutureWarning)"
   ]
  },
  {
   "cell_type": "code",
   "execution_count": null,
   "metadata": {},
   "outputs": [],
   "source": [
    "%load_ext autoreload\n",
    "%autoreload 2"
   ]
  },
  {
   "cell_type": "code",
   "execution_count": null,
   "metadata": {},
   "outputs": [],
   "source": [
    "# Define network name, base dir\n",
    "network_name = \"tki_hooge_raam\"\n",
    "base_dir = Path(\"..\\\\..\\\\ribasim_lumping_data\\\\\")\n",
    "# Directory D-HYDRO basis calculations\n",
    "dhydro_basis_dir = Path(base_dir, network_name, \"2_dhydro\\\\basis\\\\\")\n",
    "# Directory D-HYDRO results calculations\n",
    "dhydro_results_dir = Path(base_dir, network_name, \"2_dhydro\\\\results\\\\\")\n",
    "# Directory on where to \n",
    "results_dir = Path(base_dir, network_name, \"3_ribasim\\\\network\\\\\")\n",
    "# batch file used to calculate volume D-Hydro module per GridPoint\n",
    "dhydro_volume_tool_bat_file = Path(r\"c:\\Program Files\\Deltares\\D-HYDRO Suite 2023.03 1D2D\\plugins\\DeltaShell.Dimr\\kernels\\x64\\dflowfm\\scripts\\run_dfm_volume_tool.bat\")\n",
    "dhydro_volume_tool_increment = 0.1"
   ]
  },
  {
   "cell_type": "code",
   "execution_count": null,
   "metadata": {},
   "outputs": [],
   "source": [
    "# Create networkanalysis\n",
    "network = ribasim_lumping.create_ribasim_lumping_network(\n",
    "    base_dir=base_dir,\n",
    "    name=network_name,\n",
    "    dhydro_basis_dir=dhydro_basis_dir,\n",
    "    dhydro_results_dir=dhydro_results_dir,\n",
    "    results_dir=results_dir,\n",
    "    crs=28992\n",
    ")\n",
    "# network.export_to_geopackage()"
   ]
  },
  {
   "cell_type": "code",
   "execution_count": null,
   "metadata": {},
   "outputs": [],
   "source": [
    "# Load areas (discharge units: afwaterende eenheden)\n",
    "areas_dir               = Path(base_dir, network_name, \"1_areas\")\n",
    "areas_file_name         = \"afwateringseenheden2023_v1_HoogeRaam.shp\"\n",
    "areas_id_column         = \"CODE\"\n",
    "network.read_areas(\n",
    "    areas_file_path=Path(areas_dir, areas_file_name), \n",
    "    areas_id_column=areas_id_column\n",
    ")"
   ]
  },
  {
   "cell_type": "code",
   "execution_count": null,
   "metadata": {},
   "outputs": [],
   "source": [
    "# Read network data and extract all objects (weirs/pumps/laterals/confluences/bifurcations)\n",
    "network.add_basis_network(\n",
    "    source_type='dhydro',\n",
    "    set_name='winter', \n",
    "    model_dir=Path(dhydro_basis_dir, \"winter\"),\n",
    "    simulation_name=\"HoogeRaamRibasim.dsproj_data\",\n",
    "    dhydro_volume_tool_bat_file=dhydro_volume_tool_bat_file, \n",
    "    dhydro_volume_tool_force=True,\n",
    "    dhydro_volume_tool_increment=dhydro_volume_tool_increment\n",
    ");\n",
    "# network.add_basis_network(\n",
    "#     source_type='dhydro',\n",
    "#     set_name='winter2', \n",
    "#     model_dir=Path(dhydro_basis_dir, \"winter\"),\n",
    "#     simulation_name=\"HoogeRaamRibasim.dsproj_data\",\n",
    "#     dhydro_volume_tool_bat_file=dhydro_volume_tool_bat_file, \n",
    "#     dhydro_volume_tool_force=True,\n",
    "#     dhydro_volume_tool_increment=0.1\n",
    "# );"
   ]
  },
  {
   "cell_type": "code",
   "execution_count": null,
   "metadata": {},
   "outputs": [],
   "source": [
    "fig, ax = plt.subplots(figsize=(6,6))\n",
    "network.volume_data.bedlevel.ugrid.to_geodataframe().plot(column='bedlevel', cmap='Spectral', legend=True, ax=ax)"
   ]
  },
  {
   "cell_type": "code",
   "execution_count": null,
   "metadata": {},
   "outputs": [],
   "source": [
    "def interp_surface_levels(dataset_volume):\n",
    "    zlevels = dataset_volume.bedlevel.to_dataframe().T\n",
    "    zlevels.columns.name = 'node_no'\n",
    "    zlevels.index = [0]\n",
    "    bedlevel = zlevels.iloc[[0]]\n",
    "\n",
    "    surface_df = dataset_volume.surface.to_dataframe().unstack()\n",
    "    surface_df.replace(0.0, np.nan, inplace=True)\n",
    "    surface_df = surface_df.T.ffill().T\n",
    "    surface_df.index.name = 'node_no'\n",
    "    surface_df = surface_df['surface'].T\n",
    "    surface_df = pd.concat([bedlevel - 0.01, surface_df]).reset_index(drop=True)\n",
    "    surface_df.iloc[0] = 0\n",
    "\n",
    "    for i in range(1, len(surface_df)):\n",
    "        zlevels = pd.concat([zlevels, bedlevel + dhydro_volume_tool_increment * i])\n",
    "    zlevels = zlevels.reset_index(drop=True)\n",
    "    z_range = np.arange(np.floor(zlevels.min().min()), np.ceil(zlevels.max().max())+0.01, dhydro_volume_tool_increment)\n",
    "\n",
    "    df_out = pd.DataFrame(index=z_range, columns=surface_df.columns)\n",
    "    df_out.index.name = 'zlevel'\n",
    "    for col in surface_df.columns:\n",
    "        df_data_col = pd.DataFrame(index=zlevels[col], data=surface_df[col].values, columns=[col])[col]\n",
    "        df_out[col] = np.interp(z_range, zlevels[col].values, df_data_col.values)\n",
    "    return df_out"
   ]
  },
  {
   "cell_type": "code",
   "execution_count": null,
   "metadata": {},
   "outputs": [],
   "source": [
    "surface_df = interp_surface_levels(network.volume_data)\n",
    "storage_df = (surface_df*0.1).cumsum()"
   ]
  },
  {
   "cell_type": "code",
   "execution_count": null,
   "metadata": {},
   "outputs": [],
   "source": [
    "# Select simulation sets and extract all data using xugrid/ugrid\n",
    "network.add_simulation_data(\n",
    "    set_name=\"winter\",\n",
    "    model_dir=Path(dhydro_results_dir, \"winter\"),\n",
    "    simulation_names=[\"0_01\", \"0_02\", \"0_05\", \"0_075\", \"0_1\",\n",
    "                      \"0_2\", \"0_5\", \"0_75\", \"1_0\", \"1_5\", \"2_0\"],\n",
    "    simulation_ts=[-1],\n",
    ");\n",
    "# Select simulation sets and extract all data using xugrid/ugrid\n",
    "network.add_simulation_data(\n",
    "    set_name=\"zomer\",\n",
    "    model_dir=Path(dhydro_results_dir, \"winter\"),\n",
    "    simulation_names=[\"0_01\", \"0_02\", \"0_05\", \"0_075\", \"0_1\",\n",
    "                      \"0_2\", \"0_5\", \"0_75\", \"1_0\", \"1_5\", \"2_0\"],\n",
    "    simulation_ts=[-1],\n",
    ");"
   ]
  },
  {
   "cell_type": "code",
   "execution_count": null,
   "metadata": {},
   "outputs": [],
   "source": [
    "nodes_h_df = network.map_data.mesh1d_s1.to_dataframe().unstack().mesh1d_s1\n",
    "old_index = nodes_h_df.index.copy()\n",
    "nodes_h_df = pd.concat([nodes_h_df[col].sort_values(ignore_index=True) for col in nodes_h_df], axis=1)\n",
    "nodes_h_df.index = old_index\n",
    "nodes_h_df.head()"
   ]
  },
  {
   "cell_type": "code",
   "execution_count": null,
   "metadata": {},
   "outputs": [],
   "source": [
    "# Define locations where the network should be split into Ribasim basins:\n",
    "network.add_split_nodes(\n",
    "    weirs=True,\n",
    "    pumps=False,\n",
    "    uniweirs=False,\n",
    "    edges=False,\n",
    "    structures_ids_to_include=[],\n",
    "    structures_ids_to_exclude=[\"S105BBW\"],\n",
    "    edge_ids_to_include=[],\n",
    "    edge_ids_to_exclude=[],\n",
    ");"
   ]
  },
  {
   "cell_type": "code",
   "execution_count": null,
   "metadata": {},
   "outputs": [],
   "source": [
    "# Create basins (gdf) based on nodes, edges, split_node_ids and areas\n",
    "network.generate_ribasim_network()\n",
    "# Export to geopackage\n",
    "network.export_to_geopackage()"
   ]
  },
  {
   "cell_type": "code",
   "execution_count": null,
   "metadata": {},
   "outputs": [],
   "source": [
    "network.boundaries_gdf"
   ]
  },
  {
   "cell_type": "code",
   "execution_count": null,
   "metadata": {},
   "outputs": [],
   "source": [
    "network.split_nodes.head()"
   ]
  },
  {
   "cell_type": "code",
   "execution_count": null,
   "metadata": {},
   "outputs": [],
   "source": [
    "network.basins_gdf.head()"
   ]
  },
  {
   "cell_type": "code",
   "execution_count": null,
   "metadata": {},
   "outputs": [],
   "source": [
    "network.basin_connections_gdf.head()"
   ]
  },
  {
   "cell_type": "code",
   "execution_count": null,
   "metadata": {},
   "outputs": [],
   "source": [
    "network.boundary_connections_gdf.head()"
   ]
  },
  {
   "cell_type": "code",
   "execution_count": null,
   "metadata": {},
   "outputs": [],
   "source": [
    "# specify translation split_nodes to ribasim-nodes per type\n",
    "split_node_type_conversion = {\n",
    "    \"weir\": \"TabulatedRatingCurve\",\n",
    "    \"uniweir\": \"TabulatedRatingCurve\",\n",
    "    \"pump\": \"Pump\",\n",
    "    \"culvert\": \"TabulatedRatingCurve\",\n",
    "    \"edge\": \"ManningResistance\",\n",
    "    \"orifice\": \"TabulatedRatingCurve\",\n",
    "    \"boundary_connection\": \"ManningResistance\"\n",
    "}\n",
    "# specify translation for specific split_nodes to type of ribasim-node\n",
    "split_node_id_conversion = {\n",
    "    \"ST303938\": \"ManningResistance\"\n",
    "}"
   ]
  },
  {
   "cell_type": "code",
   "execution_count": null,
   "metadata": {},
   "outputs": [],
   "source": [
    "# Generate Ribasim model and export to geopackage\n",
    "ribasim_model = network.generate_ribasim_model(\n",
    "    split_node_type_conversion=split_node_type_conversion,\n",
    "    split_node_id_conversion=split_node_id_conversion,\n",
    ")\n",
    "ribasim_model.write(Path(results_dir, network.name))"
   ]
  },
  {
   "cell_type": "code",
   "execution_count": null,
   "metadata": {},
   "outputs": [],
   "source": []
  }
 ],
 "metadata": {
  "kernelspec": {
   "display_name": "ribasim",
   "language": "python",
   "name": "python3"
  },
  "language_info": {
   "codemirror_mode": {
    "name": "ipython",
    "version": 3
   },
   "file_extension": ".py",
   "mimetype": "text/x-python",
   "name": "python",
   "nbconvert_exporter": "python",
   "pygments_lexer": "ipython3",
   "version": "3.11.5"
  }
 },
 "nbformat": 4,
 "nbformat_minor": 4
}
