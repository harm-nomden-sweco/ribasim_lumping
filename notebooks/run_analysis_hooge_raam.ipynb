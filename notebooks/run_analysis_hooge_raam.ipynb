{
 "cells": [
  {
   "cell_type": "code",
   "execution_count": null,
   "metadata": {},
   "outputs": [],
   "source": [
    "import sys\n",
    "from pathlib import Path\n",
    "import matplotlib.pyplot as plt\n",
    "\n",
    "# add directory with ribasim-repository\n",
    "sys.path.append(\"..\\\\..\\\\ribasim\\\\python\\\\ribasim\")\n",
    "import ribasim\n",
    "\n",
    "# add directory with ribasim_lumping-repository\n",
    "sys.path.append(\"..\")\n",
    "import ribasim_lumping\n",
    "\n",
    "import pandas as pd\n",
    "import geopandas as gpd\n",
    "import numpy as np\n",
    "\n",
    "from numba.core.errors import NumbaDeprecationWarning\n",
    "import warnings\n",
    "\n",
    "warnings.simplefilter(\"ignore\", category=NumbaDeprecationWarning)\n",
    "warnings.simplefilter(\"ignore\", category=UserWarning)\n",
    "warnings.simplefilter(\"ignore\", category=FutureWarning)\n",
    "pd.options.mode.chained_assignment = None"
   ]
  },
  {
   "cell_type": "code",
   "execution_count": null,
   "metadata": {},
   "outputs": [],
   "source": [
    "%load_ext autoreload\n",
    "%autoreload 2"
   ]
  },
  {
   "cell_type": "code",
   "execution_count": null,
   "metadata": {},
   "outputs": [],
   "source": [
    "start_time = pd.Timestamp.now()"
   ]
  },
  {
   "cell_type": "markdown",
   "metadata": {},
   "source": [
    "#### BASIS OPZETTEN"
   ]
  },
  {
   "cell_type": "code",
   "execution_count": null,
   "metadata": {},
   "outputs": [],
   "source": [
    "# define network name, base dir\n",
    "network_name = \"tki_hooge_raam\"\n",
    "base_dir = Path(\"..\\\\..\\\\ribasim_lumping_data\\\\\")\n",
    "# directory D-HYDRO basis calculations\n",
    "dhydro_basis_dir = Path(base_dir, network_name, \"2_dhydro\\\\basis\\\\\")\n",
    "# directory D-HYDRO results calculations\n",
    "dhydro_results_dir = Path(base_dir, network_name, \"2_dhydro\\\\results\\\\\")\n",
    "# directory results\n",
    "results_dir = Path(base_dir, network_name, \"3_ribasim\\\\\")\n",
    "# batch file used to calculate volume D-Hydro module per GridPoint\n",
    "dhydro_volume_tool_bat_file = Path(r\"c:\\Program Files\\Deltares\\D-HYDRO Suite 2023.03 1D2D\\plugins\\DeltaShell.Dimr\\kernels\\x64\\dflowfm\\scripts\\run_dfm_volume_tool.bat\")\n",
    "dhydro_volume_tool_increment = 0.1"
   ]
  },
  {
   "cell_type": "code",
   "execution_count": null,
   "metadata": {},
   "outputs": [],
   "source": [
    "# Create networkanalysis\n",
    "network = ribasim_lumping.create_ribasim_lumping_network(\n",
    "    base_dir=base_dir,\n",
    "    name=network_name,\n",
    "    dhydro_basis_dir=dhydro_basis_dir,\n",
    "    dhydro_results_dir=dhydro_results_dir,\n",
    "    results_dir=results_dir,\n",
    "    crs=28992\n",
    ")\n",
    "# network.export_to_geopackage()"
   ]
  },
  {
   "cell_type": "markdown",
   "metadata": {},
   "source": [
    "#### INLEZEN NETWERK EN SIMULATIE DATA"
   ]
  },
  {
   "cell_type": "code",
   "execution_count": null,
   "metadata": {},
   "outputs": [],
   "source": [
    "# Load areas (discharge units: afwaterende eenheden)\n",
    "areas_dir               = Path(base_dir, network_name, \"1_areas\")\n",
    "areas_file_name         = \"afwateringseenheden2023_v1_HoogeRaam.shp\"\n",
    "areas_id_column         = \"CODE\"\n",
    "network.read_areas(\n",
    "    areas_file_path=Path(areas_dir, areas_file_name), \n",
    "    areas_id_column=areas_id_column\n",
    ")"
   ]
  },
  {
   "cell_type": "code",
   "execution_count": null,
   "metadata": {},
   "outputs": [],
   "source": [
    "# Read network data and extract all objects (weirs/pumps/laterals/confluences/bifurcations)\n",
    "network.add_basis_network(\n",
    "    source_type='dhydro',\n",
    "    set_name=\"winter\",\n",
    "    model_dir=Path(dhydro_basis_dir, \"winter\"),\n",
    "    simulation_name=\"0_01\",\n",
    "    dhydro_volume_tool_bat_file=dhydro_volume_tool_bat_file, \n",
    "    dhydro_volume_tool_force=True,\n",
    "    dhydro_volume_tool_increment=dhydro_volume_tool_increment\n",
    ");\n",
    "# network.add_basis_network(\n",
    "#     source_type='dhydro',\n",
    "#     set_name='winter2', \n",
    "#     model_dir=Path(dhydro_basis_dir, \"winter\"),\n",
    "#     simulation_name=\"HoogeRaamRibasim.dsproj_data\",\n",
    "#     dhydro_volume_tool_bat_file=dhydro_volume_tool_bat_file, \n",
    "#     dhydro_volume_tool_force=True,\n",
    "#     dhydro_volume_tool_increment=0.1\n",
    "# );"
   ]
  },
  {
   "cell_type": "code",
   "execution_count": null,
   "metadata": {},
   "outputs": [],
   "source": [
    "# Select simulation sets and extract all data using xugrid/ugrid\n",
    "network.add_simulation_set(\n",
    "    source_type='dhydro',\n",
    "    set_name=\"winter\",\n",
    "    model_dir=Path(dhydro_results_dir, \"winter\"),\n",
    "    simulation_names=[\"0_01\", \"0_02\", \"0_05\", \"0_075\", \"0_1\", \"0_2\", \"0_5\", \"0_75\", \"1_0\", \"1_5\", \"2_0\"],\n",
    "    simulation_ts=[-1],\n",
    ");\n",
    "# network.add_simulation_set(\n",
    "#     source_type='dhydro',\n",
    "#     set_name=\"zomer\",\n",
    "#     model_dir=Path(dhydro_results_dir, \"winter\"),\n",
    "#     simulation_names=[\"0_01\", \"0_02\", \"0_05\", \"0_075\", \"0_1\", \"0_2\", \"0_5\", \"0_75\", \"1_0\", \"1_5\", \"2_0\"],\n",
    "#     simulation_ts=[-1],\n",
    "# );"
   ]
  },
  {
   "cell_type": "markdown",
   "metadata": {},
   "source": [
    "#### OPZETTEN SIMULATIE"
   ]
  },
  {
   "cell_type": "code",
   "execution_count": null,
   "metadata": {},
   "outputs": [],
   "source": [
    "simulation_code = \"test_samenwerkingsdag\""
   ]
  },
  {
   "cell_type": "code",
   "execution_count": null,
   "metadata": {},
   "outputs": [],
   "source": [
    "# Define locations where the network should be split into Ribasim basins:\n",
    "network.add_split_nodes(\n",
    "    weirs=True,\n",
    "    pumps=True,\n",
    "    uniweirs=False,\n",
    "    edges=False,\n",
    "    structures_ids_to_include=[],\n",
    "    structures_ids_to_exclude=[\"105BBW\"],\n",
    "    edge_ids_to_include=[],\n",
    "    edge_ids_to_exclude=[],\n",
    ");"
   ]
  },
  {
   "cell_type": "code",
   "execution_count": null,
   "metadata": {},
   "outputs": [],
   "source": [
    "# specify translation split_nodes to ribasim-nodes per type\n",
    "split_node_type_conversion = {\n",
    "    \"weir\": \"TabulatedRatingCurve\",\n",
    "    \"uniweir\": \"TabulatedRatingCurve\",\n",
    "    \"pump\": \"Pump\",\n",
    "    \"culvert\": \"TabulatedRatingCurve\",\n",
    "    \"edge\": \"ManningResistance\",\n",
    "    \"orifice\": \"Outlet\",\n",
    "    \"boundary_connection\": \"ManningResistance\"\n",
    "}\n",
    "# specify translation for specific split_nodes to type of ribasim-node\n",
    "split_node_id_conversion = {\n",
    "}"
   ]
  },
  {
   "cell_type": "code",
   "execution_count": null,
   "metadata": {},
   "outputs": [],
   "source": [
    "# Create basins (gdf) based on nodes, edges, split_node_ids and areas\n",
    "network.generate_ribasim_lumping_network(\n",
    "    simulation_code=simulation_code,\n",
    "    split_node_type_conversion=split_node_type_conversion,\n",
    "    split_node_id_conversion=split_node_id_conversion,\n",
    ");"
   ]
  },
  {
   "cell_type": "code",
   "execution_count": null,
   "metadata": {},
   "outputs": [],
   "source": [
    "# Generate Ribasim model and export to geopackage\n",
    "ribasim_model = network.generate_ribasim_model_complete(\n",
    "    set_name='winter',\n",
    "    starttime=\"2020-01-01 00:00:00\",\n",
    "    endtime=\"2020-02-01 00:00:00\"\n",
    ")"
   ]
  },
  {
   "cell_type": "code",
   "execution_count": null,
   "metadata": {},
   "outputs": [],
   "source": [
    "# network.plot_basin_waterlevels_based_on_node_nos(\n",
    "#     set_name='winter', \n",
    "#     basins_nos=[6, 9, 10, 39, 19, 57, 58, 53, 20, 38]\n",
    "# );"
   ]
  },
  {
   "cell_type": "code",
   "execution_count": null,
   "metadata": {},
   "outputs": [],
   "source": [
    "f\"Duration: {pd.Timestamp.now() - start_time}\""
   ]
  },
  {
   "cell_type": "code",
   "execution_count": null,
   "metadata": {},
   "outputs": [],
   "source": [
    "network.ribasim_model.tabulated_rating_curve.static.groupby('node_id').get_group(2).set_index('level')[['discharge']].plot()"
   ]
  },
  {
   "cell_type": "code",
   "execution_count": null,
   "metadata": {},
   "outputs": [],
   "source": []
  },
  {
   "cell_type": "code",
   "execution_count": null,
   "metadata": {},
   "outputs": [],
   "source": []
  },
  {
   "cell_type": "code",
   "execution_count": null,
   "metadata": {},
   "outputs": [],
   "source": []
  },
  {
   "cell_type": "code",
   "execution_count": null,
   "metadata": {},
   "outputs": [],
   "source": [
    "# # export resultaten voor inspectie\n",
    "# network.basins_h_df.to_csv(\"basins_h.csv\")\n",
    "# network.nodes_h_df.to_csv(\"nodes_h.csv\")\n",
    "# network.nodes_gdf[[\"node_no\", \"basin\", \"bedlevel\", \"geometry\"]].to_file(\"nodes.geojson\", driver=\"GeoJSON\")\n",
    "# network.basins_gdf[[\"basin\", \"node_id\", \"node_no\", \"name\", \"geometry\"]].to_file(\"basins.geojson\", driver=\"GeoJSON\")"
   ]
  },
  {
   "cell_type": "code",
   "execution_count": null,
   "metadata": {},
   "outputs": [],
   "source": [
    "# # nodes_h_df_1 = network.map_data.mesh1d_s1.to_dataframe().unstack().mesh1d_s1\n",
    "# # old_index = nodes_h_df_1.index.copy()\n",
    "# # nodes_h_df = pd.concat([nodes_h_df_1[col].sort_values().reset_index(drop=True) for col in nodes_h_df_1.columns], axis=1)\n",
    "# # nodes_h_df.index = old_index\n",
    "\n",
    "# uniweirs_q_gdf = network.his_data.weirgen_discharge.to_dataframe().unstack().T\n",
    "# uniweirs_q_gdf[uniweirs_q_gdf<0.0] = 0.0\n",
    "# uniweirs_q_gdf = uniweirs_q_gdf.round(3)"
   ]
  },
  {
   "cell_type": "code",
   "execution_count": null,
   "metadata": {},
   "outputs": [],
   "source": [
    "# q = uniweirs_q_gdf.loc['weirgen_discharge'].iloc[5]['winter']"
   ]
  },
  {
   "cell_type": "code",
   "execution_count": null,
   "metadata": {},
   "outputs": [],
   "source": [
    "# import numpy as np\n",
    "# import matplotlib.pyplot as plt\n",
    "# from scipy.optimize import curve_fit\n",
    "\n",
    "# for i, weir in uniweirs_q_gdf.loc['weirgen_discharge']['winter'].iterrows():\n",
    "#     x_data = weir.index.values\n",
    "#     y_data = weir.values\n",
    "\n",
    "#     def exponential_function(x, a, b):\n",
    "#         return a * np.exp(b * x)\n",
    "\n",
    "#     params, covariance = curve_fit(exponential_function, x_data, y_data)\n",
    "#     a, b = params\n",
    "\n",
    "#     y_fit = exponential_function(x_data, a, b)\n",
    "\n",
    "#     fig, ax = plt.subplots()\n",
    "#     ax.scatter(x_data, y_data, label=\"Data\")\n",
    "#     ax.plot(x_data, y_fit, \"-x\", label=\"Exponential Fit\", color='red')\n",
    "#     fig.show()\n",
    "#     # plt.legend()\n",
    "#     # plt.xlabel('X')\n",
    "#     # plt.ylabel('Y')\n",
    "#     # plt.title('Exponential Regression')\n",
    "#     # plt.show()"
   ]
  },
  {
   "cell_type": "code",
   "execution_count": null,
   "metadata": {},
   "outputs": [],
   "source": [
    "# def exponential_function(x, a, b):\n",
    "#     return a * np.exp(b * x)\n",
    "\n",
    "# def apply_exponential_function(df_series):\n",
    "#     x_data = df_series.index.values\n",
    "#     y_data = df_series.values\n",
    "#     params, covariance = curve_fit(exponential_function, x_data, y_data)\n",
    "#     a, b = params\n",
    "#     y_fit = exponential_function(x_data, a, b)\n",
    "#     df_series.values = y_fit\n",
    "#     return df_series\n",
    "\n",
    "# uniweirs_q_gdf#.loc['winter']#.apply(lambda row: apply_exponential_function(row))"
   ]
  }
 ],
 "metadata": {
  "kernelspec": {
   "display_name": "ribasim",
   "language": "python",
   "name": "python3"
  },
  "language_info": {
   "codemirror_mode": {
    "name": "ipython",
    "version": 3
   },
   "file_extension": ".py",
   "mimetype": "text/x-python",
   "name": "python",
   "nbconvert_exporter": "python",
   "pygments_lexer": "ipython3",
   "version": "3.11.5"
  }
 },
 "nbformat": 4,
 "nbformat_minor": 4
}
