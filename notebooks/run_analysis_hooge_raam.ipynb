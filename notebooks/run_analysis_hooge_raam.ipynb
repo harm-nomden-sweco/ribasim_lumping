{
 "cells": [
  {
   "cell_type": "code",
   "execution_count": null,
   "metadata": {},
   "outputs": [],
   "source": [
    "import sys\n",
    "from pathlib import Path\n",
    "import matplotlib.pyplot as plt\n",
    "\n",
    "# add directory with ribasim-repository\n",
    "sys.path.append(\"..\\\\..\\\\ribasim\\\\python\\\\ribasim\")\n",
    "import ribasim\n",
    "\n",
    "# add directory with ribasim_lumping-repository\n",
    "sys.path.append(\"..\")\n",
    "import ribasim_lumping\n",
    "\n",
    "import pandas as pd\n",
    "import geopandas as gpd\n",
    "import numpy as np\n",
    "import pyarrow as pa\n",
    "\n",
    "from numba.core.errors import NumbaDeprecationWarning\n",
    "import warnings\n",
    "\n",
    "warnings.simplefilter(\"ignore\", category=NumbaDeprecationWarning)\n",
    "warnings.simplefilter(\"ignore\", category=UserWarning)\n",
    "warnings.simplefilter(\"ignore\", category=FutureWarning)\n",
    "pd.options.mode.chained_assignment = None"
   ]
  },
  {
   "cell_type": "code",
   "execution_count": null,
   "metadata": {},
   "outputs": [],
   "source": [
    "%load_ext autoreload\n",
    "%autoreload 2"
   ]
  },
  {
   "cell_type": "code",
   "execution_count": null,
   "metadata": {},
   "outputs": [],
   "source": [
    "start_time = pd.Timestamp.now()"
   ]
  },
  {
   "cell_type": "markdown",
   "metadata": {},
   "source": [
    "#### BASIS OPZETTEN"
   ]
  },
  {
   "cell_type": "code",
   "execution_count": null,
   "metadata": {},
   "outputs": [],
   "source": [
    "# define network name, base dir\n",
    "network_name = \"tki_hooge_raam\"\n",
    "base_dir = Path(\"..\\\\..\\\\ribasim_lumping_data\\\\\")\n",
    "# directory D-HYDRO basis calculations\n",
    "dhydro_basis_dir = Path(base_dir, network_name, \"2_dhydro\\\\basis\\\\\")\n",
    "# directory D-HYDRO results calculations\n",
    "dhydro_results_dir = Path(base_dir, network_name, \"2_dhydro\\\\results\\\\\")\n",
    "# directory results\n",
    "results_dir = Path(base_dir, network_name, \"3_ribasim\\\\\")\n",
    "# batch file used to calculate volume D-Hydro module per GridPoint\n",
    "dhydro_volume_tool_bat_file = Path(r\"c:\\Program Files\\Deltares\\D-HYDRO Suite 2023.03 1D2D\\plugins\\DeltaShell.Dimr\\kernels\\x64\\dflowfm\\scripts\\run_dfm_volume_tool.bat\")\n",
    "dhydro_volume_tool_increment = 0.1\n",
    "# link to ribasim_executable\n",
    "path_ribasim_executable = \"..\\\\..\\\\..\\\\ribasim_cli\\\\bin\\\\ribasim.exe\""
   ]
  },
  {
   "cell_type": "code",
   "execution_count": null,
   "metadata": {},
   "outputs": [],
   "source": [
    "# Create networkanalysis\n",
    "network = ribasim_lumping.create_ribasim_lumping_network(\n",
    "    base_dir=base_dir,\n",
    "    name=network_name,\n",
    "    dhydro_basis_dir=dhydro_basis_dir,\n",
    "    dhydro_results_dir=dhydro_results_dir,\n",
    "    results_dir=results_dir,\n",
    "    path_ribasim_executable=path_ribasim_executable,\n",
    "    crs=28992\n",
    ")\n",
    "# network.export_to_geopackage()"
   ]
  },
  {
   "cell_type": "markdown",
   "metadata": {},
   "source": [
    "#### INLEZEN NETWERK EN SIMULATIE DATA"
   ]
  },
  {
   "cell_type": "code",
   "execution_count": null,
   "metadata": {},
   "outputs": [],
   "source": [
    "# Load areas (discharge units: afwaterende eenheden)\n",
    "areas_dir               = Path(base_dir, network_name, \"1_areas\")\n",
    "areas_file_name         = \"afwateringseenheden2023_v1_HoogeRaam.shp\"\n",
    "areas_id_column         = \"CODE\"\n",
    "network.read_areas(\n",
    "    areas_file_path=Path(areas_dir, areas_file_name), \n",
    "    areas_id_column=areas_id_column\n",
    ")"
   ]
  },
  {
   "cell_type": "code",
   "execution_count": null,
   "metadata": {},
   "outputs": [],
   "source": [
    "# Read network data and extract all objects (weirs/pumps/laterals/confluences/bifurcations)\n",
    "network.add_basis_network(\n",
    "    source_type='dhydro',\n",
    "    set_name=\"winter\",\n",
    "    model_dir=Path(dhydro_basis_dir, \"winter\"),\n",
    "    simulation_name=\"0_01\",\n",
    "    dhydro_volume_tool_bat_file=dhydro_volume_tool_bat_file, \n",
    "    dhydro_volume_tool_force=True,\n",
    "    dhydro_volume_tool_increment=dhydro_volume_tool_increment\n",
    ");\n",
    "# network.add_basis_network(\n",
    "#     source_type='dhydro',\n",
    "#     set_name='winter2', \n",
    "#     model_dir=Path(dhydro_basis_dir, \"winter\"),\n",
    "#     simulation_name=\"HoogeRaamRibasim.dsproj_data\",\n",
    "#     dhydro_volume_tool_bat_file=dhydro_volume_tool_bat_file, \n",
    "#     dhydro_volume_tool_force=True,\n",
    "#     dhydro_volume_tool_increment=0.1\n",
    "# );"
   ]
  },
  {
   "cell_type": "code",
   "execution_count": null,
   "metadata": {},
   "outputs": [],
   "source": [
    "# Select simulation sets and extract all data using xugrid/ugrid\n",
    "network.add_simulation_set(\n",
    "    source_type='dhydro',\n",
    "    set_name=\"winter\",\n",
    "    model_dir=Path(dhydro_results_dir, \"winter\"),\n",
    "    simulation_names=[\"0_01\", \"0_02\", \"0_05\", \"0_075\", \"0_1\", \"0_2\", \"0_5\", \"0_75\", \"1_0\", \"1_5\", \"2_0\"],\n",
    "    simulation_ts=[-1],\n",
    ");\n",
    "# network.add_simulation_set(\n",
    "#     source_type='dhydro',\n",
    "#     set_name=\"zomer\",\n",
    "#     model_dir=Path(dhydro_results_dir, \"winter\"),\n",
    "#     simulation_names=[\"0_01\", \"0_02\", \"0_05\", \"0_075\", \"0_1\", \"0_2\", \"0_5\", \"0_75\", \"1_0\", \"1_5\", \"2_0\"],\n",
    "#     simulation_ts=[-1],\n",
    "# );"
   ]
  },
  {
   "cell_type": "markdown",
   "metadata": {},
   "source": [
    "#### OPZETTEN SIMULATIE"
   ]
  },
  {
   "cell_type": "code",
   "execution_count": null,
   "metadata": {},
   "outputs": [],
   "source": [
    "simulation_code = \"test_14f_gebieden\"\n",
    "set_name = 'winter'\n",
    "starttime = \"2020-01-01 00:00:00\"\n",
    "endtime = \"2020-02-01 00:00:00\""
   ]
  },
  {
   "cell_type": "markdown",
   "metadata": {},
   "source": [
    "Define locations where the network should be split into Ribasim basins:"
   ]
  },
  {
   "cell_type": "code",
   "execution_count": null,
   "metadata": {},
   "outputs": [],
   "source": [
    "# black list: \"105BGA\"\n",
    "network.add_split_nodes(\n",
    "    weirs=False,\n",
    "    pumps=False,\n",
    "    uniweirs=False,\n",
    "    edges=False,\n",
    "    structures_ids_to_include=[\n",
    "        \"105PAS\", \"105HOE\", \"105PVS\", \"105BZS\",                         # 5 gebieden\n",
    "        \"105BRG\", \"105PCS\", \"105ONS\", \"105ACS\", \"105ADS\",               # 10 gebieden\n",
    "        # \"105NBG\", \"105PVS\", \"105AGS\", \"105LBW\", \"105BGA\",             # 14a gebieden\n",
    "        # \"105DHA\", \"105PVS\", \"105AGS\", \"105LBW\", \"105BGA\",             # 14b gebieden\n",
    "        # \"105DHA\", \"105NBG\", \"105AGS\", \"105LBW\", \"105BGA\",             # 14c gebieden\n",
    "        # \"105DHA\", \"105NBG\", \"105PVS\", \"105LBW\", \"105BGA\",             # 14d gebieden\n",
    "        # \"105DHA\", \"105NBG\", \"105PVS\", \"105AGS\", \"105BGA\",             # 14e gebieden\n",
    "        \"105DHA\", \"105NBG\", \"105PVS\", \"105AGS\", \"105LBW\",             # 14f gebieden\n",
    "        # \"105DHA\", \"105NBG\", \"105PVS\", \"105AGS\", \"105LBW\", \"105GLS\"      # 15 gebieden\n",
    "        # \"105DHA\", \"105NBG\", \"105PVS\", \"105AGS\", \"105LBW\", \"105BGA\"      # 15 gebieden slow\n",
    "        \n",
    "        # '105MKP', '105PDS', '105AFT', \n",
    "        # '105GLS', '105ADH', '105WEV',\n",
    "        # '105NBG', '105SBG', '105OMK', \n",
    "        # '105NXV', '105BZS', '105VLW',\n",
    "        # '105PDT', '105OUS', '105OVS', \n",
    "        # '105OQS', '105OXS', '105LHW',\n",
    "        # '105AGS', '105AHS', '105DHA', \n",
    "        # '105PET', '105PVS', '105HOE',\n",
    "        # '105PGS', '105PES', '105BZV', \n",
    "        # '105ABS', '105ACS', '105PCL',\n",
    "        # '105BRM', '105PBK', '105SAW', \n",
    "        # '105NXS', '105ONS', '105OMS',\n",
    "        # '105BFA', '105MPD', '105LBW', \n",
    "        # '105PLW', '105PCS', '105ADB',\n",
    "        # '105PBR', '105HHT', '105AKS', \n",
    "        # '105HOO', '105PAS', #'105BGA', \n",
    "        # '105RKW', '105ADK', '105PDR', \n",
    "        # '105AFS', '105AES', '105ADS',\n",
    "        # '105BUS', '105ZAN', '105BRG',\n",
    "    ],\n",
    "    structures_ids_to_exclude=[\"105BBW\"],\n",
    "    edge_ids_to_include=[],                                  # 1 edge voor 15 gebieden\n",
    "    edge_ids_to_exclude=[],\n",
    ");"
   ]
  },
  {
   "cell_type": "code",
   "execution_count": null,
   "metadata": {},
   "outputs": [],
   "source": [
    "network.split_nodes.split_node_id.values"
   ]
  },
  {
   "cell_type": "markdown",
   "metadata": {},
   "source": [
    "Specify translation split_nodes to ribasim-nodes per type or for specifiek split_node_id"
   ]
  },
  {
   "cell_type": "code",
   "execution_count": null,
   "metadata": {},
   "outputs": [],
   "source": [
    "split_node_type_conversion = dict(\n",
    "    weir=\"TabulatedRatingCurve\",\n",
    "    uniweir=\"TabulatedRatingCurve\",\n",
    "    pump=\"Pump\",\n",
    "    culvert=\"TabulatedRatingCurve\",\n",
    "    edge=\"ManningResistance\",\n",
    "    orifice=\"Outlet\",\n",
    "    boundary_connection=\"ManningResistance\"\n",
    ")\n",
    "split_node_id_conversion = {}"
   ]
  },
  {
   "cell_type": "markdown",
   "metadata": {},
   "source": [
    "Create basins (gdf) based on nodes, edges, split_node_ids and areas"
   ]
  },
  {
   "cell_type": "code",
   "execution_count": null,
   "metadata": {},
   "outputs": [],
   "source": [
    "network.generate_ribasim_lumping_network(\n",
    "    simulation_code=simulation_code,\n",
    "    split_node_type_conversion=split_node_type_conversion,\n",
    "    split_node_id_conversion=split_node_id_conversion,\n",
    ");"
   ]
  },
  {
   "cell_type": "markdown",
   "metadata": {},
   "source": [
    "Generate Ribasim model and export to geopackage"
   ]
  },
  {
   "cell_type": "code",
   "execution_count": null,
   "metadata": {},
   "outputs": [],
   "source": [
    "ribasim_model = network.generate_ribasim_model_complete(\n",
    "    set_name=set_name,\n",
    "    starttime=starttime,\n",
    "    endtime=endtime\n",
    ")"
   ]
  },
  {
   "cell_type": "code",
   "execution_count": null,
   "metadata": {},
   "outputs": [],
   "source": [
    "# network.plot_basin_waterlevels_for_basins(\n",
    "#     set_name='winter', \n",
    "#     basins_nos=[6, 9, 10, 39, 19, 57, 58, 53, 20, 38]\n",
    "# );"
   ]
  },
  {
   "cell_type": "code",
   "execution_count": null,
   "metadata": {},
   "outputs": [],
   "source": [
    "f\"Duration: {pd.Timestamp.now() - start_time}\""
   ]
  },
  {
   "cell_type": "code",
   "execution_count": null,
   "metadata": {},
   "outputs": [],
   "source": [
    "basin_df, control_df, flow_df = network.read_ribasim_results(simulation_code=simulation_code)\n",
    "basin_df.drop(columns='node_id').groupby('time').sum()['storage'].plot()"
   ]
  },
  {
   "cell_type": "code",
   "execution_count": null,
   "metadata": {},
   "outputs": [],
   "source": [
    "flow_df[~flow_df['edge_id'].isna()].groupby('to_node_id').get_group(1)['flow'].plot()"
   ]
  },
  {
   "cell_type": "code",
   "execution_count": null,
   "metadata": {},
   "outputs": [],
   "source": []
  },
  {
   "cell_type": "code",
   "execution_count": null,
   "metadata": {},
   "outputs": [],
   "source": []
  },
  {
   "cell_type": "code",
   "execution_count": null,
   "metadata": {},
   "outputs": [],
   "source": [
    "# q = uniweirs_q_gdf.loc['weirgen_discharge'].iloc[5]['winter']"
   ]
  },
  {
   "cell_type": "code",
   "execution_count": null,
   "metadata": {},
   "outputs": [],
   "source": [
    "# import numpy as np\n",
    "# import matplotlib.pyplot as plt\n",
    "# from scipy.optimize import curve_fit\n",
    "\n",
    "# for i, weir in uniweirs_q_gdf.loc['weirgen_discharge']['winter'].iterrows():\n",
    "#     x_data = weir.index.values\n",
    "#     y_data = weir.values\n",
    "\n",
    "#     def exponential_function(x, a, b):\n",
    "#         return a * np.exp(b * x)\n",
    "\n",
    "#     params, covariance = curve_fit(exponential_function, x_data, y_data)\n",
    "#     a, b = params\n",
    "\n",
    "#     y_fit = exponential_function(x_data, a, b)\n",
    "\n",
    "#     fig, ax = plt.subplots()\n",
    "#     ax.scatter(x_data, y_data, label=\"Data\")\n",
    "#     ax.plot(x_data, y_fit, \"-x\", label=\"Exponential Fit\", color='red')\n",
    "#     fig.show()\n",
    "#     # plt.legend()\n",
    "#     # plt.xlabel('X')\n",
    "#     # plt.ylabel('Y')\n",
    "#     # plt.title('Exponential Regression')\n",
    "#     # plt.show()"
   ]
  },
  {
   "cell_type": "code",
   "execution_count": null,
   "metadata": {},
   "outputs": [],
   "source": [
    "# def exponential_function(x, a, b):\n",
    "#     return a * np.exp(b * x)\n",
    "\n",
    "# def apply_exponential_function(df_series):\n",
    "#     x_data = df_series.index.values\n",
    "#     y_data = df_series.values\n",
    "#     params, covariance = curve_fit(exponential_function, x_data, y_data)\n",
    "#     a, b = params\n",
    "#     y_fit = exponential_function(x_data, a, b)\n",
    "#     df_series.values = y_fit\n",
    "#     return df_series\n",
    "\n",
    "# uniweirs_q_gdf#.loc['winter']#.apply(lambda row: apply_exponential_function(row))"
   ]
  },
  {
   "cell_type": "code",
   "execution_count": null,
   "metadata": {},
   "outputs": [],
   "source": []
  },
  {
   "cell_type": "code",
   "execution_count": null,
   "metadata": {},
   "outputs": [],
   "source": []
  }
 ],
 "metadata": {
  "kernelspec": {
   "display_name": "ribasim",
   "language": "python",
   "name": "python3"
  },
  "language_info": {
   "codemirror_mode": {
    "name": "ipython",
    "version": 3
   },
   "file_extension": ".py",
   "mimetype": "text/x-python",
   "name": "python",
   "nbconvert_exporter": "python",
   "pygments_lexer": "ipython3",
   "version": "3.11.5"
  }
 },
 "nbformat": 4,
 "nbformat_minor": 4
}
