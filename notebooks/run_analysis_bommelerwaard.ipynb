{
 "cells": [
  {
   "cell_type": "code",
   "execution_count": null,
   "metadata": {},
   "outputs": [],
   "source": [
    "import sys\n",
    "from pathlib import Path\n",
    "\n",
    "# add directory with ribasim-repository\n",
    "sys.path.append(\"..\\\\..\\\\ribasim\\\\python\\\\ribasim\")\n",
    "import ribasim\n",
    "\n",
    "# add directory with ribasim_lumping-repository\n",
    "sys.path.append(\"..\")\n",
    "import ribasim_lumping\n",
    "\n",
    "import pandas as pd\n",
    "import geopandas as gpd\n",
    "\n",
    "from numba.core.errors import NumbaDeprecationWarning\n",
    "import warnings\n",
    "\n",
    "warnings.simplefilter(\"ignore\", category=NumbaDeprecationWarning)\n",
    "warnings.simplefilter(\"ignore\", UserWarning)\n",
    "\n",
    "import networkx as nx"
   ]
  },
  {
   "cell_type": "code",
   "execution_count": null,
   "metadata": {},
   "outputs": [],
   "source": [
    "%load_ext autoreload\n",
    "%autoreload 2"
   ]
  },
  {
   "cell_type": "code",
   "execution_count": null,
   "metadata": {},
   "outputs": [],
   "source": [
    "# Define base_dir, results_dir and network name\n",
    "base_dir = Path(\"..\\\\..\\\\ribasim_lumping_data\\\\\")\n",
    "dhydro_dir = Path(base_dir, \"d-hydro\")\n",
    "results_dir = Path(base_dir, \"results\")\n",
    "network_name = \"tki_bommelerwaard\""
   ]
  },
  {
   "cell_type": "code",
   "execution_count": null,
   "metadata": {},
   "outputs": [],
   "source": [
    "# Load areas (discharge units: afwaterende eenheden)\n",
    "areas_file_path = Path(base_dir, \"afw_eenheden\", \"praktijkpeilen_bommelerwaard.shp\")\n",
    "areas_gdf = gpd.read_file(areas_file_path)\n",
    "areas_gdf = areas_gdf[['code', 'geometry']]"
   ]
  },
  {
   "cell_type": "code",
   "execution_count": null,
   "metadata": {},
   "outputs": [],
   "source": [
    "# Create networkanalysis\n",
    "network = ribasim_lumping.create_ribasim_lumping_network(\n",
    "    name=network_name, \n",
    "    dhydro_dir=dhydro_dir,\n",
    "    results_dir=results_dir,\n",
    "    areas_gdf=areas_gdf,\n",
    ")\n",
    "# network.export_to_geopackage()"
   ]
  },
  {
   "cell_type": "code",
   "execution_count": null,
   "metadata": {},
   "outputs": [],
   "source": [
    "# Add simulation sets for winter, summer, etc.\n",
    "network.add_data_from_simulations_set(\n",
    "    set_name=\"winter\",\n",
    "    simulations_dir=dhydro_dir,\n",
    "    simulations_names=[\"tki_bommelerwaard\"],\n",
    "    simulation_output_dir=\"fm\\\\output\",\n",
    "    simulations_ts=[-1],\n",
    ");"
   ]
  },
  {
   "cell_type": "code",
   "execution_count": null,
   "metadata": {},
   "outputs": [],
   "source": [
    "# Read network data and extract all objects (weirs/pumps/laterals/confluences/bifurcations)\n",
    "network.get_network_data()\n",
    "# network.export_to_geopackage()"
   ]
  },
  {
   "cell_type": "code",
   "execution_count": null,
   "metadata": {},
   "outputs": [],
   "source": [
    "# Define locations where the network should be split into Ribasim basins:\n",
    "network.add_split_nodes(\n",
    "    weirs=True,\n",
    "    pumps=True,\n",
    "    uniweirs=True,\n",
    "    orifices=True,\n",
    "    structures_ids_to_include=[\n",
    "        # 'DKR_009969', 'DKR_010011',\n",
    "    ], \n",
    "    structures_ids_to_exclude=[\n",
    "        'STW_001072B', 'STW_056492B'\n",
    "    ], \n",
    "    edge_ids_to_include=[\n",
    "    ],\n",
    ");"
   ]
  },
  {
   "cell_type": "code",
   "execution_count": null,
   "metadata": {},
   "outputs": [],
   "source": [
    "# Create basins (gdf) based on nodes, edges, split_node_ids and areas\n",
    "network.create_basins_and_connections_based_on_split_nodes();\n",
    "# Export to geopackage\n",
    "network.export_to_geopackage()"
   ]
  },
  {
   "cell_type": "code",
   "execution_count": null,
   "metadata": {},
   "outputs": [],
   "source": [
    "# specify translation split_nodes to ribasim-nodes per type\n",
    "split_node_type_conversion = {\n",
    "    'weir': 'TabulatedRatingCurve', \n",
    "    'uniweir': 'TabulatedRatingCurve' ,\n",
    "    'pump': 'Pump', \n",
    "    'culvert': 'TabulatedRatingCurve', \n",
    "    'manual': 'ManningResistance',\n",
    "    'orifice' : 'TabulatedRatingCurve',\n",
    "    'edge': 'ManningResistance',\n",
    "}\n",
    "# specify translation for specific split_nodes to ribasim-nodes\n",
    "split_node_id_conversion = {\n",
    "    # 'sto_AE80770024': 'ManningResistance', \n",
    "    # 'kdu_DR80740070': 'ManningResistance',\n",
    "    # # duikers voor wijk Zuidwijken\n",
    "    # 'kdu_DR80940046': 'ManningResistance', \n",
    "    # 'kdu_DR80950043': 'ManningResistance', \n",
    "    # 'kdu_DR80950151': 'ManningResistance', \n",
    "}"
   ]
  },
  {
   "cell_type": "code",
   "execution_count": null,
   "metadata": {},
   "outputs": [],
   "source": [
    "# Generate Ribasim model en exporteer naar geopackage\n",
    "ribasim_model = network.generate_ribasim_model(\n",
    "    split_node_type_conversion=split_node_type_conversion, \n",
    "    split_node_id_conversion=split_node_id_conversion\n",
    ")\n",
    "ribasim_model.write(f\"{results_dir}/{network.name}\")"
   ]
  },
  {
   "cell_type": "code",
   "execution_count": null,
   "metadata": {},
   "outputs": [],
   "source": []
  }
 ],
 "metadata": {
  "kernelspec": {
   "display_name": "ribasim",
   "language": "python",
   "name": "python3"
  },
  "language_info": {
   "codemirror_mode": {
    "name": "ipython",
    "version": 3
   },
   "file_extension": ".py",
   "mimetype": "text/x-python",
   "name": "python",
   "nbconvert_exporter": "python",
   "pygments_lexer": "ipython3",
   "version": "3.10.0"
  },
  "vscode": {
   "interpreter": {
    "hash": "dfc666eb4a62d5826d85bcfe032d59ef4dfc699941e19e14832498fb495ee494"
   }
  }
 },
 "nbformat": 4,
 "nbformat_minor": 4
}
