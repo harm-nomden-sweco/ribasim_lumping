{
 "cells": [
  {
   "cell_type": "code",
   "execution_count": null,
   "metadata": {},
   "outputs": [],
   "source": []
  },
  {
   "cell_type": "code",
   "execution_count": null,
   "metadata": {},
   "outputs": [],
   "source": [
    "import sys\n",
    "from pathlib import Path\n",
    "\n",
    "sys.path.append(\"..\")\n",
    "from ribasim_lumping import RibasimLumpingNetwork\n",
    "\n",
    "import pandas as pd\n",
    "import numpy as np\n",
    "import geopandas as gpd\n",
    "from pydantic import BaseModel\n",
    "import xarray as xr\n",
    "import dfm_tools as dfmt\n",
    "import xugrid as xu\n",
    "import matplotlib.pyplot as plt\n",
    "import random\n",
    "from shapely.geometry import LineString\n",
    "\n",
    "from numba.core.errors import NumbaDeprecationWarning, NumbaPendingDeprecationWarning\n",
    "import warnings\n",
    "\n",
    "warnings.simplefilter(\"ignore\", category=NumbaDeprecationWarning)\n",
    "\n",
    "import networkx as nx\n",
    "import ribasim"
   ]
  },
  {
   "cell_type": "code",
   "execution_count": null,
   "metadata": {},
   "outputs": [],
   "source": [
    "%load_ext autoreload\n",
    "%autoreload 2"
   ]
  },
  {
   "cell_type": "markdown",
   "metadata": {},
   "source": [
    "Define base directory and results directory"
   ]
  },
  {
   "cell_type": "code",
   "execution_count": null,
   "metadata": {},
   "outputs": [],
   "source": [
    "base_dir = Path(\"..\\\\..\\\\ribasim_lumping_data\\\\\")\n",
    "results_dir = Path(base_dir, \"results\")"
   ]
  },
  {
   "cell_type": "markdown",
   "metadata": {},
   "source": [
    "Define network name and load areas (discharge units: afwaterende eenheden)"
   ]
  },
  {
   "cell_type": "code",
   "execution_count": null,
   "metadata": {},
   "outputs": [],
   "source": [
    "network_name = \"zutphen_tki_netwerk\"\n",
    "\n",
    "areas_file_path = Path(base_dir, \"afw_eenheden\\\\wrij_afwateringseenheden_clip_Zutphen.shp\")\n",
    "areas_gdf = gpd.read_file(areas_file_path)"
   ]
  },
  {
   "cell_type": "markdown",
   "metadata": {},
   "source": [
    "Create networkanalysis"
   ]
  },
  {
   "cell_type": "code",
   "execution_count": null,
   "metadata": {},
   "outputs": [],
   "source": [
    "network = RibasimLumpingNetwork(name=network_name, areas_gdf=areas_gdf)"
   ]
  },
  {
   "cell_type": "markdown",
   "metadata": {},
   "source": [
    "Select simulation sets and extract all data points"
   ]
  },
  {
   "cell_type": "code",
   "execution_count": null,
   "metadata": {},
   "outputs": [],
   "source": [
    "network.add_data_from_simulations_set(\n",
    "    set_name=\"winter\",\n",
    "    simulations_dir=Path(base_dir, \"d-hydro\\\\\"),\n",
    "    simulations_names=[\"tki_zuthpen_berkel_basis.dsproj\"],\n",
    "    simulations_ts=pd.date_range(\"2000-01-02 23:00\", periods=9, freq=\"2D\"),\n",
    ")\n",
    "network.add_data_from_simulations_set(\n",
    "    set_name=\"zomer\",\n",
    "    simulations_dir=Path(base_dir, \"d-hydro\\\\\"),\n",
    "    simulations_names=[\"tki_zuthpen_berkel_basis.dsproj\"],\n",
    "    simulations_ts=pd.date_range(\"2000-01-02 23:00\", periods=9, freq=\"2D\"),\n",
    ")"
   ]
  },
  {
   "cell_type": "markdown",
   "metadata": {},
   "source": [
    "Read network data and extract all objects (weirs/pumps/laterals/confluences/bifurcations)"
   ]
  },
  {
   "cell_type": "code",
   "execution_count": null,
   "metadata": {},
   "outputs": [],
   "source": [
    "network.get_network_data()"
   ]
  },
  {
   "cell_type": "code",
   "execution_count": null,
   "metadata": {},
   "outputs": [],
   "source": [
    "# network.nodes_gdf[network.nodes_gdf.mesh1d_node_id.isin(['1334'])]"
   ]
  },
  {
   "cell_type": "code",
   "execution_count": null,
   "metadata": {},
   "outputs": [],
   "source": []
  },
  {
   "cell_type": "markdown",
   "metadata": {},
   "source": [
    "Define node_ids on which to split the network into Ribasim basins:\n",
    "- define types to include\n",
    "- define additional split nodes by id\n",
    "- define which of the node_ids should be excluded\n",
    "- combine types of split_node_ids\n",
    "- add split_nodes to network"
   ]
  },
  {
   "cell_type": "code",
   "execution_count": null,
   "metadata": {},
   "outputs": [],
   "source": [
    "split_node_ids = network.get_node_ids_from_type(\n",
    "    bifurcations=False,\n",
    "    confluences=False,\n",
    "    weirs=True,\n",
    "    pumps=True,\n",
    "    laterals=False,\n",
    ")\n",
    "split_node_ids_to_include = [1452, 2378, 419, 96]\n",
    "split_node_ids_to_exclude = [314]\n",
    "\n",
    "split_node_ids = [node_id for node_id in split_node_ids + split_node_ids_to_include \n",
    "                  if node_id not in split_node_ids_to_exclude]\n",
    "\n",
    "network.add_split_nodes_based_on_node_ids(split_node_ids=split_node_ids);"
   ]
  },
  {
   "cell_type": "markdown",
   "metadata": {},
   "source": [
    "Create basins (gdf) based on nodes, edges, split_node_ids and areas"
   ]
  },
  {
   "cell_type": "code",
   "execution_count": null,
   "metadata": {},
   "outputs": [],
   "source": [
    "network.create_basins_based_on_split_nodes();"
   ]
  },
  {
   "attachments": {},
   "cell_type": "markdown",
   "metadata": {},
   "source": [
    "Find and create ribasim_edges_gdf between basins"
   ]
  },
  {
   "cell_type": "code",
   "execution_count": null,
   "metadata": {},
   "outputs": [],
   "source": [
    "network.basins_gdf.head(3)"
   ]
  },
  {
   "cell_type": "code",
   "execution_count": null,
   "metadata": {},
   "outputs": [],
   "source": [
    "network.split_nodes.head(3)"
   ]
  },
  {
   "cell_type": "code",
   "execution_count": null,
   "metadata": {},
   "outputs": [],
   "source": [
    "network.nodes_gdf.head(3)"
   ]
  },
  {
   "cell_type": "code",
   "execution_count": null,
   "metadata": {},
   "outputs": [],
   "source": [
    "network.edges_gdf.head(3)"
   ]
  },
  {
   "cell_type": "code",
   "execution_count": null,
   "metadata": {},
   "outputs": [],
   "source": [
    "\n",
    "ribasim_edges_gdf = network.split_nodes[['mesh1d_nNodes','geometry']]\n",
    "ribasim_edges_gdf = ribasim_edges_gdf.rename(columns={\"geometry\":\"geometry_splitnode\"})\n",
    "\n",
    "# merge splitnodes with edges\n",
    "ribasim_edges_ds = ribasim_edges_gdf.merge(network.edges_gdf[['basin', 'start_node_no', 'end_node_no','mesh1d_nEdges']], left_on='mesh1d_nNodes', right_on='start_node_no')\n",
    "ribasim_edges_us = ribasim_edges_gdf.merge(network.edges_gdf[['basin', 'start_node_no','end_node_no','mesh1d_nEdges']], left_on='mesh1d_nNodes', right_on='end_node_no')\n",
    "\n",
    "# DS\n",
    "# merge splitnodes with basins\n",
    "ribasim_edges_ds = ribasim_edges_ds.merge(network.basins_gdf[['basin', 'geometry']], left_on='basin', right_on='basin').rename(columns={\"geometry\":\"geometry_basin\"})\n",
    "ribasim_edges_ds['direction'] = 'in'\n",
    "basin_connections_ds = ribasim_edges_ds.copy()\n",
    "\n",
    "# # draw connection\n",
    "# from shapely.geometry import LineString\n",
    "# ribasim_edges_ds['geometry'] = ribasim_edges_ds.apply(lambda row: LineString([row['geometry_splitnode'], row['geometry_basin']]), axis=1)\n",
    "# ribasim_edges_ds = gpd.GeoDataFrame(ribasim_edges_ds, geometry='geometry', crs=28992)\n",
    "\n",
    "\n",
    "# US\n",
    "# merge splitnodes with basins\n",
    "ribasim_edges_us = ribasim_edges_us.merge(network.basins_gdf[['basin', 'geometry']], left_on='basin', right_on='basin').rename(columns={\"geometry\":\"geometry_basin\"})\n",
    "ribasim_edges_us['direction'] = 'out'\n",
    "basin_connections_us = ribasim_edges_us.copy()\n",
    "\n",
    "# # draw connection\n",
    "# ribasim_edges_us['geometry'] = ribasim_edges_us.apply(lambda row: LineString([row['geometry_basin'],row['geometry_splitnode']]), axis=1)\n",
    "# ribasim_edges_us = gpd.GeoDataFrame(ribasim_edges_us, geometry='geometry', crs = 28992)\n",
    "\n",
    "# # concat us and ds\n",
    "# ribasim_edges_gdf = pd.concat([ribasim_edges_ds, ribasim_edges_us])\n",
    "# # basin_connections = ribasim_edges_gdf.copy()\n",
    "\n",
    "# ribasim_edges_gdf = ribasim_edges_gdf.drop(columns=['geometry_splitnode','geometry_basin'])\n",
    "\n",
    "# merge basin connections with nodes\n",
    "basin_connections_us = basin_connections_us.merge(network.nodes_gdf[['mesh1d_nNodes', 'geometry']], left_on='start_node_no', right_on='mesh1d_nNodes', suffixes=('','_r')).rename(columns={\"geometry\":\"geometry_edge_start_node\"})\n",
    "basin_connections_ds = basin_connections_ds.merge(network.nodes_gdf[['mesh1d_nNodes', 'geometry']], left_on='end_node_no', right_on='mesh1d_nNodes', suffixes=('','_r')).rename(columns={\"geometry\":\"geometry_edge_end_node\"})\n",
    "# basin_connections_us['x'] = basin_connections_us.geometry_edge_start_node.x\n",
    "\n",
    "basin_connections_us.head(3)"
   ]
  },
  {
   "cell_type": "code",
   "execution_count": null,
   "metadata": {},
   "outputs": [],
   "source": [
    "# basin_connections_us['coords'] = basin_connections_us.geometry_basin.apply(lambda p: list(p.coords)[0])\n",
    "# basin_connections_us['coords'] = (basin_connections_us.geometry_basin.apply(lambda p: p.x) + basin_connections_us.geometry_splitnode.apply(lambda p: p.x))/2\n",
    "# basin_connections_us.head(3)"
   ]
  },
  {
   "cell_type": "code",
   "execution_count": null,
   "metadata": {},
   "outputs": [],
   "source": [
    "# merge upstream and downstream connections\n",
    "basin_connections_gdf = basin_connections_us.merge(basin_connections_ds, left_on='mesh1d_nNodes',right_on='mesh1d_nNodes',suffixes=('_out','_in'))\n",
    "\n",
    "# add coordinate in middle of two nodes upstream and downstream of splitpoint\n",
    "basin_connections_gdf['x'] = (basin_connections_gdf.geometry_edge_start_node.apply(lambda p: p.x) + basin_connections_gdf.geometry_edge_end_node.apply(lambda p: p.x))/2\n",
    "basin_connections_gdf['y'] = (basin_connections_gdf.geometry_edge_start_node.apply(lambda p: p.y) + basin_connections_gdf.geometry_edge_end_node.apply(lambda p: p.y))/2\n",
    "basin_connections_gdf['splitnode_moved'] = gpd.points_from_xy(basin_connections_gdf['x'], basin_connections_gdf['y'])\n",
    "\n",
    "# add ID for moved split nodes\n",
    "basin_connections_gdf.insert(0, 'splitnode_moved_id', range(len(basin_connections_gdf)))\n",
    "\n",
    "splitnodes_moved = basin_connections_gdf[['mesh1d_nNodes','splitnode_moved', 'splitnode_moved_id' ]]\n",
    "splitnodes_moved = splitnodes_moved.rename(columns={\"splitnode_moved\":\"geometry\"})\n",
    "splitnodes_moved = gpd.GeoDataFrame(splitnodes_moved, geometry='geometry',crs=28992)\n",
    "\n",
    "\n",
    "# basin_connections_gdf['geometry'] = basin_connections_gdf.apply(lambda row: LineString([row['geometry_basin_in'],row['geometry_basin_out']]), axis=1)\n",
    "basin_connections_gdf['geometry'] = basin_connections_gdf.apply(lambda row: LineString([row['geometry_basin_out'],row['splitnode_moved'],row['geometry_basin_in']]), axis=1)\n",
    "# alternative: draw line via split node\n",
    "# basin_connections_gdf['geometry'] = basin_connections_gdf.apply(lambda row: LineString([row['geometry_basin_in'],row['geometry_splitnode_out'],row['geometry_basin_out']]), axis=1)\n",
    "basin_connections_gdf = gpd.GeoDataFrame(basin_connections_gdf, geometry='geometry',crs=28992)\n",
    "\n",
    "basin_connections_gdf = basin_connections_gdf.drop(columns=['geometry_edge_start_node','geometry_edge_end_node', 'splitnode_moved', 'geometry_splitnode_out','geometry_basin_out','start_node_no_out','mesh1d_nEdges_out','end_node_no_out','direction_out','geometry_splitnode_in','geometry_basin_in','start_node_no_in','end_node_no_in','mesh1d_nEdges_in','direction_in'])"
   ]
  },
  {
   "cell_type": "code",
   "execution_count": null,
   "metadata": {},
   "outputs": [],
   "source": [
    "splitnodes_moved.head()"
   ]
  },
  {
   "cell_type": "code",
   "execution_count": null,
   "metadata": {},
   "outputs": [],
   "source": [
    "basin_connections_gdf.head()"
   ]
  },
  {
   "cell_type": "code",
   "execution_count": null,
   "metadata": {},
   "outputs": [],
   "source": [
    "# network.ribasim_edges_gdf = ribasim_edges_gdf\n",
    "network.basin_connections_gdf = basin_connections_gdf\n",
    "network.splitnodes_moved_gdf = splitnodes_moved"
   ]
  },
  {
   "cell_type": "code",
   "execution_count": null,
   "metadata": {},
   "outputs": [],
   "source": [
    "network.export_to_geopackage(output_dir=results_dir)"
   ]
  },
  {
   "attachments": {},
   "cell_type": "markdown",
   "metadata": {},
   "source": [
    "TO DO: create boundary nodes"
   ]
  },
  {
   "cell_type": "code",
   "execution_count": null,
   "metadata": {},
   "outputs": [],
   "source": [
    "import dfm_tools as dfmt\n",
    "import hydrolib.core.dflowfm as hcdfm"
   ]
  },
  {
   "cell_type": "code",
   "execution_count": null,
   "metadata": {},
   "outputs": [],
   "source": [
    "simulation_name = 'tki_zuthpen_berkel_basis.dsproj_data'"
   ]
  },
  {
   "cell_type": "code",
   "execution_count": null,
   "metadata": {},
   "outputs": [],
   "source": [
    "#Load .bc-file using HydroLib object ForcingModel.\n",
    "\n",
    "file_bc = f'{base_dir}\\d-hydro\\\\{simulation_name}\\FlowFM\\input\\FlowFM_boundaryconditions1d.bc'\n",
    "# file_lat = r'C:\\Users\\NLTAND\\OneDrive - Sweco AB\\Algemeen-Tessa\\Projecten\\TKI oppervlaktewatermodule NHI\\ribasim_lumping_data\\d-hydro\\tki_zuthpen_berkel_basis.dsproj_data\\FlowFM\\input\\FlowFM_lateral_sources.bc'\n",
    "forcingmodel_object = hcdfm.ForcingModel(file_bc)\n"
   ]
  },
  {
   "cell_type": "code",
   "execution_count": null,
   "metadata": {},
   "outputs": [],
   "source": [
    "bc = pd.DataFrame([forcing.dict() for forcing in forcingmodel_object.forcing])\n",
    "\n",
    "# convert dictionary with boundary type to columns\n",
    "bc = pd.concat([bc.drop(['quantityunitpair'], axis=1), pd.DataFrame.from_records(bc['quantityunitpair'])[0].apply(pd.Series)], axis=1)\n",
    "\n",
    "# merge boundary with nodes\n",
    "boundaries_gdf = network.nodes_gdf.merge(bc,left_on = 'mesh1d_node_id', right_on = 'name')\n",
    "boundaries_gdf = boundaries_gdf.drop(columns=['mesh1d_node_x','mesh1d_node_y','offset','factor','vertpositionindex','name', 'comments','datablock'])\n",
    "boundaries_gdf.insert(0, 'boundary_id', range(len(boundaries_gdf)))"
   ]
  },
  {
   "cell_type": "code",
   "execution_count": null,
   "metadata": {},
   "outputs": [],
   "source": [
    "boundaries_gdf"
   ]
  },
  {
   "cell_type": "code",
   "execution_count": null,
   "metadata": {},
   "outputs": [],
   "source": [
    "network.boundaries_gdf = boundaries_gdf\n",
    "network.export_to_geopackage(output_dir=results_dir)"
   ]
  },
  {
   "attachments": {},
   "cell_type": "markdown",
   "metadata": {},
   "source": [
    "TO DO: create connections between basins and boundaries"
   ]
  },
  {
   "cell_type": "code",
   "execution_count": null,
   "metadata": {},
   "outputs": [],
   "source": [
    "network.basins_gdf.head()"
   ]
  },
  {
   "cell_type": "code",
   "execution_count": null,
   "metadata": {},
   "outputs": [],
   "source": [
    "network.boundaries_gdf"
   ]
  },
  {
   "cell_type": "code",
   "execution_count": null,
   "metadata": {},
   "outputs": [],
   "source": [
    "\n",
    "# merge boundaries with edges \n",
    "boundary_basin_connections = network.boundaries_gdf.rename(columns={\"geometry\":\"geometry_boundary\"})\n",
    "boundary_basin_connections_us = boundary_basin_connections.merge(network.edges_gdf[['start_node_no', 'end_node_no','mesh1d_nEdges']], left_on='mesh1d_nNodes', right_on='start_node_no')\n",
    "boundary_basin_connections_ds = boundary_basin_connections.merge(network.edges_gdf[['start_node_no','end_node_no','mesh1d_nEdges']], left_on='mesh1d_nNodes', right_on='end_node_no')\n",
    "\n",
    "# merge with basins for geometry\n",
    "# downstream\n",
    "boundary_basin_connections_ds = boundary_basin_connections_ds.merge(network.basins_gdf[['basin', 'geometry']], left_on='basin', right_on='basin').rename(columns={\"geometry\":\"geometry_basin\"})\n",
    "boundary_basin_connections_ds['boundary_location'] = 'downstream'\n",
    "\n",
    "boundary_basin_connections_ds['geometry'] = boundary_basin_connections_ds.apply(lambda row: LineString([row['geometry_basin'], row['geometry_boundary']]), axis=1)\n",
    "boundary_basin_connections_ds = gpd.GeoDataFrame(boundary_basin_connections_ds, geometry='geometry', crs=28992)\n",
    "\n",
    "# same for upstream\n",
    "boundary_basin_connections_us = boundary_basin_connections_us.merge(network.basins_gdf[['basin', 'geometry']], left_on='basin', right_on='basin').rename(columns={\"geometry\":\"geometry_basin\"})\n",
    "boundary_basin_connections_us['boundary_location'] = 'upstream'\n",
    "\n",
    "boundary_basin_connections_us['geometry'] = boundary_basin_connections_us.apply(lambda row: LineString([row['geometry_boundary'], row['geometry_basin']]), axis=1)\n",
    "boundary_basin_connections_us = gpd.GeoDataFrame(boundary_basin_connections_us, geometry='geometry', crs=28992)\n",
    "\n",
    "# concat us and ds\n",
    "boundary_basin_connections_gdf = pd.concat([boundary_basin_connections_us, boundary_basin_connections_ds])\n",
    "# basin_connections = ribasim_edges_gdf.copy()\n",
    "\n",
    "boundary_basin_connections_gdf = boundary_basin_connections_gdf.drop(columns=['geometry_boundary','geometry_basin'])\n",
    "boundary_basin_connections_gdf.insert(0, 'boundary_basin_connection_id', range(len(boundary_basin_connections_gdf)))\n",
    "\n",
    "boundary_basin_connections_gdf.head()"
   ]
  },
  {
   "cell_type": "code",
   "execution_count": null,
   "metadata": {},
   "outputs": [],
   "source": []
  },
  {
   "cell_type": "code",
   "execution_count": null,
   "metadata": {},
   "outputs": [],
   "source": [
    "network.boundary_basin_connections_gdf = boundary_basin_connections_gdf"
   ]
  },
  {
   "cell_type": "markdown",
   "metadata": {},
   "source": [
    "Export everything to geopackage"
   ]
  },
  {
   "cell_type": "code",
   "execution_count": null,
   "metadata": {},
   "outputs": [],
   "source": [
    "network.export_to_geopackage(output_dir=results_dir)"
   ]
  },
  {
   "cell_type": "code",
   "execution_count": null,
   "metadata": {},
   "outputs": [],
   "source": []
  },
  {
   "cell_type": "code",
   "execution_count": null,
   "metadata": {},
   "outputs": [],
   "source": []
  },
  {
   "attachments": {},
   "cell_type": "markdown",
   "metadata": {},
   "source": [
    "Export to ribasim"
   ]
  },
  {
   "cell_type": "code",
   "execution_count": null,
   "metadata": {},
   "outputs": [],
   "source": [
    "network.basins_gdf.head(3)"
   ]
  },
  {
   "cell_type": "code",
   "execution_count": null,
   "metadata": {},
   "outputs": [],
   "source": [
    "network.boundaries_gdf.head(3)"
   ]
  },
  {
   "cell_type": "code",
   "execution_count": null,
   "metadata": {},
   "outputs": [],
   "source": [
    "network.splitnodes_moved_gdf.head(3)"
   ]
  },
  {
   "cell_type": "code",
   "execution_count": null,
   "metadata": {},
   "outputs": [],
   "source": [
    "# network.basin_connections_gdf.head(3)"
   ]
  },
  {
   "attachments": {},
   "cell_type": "markdown",
   "metadata": {},
   "source": [
    "nodes"
   ]
  },
  {
   "cell_type": "code",
   "execution_count": null,
   "metadata": {},
   "outputs": [],
   "source": [
    "# set id's to node. Start with basins, then boundaries and then moved splitnodes. start with id 1\n",
    "basins_gdf =network.basins_gdf.copy()\n",
    "basins_gdf['node_id'] = basins_gdf['basin'] + 1\n",
    "\n",
    "boundaries_gdf = network.boundaries_gdf.copy()\n",
    "boundaries_gdf['node_id'] = boundaries_gdf['boundary_id'] + len(network.basins_gdf) +1\n",
    "\n",
    "splitnodes_moved_gdf = network.splitnodes_moved_gdf.copy()\n",
    "splitnodes_moved_gdf['node_id'] = splitnodes_moved_gdf['splitnode_moved_id'] + len(network.basins_gdf) + len(network.boundaries_gdf) +1"
   ]
  },
  {
   "cell_type": "code",
   "execution_count": null,
   "metadata": {},
   "outputs": [],
   "source": [
    "# concat basins, boundaries and splitnodes moved \n",
    "\n",
    "# oude versie ribasim\n",
    "# ribasim_node_gdf = pd.concat([basins_gdf.assign(type=\"Basin\"), boundaries_gdf.assign(type=\"LevelControl\"),splitnodes_moved_gdf.assign(type=\"TabulatedRatingCurve\")]) \n",
    "ribasim_node_gdf = pd.concat([basins_gdf.assign(type=\"Basin\"), boundaries_gdf.assign(type=\"LevelBoundary\"),splitnodes_moved_gdf.assign(type=\"TabulatedRatingCurve\")]) \n",
    "\n",
    "\n",
    "# set node_id as index\n",
    "ribasim_node_gdf = ribasim_node_gdf.set_index('node_id')\n",
    "\n",
    "# keep columns geometry and type\n",
    "ribasim_node_gdf = ribasim_node_gdf[['geometry', 'type']]\n",
    "ribasim_node_gdf"
   ]
  },
  {
   "cell_type": "code",
   "execution_count": null,
   "metadata": {},
   "outputs": [],
   "source": [
    "# Set up the nodes:\n",
    "\n",
    "# Make sure the feature id starts at 1: explicitly give an index.\n",
    "node = ribasim.Node(\n",
    "    static=ribasim_node_gdf\n",
    ")\n",
    "node"
   ]
  },
  {
   "attachments": {},
   "cell_type": "markdown",
   "metadata": {},
   "source": [
    "edges"
   ]
  },
  {
   "cell_type": "code",
   "execution_count": null,
   "metadata": {},
   "outputs": [],
   "source": [
    "network.basin_connections_gdf.head()"
   ]
  },
  {
   "cell_type": "code",
   "execution_count": null,
   "metadata": {},
   "outputs": [],
   "source": [
    "basin_connections_gdf_us = network.basin_connections_gdf[['splitnode_moved_id', 'basin_out','geometry']]\n",
    "basin_connections_gdf_us['geometry'] = basin_connections_gdf_us.geometry.apply(lambda x: LineString([x.coords[0], x.coords[1]]))\n",
    "basin_connections_gdf_us['from_node_id'] = basin_connections_gdf_us['basin_out'] +1\n",
    "basin_connections_gdf_us['to_node_id'] = basin_connections_gdf_us['splitnode_moved_id'] + len(network.basins_gdf) + len(network.boundaries_gdf) +1\n",
    "basin_connections_gdf_us.head(3)"
   ]
  },
  {
   "cell_type": "code",
   "execution_count": null,
   "metadata": {},
   "outputs": [],
   "source": [
    "basin_connections_gdf_ds = network.basin_connections_gdf[['splitnode_moved_id', 'basin_in','geometry']]\n",
    "basin_connections_gdf_ds['geometry'] = basin_connections_gdf_ds.geometry.apply(lambda x: LineString([x.coords[1], x.coords[2]]))\n",
    "basin_connections_gdf_ds['from_node_id'] = basin_connections_gdf_ds['splitnode_moved_id'] + len(network.basins_gdf) + len(network.boundaries_gdf) +1\n",
    "basin_connections_gdf_ds['to_node_id'] = basin_connections_gdf_ds['basin_in'] +1\n",
    "basin_connections_gdf_ds.head(3)\n",
    "\n",
    "\n"
   ]
  },
  {
   "cell_type": "code",
   "execution_count": null,
   "metadata": {},
   "outputs": [],
   "source": [
    "boundary_basin_connections = network.boundary_basin_connections_gdf[['boundary_id', 'basin','geometry','boundary_location']]\n",
    "\n",
    "\n",
    "# basin_connections_gdf_ds['geometry'] = basin_connections_gdf_ds.geometry.apply(lambda x: LineString([x.coords[1], x.coords[2]]))\n",
    "boundary_basin_connections_us = boundary_basin_connections.loc[boundary_basin_connections['boundary_location'] == 'upstream']\n",
    "boundary_basin_connections_us['from_node_id'] = boundary_basin_connections_us['boundary_id']  + len(network.basins_gdf) +1\n",
    "boundary_basin_connections_us['to_node_id'] = boundary_basin_connections_us['basin'] +1\n",
    "\n",
    "boundary_basin_connections_ds = boundary_basin_connections.loc[boundary_basin_connections['boundary_location'] == 'downstream']\n",
    "boundary_basin_connections_ds['from_node_id'] = boundary_basin_connections_ds['basin'] +1\n",
    "boundary_basin_connections_ds['to_node_id'] = boundary_basin_connections_ds['boundary_id'] + len(network.basins_gdf) +1\n",
    "\n",
    "boundary_basin_connections_us.head(3)"
   ]
  },
  {
   "cell_type": "code",
   "execution_count": null,
   "metadata": {},
   "outputs": [],
   "source": [
    "# edges = gpd.GeoDataFrame(\n",
    "#     index=np.arange(0,100),\n",
    "#     columns=['basin_in', 'basin_out', 'split_node', 'boundary', 'geometry']\n",
    "# )\n",
    "# edges['boundary'] = edges['boundary'] + 47\n",
    "# edges['split_node'] = edges['split_node'] + 52\n",
    "# edges#.reset_index()"
   ]
  },
  {
   "cell_type": "code",
   "execution_count": null,
   "metadata": {},
   "outputs": [],
   "source": [
    "# network.basin_connections_gdf.geometry.apply(lambda x: LineString([x.coords[0], x.coords[1]]))"
   ]
  },
  {
   "cell_type": "code",
   "execution_count": null,
   "metadata": {},
   "outputs": [],
   "source": [
    "# Setup the edges:\n",
    "ribasim_edges = pd.concat([basin_connections_gdf_ds, basin_connections_gdf_us,boundary_basin_connections_us, boundary_basin_connections_ds]) \n",
    "ribasim_edges = ribasim_edges[['from_node_id','to_node_id','geometry']].reset_index()\n",
    "ribasim_edges['from_node_id'].astype(int)\n",
    "\n",
    "edge = ribasim.Edge(\n",
    "    static=ribasim_edges\n",
    ")\n",
    "\n",
    "ribasim_edges.head(3)"
   ]
  },
  {
   "attachments": {},
   "cell_type": "markdown",
   "metadata": {},
   "source": [
    "basin"
   ]
  },
  {
   "cell_type": "code",
   "execution_count": null,
   "metadata": {},
   "outputs": [],
   "source": [
    "# # Setup the basins:\n",
    "\n",
    "# profile = pd.DataFrame(\n",
    "#     data={\n",
    "#         \"node_id\": [0, 0],\n",
    "#         \"storage\": [0.0, 1000.0],\n",
    "#         \"area\": [0.0, 1000.0],\n",
    "#         \"level\": [0.0, 1.0],\n",
    "#     }\n",
    "# )\n",
    "# repeat = np.tile([0, 1], 4)\n",
    "# profile = profile.iloc[repeat]\n",
    "# profile[\"node_id\"] = [1, 1, 3, 3, 6, 6, 9, 9]\n",
    "\n",
    "# # Convert steady forcing to m/s\n",
    "# # 2 mm/d precipitation, 1 mm/d evaporation\n",
    "# seconds_in_day = 24 * 3600\n",
    "# precipitation = 0.002 / seconds_in_day\n",
    "# evaporation = 0.001 / seconds_in_day\n",
    "\n",
    "\n",
    "# static = pd.DataFrame(\n",
    "#     data={\n",
    "#         \"node_id\": [0],\n",
    "#         \"drainage\": [0.0],\n",
    "#         \"potential_evaporation\": [evaporation],\n",
    "#         \"infiltration\": [0.0],\n",
    "#         \"precipitation\": [precipitation],\n",
    "#         \"urban_runoff\": [0.0],\n",
    "#     }\n",
    "# )\n",
    "# static = static.iloc[[0, 0, 0, 0]]\n",
    "# static[\"node_id\"] = [1, 3, 6, 9]\n",
    "\n",
    "# basin = ribasim.Basin(profile=profile, static=static)"
   ]
  },
  {
   "cell_type": "code",
   "execution_count": null,
   "metadata": {},
   "outputs": [],
   "source": [
    "profile_data = pd.DataFrame(\n",
    "    data={\n",
    "        \"node_id\": ribasim_node_gdf.loc[ribasim_node_gdf['type']=='Basin'].index.values.tolist()\n",
    "    }\n",
    ")\n",
    "\n",
    "profile_data['storage'] = 3.5\n",
    "profile_data['area'] = 4.5\n",
    "profile_data['level'] = 5.5\n",
    "\n",
    "profile_data.head()\n"
   ]
  },
  {
   "cell_type": "code",
   "execution_count": null,
   "metadata": {},
   "outputs": [],
   "source": [
    "static_data = pd.DataFrame(\n",
    "    data={\n",
    "        \"node_id\": ribasim_node_gdf.loc[ribasim_node_gdf['type']=='Basin'].index.values.tolist()\n",
    "    }\n",
    ")\n",
    "\n",
    "static_data['drainage'] = 6.5\n",
    "static_data['potential_evaporation'] = 6.5\n",
    "static_data['infiltration'] = 6.5\n",
    "static_data['precipitation'] = 6.5\n",
    "static_data['urban_runoff'] = 6.5\n",
    "\n",
    "\n",
    "static_data.head()"
   ]
  },
  {
   "cell_type": "code",
   "execution_count": null,
   "metadata": {},
   "outputs": [],
   "source": [
    "basin = ribasim.Basin(profile=profile_data, static=static_data)"
   ]
  },
  {
   "attachments": {},
   "cell_type": "markdown",
   "metadata": {},
   "source": [
    "rating curve"
   ]
  },
  {
   "cell_type": "code",
   "execution_count": null,
   "metadata": {},
   "outputs": [],
   "source": [
    "# Discharge: lose 1% of storage volume per day at storage = 1000.0.\n",
    "static_data = pd.DataFrame(\n",
    "    data={\n",
    "        \"node_id\": ribasim_node_gdf.loc[ribasim_node_gdf['type']=='TabulatedRatingCurve'].index.values.tolist()\n",
    "    }\n",
    ")\n",
    "\n",
    "static_data['level'] = 6.5\n",
    "static_data['discharge'] = 6.5\n",
    "\n",
    "\n",
    "\n",
    "\n",
    "rating_curve = ribasim.TabulatedRatingCurve(\n",
    "    static= static_data,)\n",
    "\n",
    "\n",
    "static_data.head()"
   ]
  },
  {
   "attachments": {},
   "cell_type": "markdown",
   "metadata": {},
   "source": [
    "boundary"
   ]
  },
  {
   "cell_type": "code",
   "execution_count": null,
   "metadata": {},
   "outputs": [],
   "source": [
    "static_boundary = boundaries_gdf[['node_id']].copy()\n",
    "# static_boundary = static_boundary.rename(columns={\"boundary_id\": \"node_id\"})\n",
    "static_boundary\n",
    "static_boundary['level'] = 6.5\n",
    "\n",
    "static_boundary"
   ]
  },
  {
   "cell_type": "code",
   "execution_count": null,
   "metadata": {},
   "outputs": [],
   "source": [
    "# boundaries_gdf"
   ]
  },
  {
   "cell_type": "code",
   "execution_count": null,
   "metadata": {},
   "outputs": [],
   "source": [
    "level_boundary = ribasim.LevelBoundary(\n",
    "    static=static_boundary\n",
    ")"
   ]
  },
  {
   "cell_type": "markdown",
   "metadata": {},
   "source": [
    "Export everything to geopackage"
   ]
  },
  {
   "cell_type": "code",
   "execution_count": null,
   "metadata": {},
   "outputs": [],
   "source": [
    "network.export_to_geopackage(output_dir=results_dir)"
   ]
  },
  {
   "cell_type": "code",
   "execution_count": null,
   "metadata": {},
   "outputs": [],
   "source": [
    "# Setup a model:\n",
    "\n",
    "model = ribasim.Model(\n",
    "    modelname=\"ribasim_model\",\n",
    "    node=node,\n",
    "    edge=edge,\n",
    "    basin=basin,\n",
    "    level_boundary=level_boundary,\n",
    "    # level_control=level_control,\n",
    "    # linear_level_connection=linear_connection,\n",
    "    tabulated_rating_curve=rating_curve,\n",
    "    # fractional_flow=fractional_flow,\n",
    "    starttime=\"2020-01-01 00:00:00\",\n",
    "    endtime=\"2021-01-01 00:00:00\",\n",
    ")\n",
    "\n",
    "# %%\n",
    "# Write the model to a TOML and GeoPackage:\n",
    "\n",
    "model.write(f\"{results_dir}/{network.name}\")"
   ]
  },
  {
   "cell_type": "code",
   "execution_count": null,
   "metadata": {},
   "outputs": [],
   "source": [
    "# ribasim_node_gdf.loc[ribasim_node_gdf['type']=='Basin']"
   ]
  },
  {
   "cell_type": "code",
   "execution_count": null,
   "metadata": {},
   "outputs": [],
   "source": [
    "ribasim_node_gdf"
   ]
  },
  {
   "cell_type": "markdown",
   "metadata": {},
   "source": []
  },
  {
   "attachments": {},
   "cell_type": "markdown",
   "metadata": {},
   "source": [
    "node"
   ]
  },
  {
   "cell_type": "code",
   "execution_count": null,
   "metadata": {},
   "outputs": [],
   "source": [
    "ribasim_node_gdf"
   ]
  },
  {
   "cell_type": "code",
   "execution_count": null,
   "metadata": {},
   "outputs": [],
   "source": [
    "basin"
   ]
  },
  {
   "cell_type": "markdown",
   "metadata": {},
   "source": []
  }
 ],
 "metadata": {
  "kernelspec": {
   "display_name": "ribasim",
   "language": "python",
   "name": "python3"
  },
  "language_info": {
   "codemirror_mode": {
    "name": "ipython",
    "version": 3
   },
   "file_extension": ".py",
   "mimetype": "text/x-python",
   "name": "python",
   "nbconvert_exporter": "python",
   "pygments_lexer": "ipython3",
   "version": "3.11.0 | packaged by conda-forge | (main, Oct 25 2022, 06:12:32) [MSC v.1929 64 bit (AMD64)]"
  },
  "orig_nbformat": 4,
  "vscode": {
   "interpreter": {
    "hash": "dfc666eb4a62d5826d85bcfe032d59ef4dfc699941e19e14832498fb495ee494"
   }
  }
 },
 "nbformat": 4,
 "nbformat_minor": 2
}
