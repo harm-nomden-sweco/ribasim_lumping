{
 "cells": [
  {
   "cell_type": "code",
   "execution_count": null,
   "metadata": {},
   "outputs": [],
   "source": [
    "import sys\n",
    "from pathlib import Path\n",
    "import matplotlib.pyplot as plt\n",
    "\n",
    "# add directory with ribasim-repository\n",
    "sys.path.append(\"..\\\\..\\\\ribasim\\\\python\\\\ribasim\")\n",
    "import ribasim\n",
    "\n",
    "# add directory with ribasim_lumping_nl-repository\n",
    "sys.path.append(\"..\")\n",
    "import ribasim_lumping_nl\n",
    "\n",
    "import pandas as pd\n",
    "import geopandas as gpd\n",
    "import numpy as np\n",
    "import pyarrow as pa\n",
    "\n",
    "from numba.core.errors import NumbaDeprecationWarning\n",
    "import warnings\n",
    "\n",
    "warnings.simplefilter(\"ignore\", category=NumbaDeprecationWarning)\n",
    "warnings.simplefilter(\"ignore\", category=UserWarning)\n",
    "warnings.simplefilter(\"ignore\", category=FutureWarning)\n",
    "pd.options.mode.chained_assignment = None"
   ]
  },
  {
   "cell_type": "code",
   "execution_count": null,
   "metadata": {},
   "outputs": [],
   "source": [
    "%load_ext autoreload\n",
    "%autoreload 2"
   ]
  },
  {
   "cell_type": "code",
   "execution_count": null,
   "metadata": {},
   "outputs": [],
   "source": [
    "start_time = pd.Timestamp.now()"
   ]
  },
  {
   "cell_type": "markdown",
   "metadata": {},
   "source": [
    "#### BASIS OPZETTEN"
   ]
  },
  {
   "cell_type": "code",
   "execution_count": null,
   "metadata": {},
   "outputs": [],
   "source": [
    "# define network name, base dir\n",
    "network_name = \"HunzeenAas\"\n",
    "\n",
    "base_dir = Path(\"..\\\\..\\\\LHM\\\\\")\n",
    "\n",
    "# directory hydamo data\n",
    "hydamo_basis_dir = Path(base_dir, \"01_data_bewerking_analyse\\\\3_verwerkte_data\", network_name)\n",
    "# directory results\n",
    "results_dir = Path(base_dir, \"02_ribasim_netwerk_schematisatie\\\\\", network_name)\n",
    "# link to ribasim_executable\n",
    "path_ribasim_executable = \"..\\\\..\\\\..\\\\ribasim_cli\\\\bin\\\\ribasim.exe\""
   ]
  },
  {
   "cell_type": "code",
   "execution_count": null,
   "metadata": {},
   "outputs": [],
   "source": [
    "# # define network name, base dir\n",
    "# network_name = \"tki_hooge_raam\"\n",
    "# base_dir = Path(\"..\\\\..\\\\ribasim_lumping_data\\\\\")\n",
    "# # directory D-HYDRO basis calculations\n",
    "# dhydro_basis_dir = Path(base_dir, network_name, \"2_dhydro\\\\basis\\\\\")\n",
    "# # directory D-HYDRO results calculations\n",
    "# dhydro_results_dir = Path(base_dir, network_name, \"2_dhydro\\\\results\\\\\")\n",
    "# # directory results\n",
    "# results_dir = Path(base_dir, network_name, \"3_ribasim\\\\\")\n",
    "# # batch file used to calculate volume D-Hydro module per GridPoint\n",
    "# dhydro_volume_tool_bat_file = Path(r\"c:\\Program Files\\Deltares\\D-HYDRO Suite 2023.03 1D2D\\plugins\\DeltaShell.Dimr\\kernels\\x64\\dflowfm\\scripts\\run_dfm_volume_tool.bat\")\n",
    "# dhydro_volume_tool_increment = 0.1\n",
    "# # link to ribasim_executable\n",
    "# path_ribasim_executable = \"..\\\\..\\\\..\\\\ribasim_cli\\\\bin\\\\ribasim.exe\""
   ]
  },
  {
   "cell_type": "code",
   "execution_count": null,
   "metadata": {},
   "outputs": [],
   "source": [
    "hydamo_basis_dir"
   ]
  },
  {
   "cell_type": "code",
   "execution_count": null,
   "metadata": {},
   "outputs": [],
   "source": [
    "# Create networkanalysis\n",
    "network = ribasim_lumping_nl.create_ribasim_lumping_network(\n",
    "    base_dir=base_dir,\n",
    "    name=network_name,\n",
    "    # dhydro_basis_dir=dhydro_basis_dir,\n",
    "    # dhydro_results_dir=dhydro_results_dir,\n",
    "    hydamo_basis_dir=hydamo_basis_dir,\n",
    "    results_dir=results_dir,\n",
    "    path_ribasim_executable=path_ribasim_executable,\n",
    "    crs=28992\n",
    ")\n",
    "# network.export_to_geopackage()"
   ]
  },
  {
   "attachments": {},
   "cell_type": "markdown",
   "metadata": {},
   "source": [
    "#### INLEZEN HYDAMO  DATA"
   ]
  },
  {
   "cell_type": "code",
   "execution_count": null,
   "metadata": {},
   "outputs": [],
   "source": [
    "hydamo_file = Path(hydamo_basis_dir,\"hydamo.gpkg\")\n",
    "# gpd.read_file(hydamo_file, layer='peilgebiedpraktijk')"
   ]
  },
  {
   "cell_type": "code",
   "execution_count": null,
   "metadata": {},
   "outputs": [],
   "source": [
    "# Read network data and extract all objects (weirs/pumps/laterals/confluences/bifurcations)\n",
    "network.add_basis_network(\n",
    "    source_type='hydamo',\n",
    "    hydamo_basis_dir = hydamo_basis_dir\n",
    ");"
   ]
  },
  {
   "cell_type": "code",
   "execution_count": null,
   "metadata": {},
   "outputs": [],
   "source": []
  },
  {
   "cell_type": "markdown",
   "metadata": {},
   "source": [
    "Define locations where the network should be split into Ribasim basins:"
   ]
  },
  {
   "cell_type": "code",
   "execution_count": null,
   "metadata": {},
   "outputs": [],
   "source": [
    "# read files with split locations\n",
    "split_file = Path(results_dir,\"Duurswold.gdb\")\n",
    "splitlocs = gpd.GeoDataFrame()\n",
    "for layer in fiona.listlayers(split_file):\n",
    "    print(layer)\n",
    "    data = gpd.read_file(split_file,layer=layer)\n",
    "    data = data[['geometry']]\n",
    "    data_point = data.loc[data.geometry.geometry.type=='Point'] # only keep points (TODO work with culverts which are linestrings)\n",
    "    splitlocs = pd.concat([splitlocs, data_point])\n",
    "\n",
    "# merge list with split locations with structures\n",
    "splitlocs = gpd.sjoin_nearest(splitlocs,pd.concat([network.weirs_gdf, network.pumps_gdf]), how= 'left', max_distance=1 ) # TODO also merge with culverts\n",
    "splitlocs = splitlocs.loc[splitlocs['structure_id'].notna()]\n"
   ]
  },
  {
   "cell_type": "code",
   "execution_count": null,
   "metadata": {},
   "outputs": [],
   "source": [
    "splitlocs"
   ]
  },
  {
   "cell_type": "code",
   "execution_count": null,
   "metadata": {},
   "outputs": [],
   "source": [
    "network.add_split_nodes(\n",
    "    # weirs=True,\n",
    "    # pumps=False,\n",
    "    # uniweirs=False,\n",
    "    # edges=False,\n",
    "    structures_ids_to_include=splitlocs.structure_id,\n",
    "    # structures_ids_to_exclude=[],\n",
    "    # edge_ids_to_include=[],                                  \n",
    "    # edge_ids_to_exclude=[],\n",
    ");"
   ]
  },
  {
   "cell_type": "code",
   "execution_count": null,
   "metadata": {},
   "outputs": [],
   "source": [
    "# temp action. add edge number to splitnodes. TODO integrate in script\n",
    "columns_splitnod = network.split_nodes.columns\n",
    "temp = gpd.sjoin(network.split_nodes, network.edges_gdf[['geometry','edge_no']], how= 'left')\n",
    "temp['edge_no'] = temp['edge_no_right']\n",
    "temp = temp.groupby('split_node').first().reset_index()\n",
    "temp = temp.loc[temp['edge_no'].notna()] # structures die niet goed op de edge liggen: TODO snapping\n",
    "temp = temp.drop_duplicates(subset=['edge_no']) # meerdere structures op dezelfde edge\n",
    "temp = temp.set_crs(28992)\n",
    "temp = temp[columns_splitnod]\n"
   ]
  },
  {
   "cell_type": "code",
   "execution_count": null,
   "metadata": {},
   "outputs": [],
   "source": [
    "network.split_nodes = temp"
   ]
  },
  {
   "cell_type": "markdown",
   "metadata": {},
   "source": [
    "Specify translation split_nodes to ribasim-nodes per type or for specifiek split_node_id"
   ]
  },
  {
   "cell_type": "code",
   "execution_count": null,
   "metadata": {},
   "outputs": [],
   "source": [
    "split_node_type_conversion = dict(\n",
    "    weir=\"TabulatedRatingCurve\",\n",
    "    uniweir=\"TabulatedRatingCurve\",\n",
    "    pump=\"Pump\",\n",
    "    culvert=\"TabulatedRatingCurve\",\n",
    "    edge=\"ManningResistance\",\n",
    "    orifice=\"Outlet\",\n",
    "    boundary_connection=\"ManningResistance\"\n",
    ")\n",
    "split_node_id_conversion = {}"
   ]
  },
  {
   "cell_type": "markdown",
   "metadata": {},
   "source": [
    "Create basins (gdf) based on nodes, edges, split_node_ids and areas"
   ]
  },
  {
   "cell_type": "code",
   "execution_count": null,
   "metadata": {},
   "outputs": [],
   "source": [
    "simulation_code = 'test_duurswold'"
   ]
  },
  {
   "cell_type": "code",
   "execution_count": null,
   "metadata": {},
   "outputs": [],
   "source": [
    "network.nodes_gdf = network.nodes_gdf.set_crs(28992) "
   ]
  },
  {
   "cell_type": "code",
   "execution_count": null,
   "metadata": {},
   "outputs": [],
   "source": [
    "network.generate_ribasim_lumping_network(\n",
    "    simulation_code=simulation_code,\n",
    "    split_node_type_conversion=split_node_type_conversion,\n",
    "    split_node_id_conversion=split_node_id_conversion,\n",
    ");"
   ]
  },
  {
   "cell_type": "code",
   "execution_count": null,
   "metadata": {},
   "outputs": [],
   "source": []
  }
 ],
 "metadata": {
  "kernelspec": {
   "display_name": "ribasim",
   "language": "python",
   "name": "python3"
  },
  "language_info": {
   "codemirror_mode": {
    "name": "ipython",
    "version": 3
   },
   "file_extension": ".py",
   "mimetype": "text/x-python",
   "name": "python",
   "nbconvert_exporter": "python",
   "pygments_lexer": "ipython3",
   "version": "3.11.0"
  },
  "vscode": {
   "interpreter": {
    "hash": "dfc666eb4a62d5826d85bcfe032d59ef4dfc699941e19e14832498fb495ee494"
   }
  }
 },
 "nbformat": 4,
 "nbformat_minor": 4
}
