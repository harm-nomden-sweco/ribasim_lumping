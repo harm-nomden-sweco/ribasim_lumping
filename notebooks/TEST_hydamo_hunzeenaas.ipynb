{
 "cells": [
  {
   "cell_type": "code",
   "execution_count": 2,
   "metadata": {},
   "outputs": [],
   "source": [
    "import sys\n",
    "from pathlib import Path\n",
    "import matplotlib.pyplot as plt\n",
    "\n",
    "# add directory with ribasim-repository\n",
    "sys.path.append(\"..\\\\..\\\\ribasim\\\\python\\\\ribasim\")\n",
    "import ribasim\n",
    "\n",
    "# add directory with ribasim_lumping_nl-repository\n",
    "sys.path.append(\"..\")\n",
    "import ribasim_lumping_nl\n",
    "\n",
    "import pandas as pd\n",
    "import geopandas as gpd\n",
    "import numpy as np\n",
    "import pyarrow as pa\n",
    "\n",
    "from numba.core.errors import NumbaDeprecationWarning\n",
    "import warnings\n",
    "\n",
    "warnings.simplefilter(\"ignore\", category=NumbaDeprecationWarning)\n",
    "warnings.simplefilter(\"ignore\", category=UserWarning)\n",
    "warnings.simplefilter(\"ignore\", category=FutureWarning)\n",
    "pd.options.mode.chained_assignment = None"
   ]
  },
  {
   "cell_type": "code",
   "execution_count": 3,
   "metadata": {},
   "outputs": [],
   "source": [
    "%load_ext autoreload\n",
    "%autoreload 2"
   ]
  },
  {
   "cell_type": "code",
   "execution_count": 4,
   "metadata": {},
   "outputs": [],
   "source": [
    "start_time = pd.Timestamp.now()"
   ]
  },
  {
   "cell_type": "markdown",
   "metadata": {},
   "source": [
    "#### BASIS OPZETTEN"
   ]
  },
  {
   "cell_type": "code",
   "execution_count": 5,
   "metadata": {},
   "outputs": [],
   "source": [
    "# define network name, base dir\n",
    "network_name = \"HunzeenAas\"\n",
    "\n",
    "base_dir = Path(\"..\\\\..\\\\LHM\\\\\")\n",
    "\n",
    "# directory hydamo data\n",
    "hydamo_basis_dir = Path(base_dir, \"01_data_bewerking_analyse\\\\3_verwerkte_data\", network_name)\n",
    "# directory results\n",
    "results_dir = Path(base_dir, \"02_ribasim_netwerk_schematisatie\\\\\", network_name)\n",
    "# link to ribasim_executable\n",
    "path_ribasim_executable = \"..\\\\..\\\\..\\\\ribasim_cli\\\\bin\\\\ribasim.exe\""
   ]
  },
  {
   "cell_type": "code",
   "execution_count": 6,
   "metadata": {},
   "outputs": [],
   "source": [
    "# # define network name, base dir\n",
    "# network_name = \"tki_hooge_raam\"\n",
    "# base_dir = Path(\"..\\\\..\\\\ribasim_lumping_data\\\\\")\n",
    "# # directory D-HYDRO basis calculations\n",
    "# dhydro_basis_dir = Path(base_dir, network_name, \"2_dhydro\\\\basis\\\\\")\n",
    "# # directory D-HYDRO results calculations\n",
    "# dhydro_results_dir = Path(base_dir, network_name, \"2_dhydro\\\\results\\\\\")\n",
    "# # directory results\n",
    "# results_dir = Path(base_dir, network_name, \"3_ribasim\\\\\")\n",
    "# # batch file used to calculate volume D-Hydro module per GridPoint\n",
    "# dhydro_volume_tool_bat_file = Path(r\"c:\\Program Files\\Deltares\\D-HYDRO Suite 2023.03 1D2D\\plugins\\DeltaShell.Dimr\\kernels\\x64\\dflowfm\\scripts\\run_dfm_volume_tool.bat\")\n",
    "# dhydro_volume_tool_increment = 0.1\n",
    "# # link to ribasim_executable\n",
    "# path_ribasim_executable = \"..\\\\..\\\\..\\\\ribasim_cli\\\\bin\\\\ribasim.exe\""
   ]
  },
  {
   "cell_type": "code",
   "execution_count": 7,
   "metadata": {},
   "outputs": [
    {
     "data": {
      "text/plain": [
       "WindowsPath('../../LHM/01_data_bewerking_analyse/3_verwerkte_data/HunzeenAas')"
      ]
     },
     "execution_count": 7,
     "metadata": {},
     "output_type": "execute_result"
    }
   ],
   "source": [
    "hydamo_basis_dir"
   ]
  },
  {
   "cell_type": "code",
   "execution_count": 33,
   "metadata": {},
   "outputs": [],
   "source": [
    "# Create networkanalysis\n",
    "network = ribasim_lumping_nl.create_ribasim_lumping_network(\n",
    "    base_dir=base_dir,\n",
    "    name=network_name,\n",
    "    # dhydro_basis_dir=dhydro_basis_dir,\n",
    "    # dhydro_results_dir=dhydro_results_dir,\n",
    "    hydamo_basis_dir=hydamo_basis_dir,\n",
    "    results_dir=results_dir,\n",
    "    path_ribasim_executable=path_ribasim_executable,\n",
    "    crs=28992\n",
    ")\n",
    "# network.export_to_geopackage()"
   ]
  },
  {
   "cell_type": "code",
   "execution_count": 9,
   "metadata": {},
   "outputs": [
    {
     "data": {
      "text/plain": [
       "RibasimLumpingNetwork(name='HunzeenAas', base_dir=WindowsPath('../../LHM'), hydamo_basis_dir=WindowsPath('../../LHM/01_data_bewerking_analyse/3_verwerkte_data/HunzeenAas'), results_dir=WindowsPath('../../LHM/02_ribasim_netwerk_schematisatie/HunzeenAas'), path_ribasim_executable=WindowsPath('../../../ribasim_cli/bin/ribasim.exe'), areas_gdf=None, his_data=None, map_data=None, network_data=None, volume_data=None, network_graph=None, branches_gdf=None, network_nodes_gdf=None, edges_gdf=None, nodes_gdf=None, structures_gdf=None, stations_gdf=None, pumps_gdf=None, weirs_gdf=None, orifices_gdf=None, bridges_gdf=None, culverts_gdf=None, uniweirs_gdf=None, boundaries_gdf=None, laterals_gdf=None, boundaries_data=None, laterals_data=None, simulation_code=None, basin_areas_gdf=None, basins_gdf=None, split_nodes=None, basin_connections_gdf=None, boundary_connections_gdf=None, split_node_type_conversion=None, split_node_id_conversion=None, nodes_h_df=None, nodes_a_df=None, nodes_v_df=None, basins_h_df=None, basins_a_df=None, basins_v_df=None, basins_outflows=None, node_bedlevel=None, node_targetlevel=None, ribasim_model=None, basis_source_types=[], basis_set_names=[], basis_model_dirs=[], basis_simulations_names=[], source_types=[], set_names=[], model_dirs=[], simulations_names=[], simulations_output_dirs=[], simulations_ts=[], crs=28992)"
      ]
     },
     "execution_count": 9,
     "metadata": {},
     "output_type": "execute_result"
    }
   ],
   "source": [
    "network"
   ]
  },
  {
   "attachments": {},
   "cell_type": "markdown",
   "metadata": {},
   "source": [
    "#### INLEZEN HYDAMO  DATA"
   ]
  },
  {
   "cell_type": "code",
   "execution_count": 34,
   "metadata": {},
   "outputs": [],
   "source": [
    "# Read network data and extract all objects (weirs/pumps/laterals/confluences/bifurcations)\n",
    "network.add_basis_network(\n",
    "    source_type='hydamo'\n",
    ");"
   ]
  },
  {
   "cell_type": "markdown",
   "metadata": {},
   "source": [
    "Define locations where the network should be split into Ribasim basins:"
   ]
  },
  {
   "cell_type": "code",
   "execution_count": 35,
   "metadata": {},
   "outputs": [
    {
     "name": "stdout",
     "output_type": "stream",
     "text": [
      "2153 split locations\n",
      " - stuw: 2153\n"
     ]
    }
   ],
   "source": [
    "# black list: \"105BGA\"\n",
    "network.add_split_nodes(\n",
    "    weirs=True,\n",
    "    pumps=False,\n",
    "    uniweirs=False,\n",
    "    edges=False,\n",
    "    # structures_ids_to_include=[],\n",
    "    # structures_ids_to_exclude=[],\n",
    "    # edge_ids_to_include=[],                                  \n",
    "    # edge_ids_to_exclude=[],\n",
    ");"
   ]
  },
  {
   "cell_type": "code",
   "execution_count": 36,
   "metadata": {},
   "outputs": [
    {
     "data": {
      "text/html": [
       "<div>\n",
       "<style scoped>\n",
       "    .dataframe tbody tr th:only-of-type {\n",
       "        vertical-align: middle;\n",
       "    }\n",
       "\n",
       "    .dataframe tbody tr th {\n",
       "        vertical-align: top;\n",
       "    }\n",
       "\n",
       "    .dataframe thead th {\n",
       "        text-align: right;\n",
       "    }\n",
       "</style>\n",
       "<table border=\"1\" class=\"dataframe\">\n",
       "  <thead>\n",
       "    <tr style=\"text-align: right;\">\n",
       "      <th></th>\n",
       "      <th>split_node</th>\n",
       "      <th>node_no</th>\n",
       "      <th>edge_no</th>\n",
       "      <th>split_node_id</th>\n",
       "      <th>geometry</th>\n",
       "      <th>object_type</th>\n",
       "      <th>split_type</th>\n",
       "      <th>code</th>\n",
       "    </tr>\n",
       "  </thead>\n",
       "  <tbody>\n",
       "    <tr>\n",
       "      <th>0</th>\n",
       "      <td>1</td>\n",
       "      <td>-1</td>\n",
       "      <td>NaN</td>\n",
       "      <td>NaN</td>\n",
       "      <td>POINT (265070.246 558275.993)</td>\n",
       "      <td>stuw</td>\n",
       "      <td>NaN</td>\n",
       "      <td>KST-W-11023</td>\n",
       "    </tr>\n",
       "    <tr>\n",
       "      <th>1</th>\n",
       "      <td>2</td>\n",
       "      <td>-1</td>\n",
       "      <td>NaN</td>\n",
       "      <td>NaN</td>\n",
       "      <td>POINT (257084.871 591778.878)</td>\n",
       "      <td>stuw</td>\n",
       "      <td>NaN</td>\n",
       "      <td>KST-D-14950</td>\n",
       "    </tr>\n",
       "    <tr>\n",
       "      <th>2</th>\n",
       "      <td>3</td>\n",
       "      <td>-1</td>\n",
       "      <td>NaN</td>\n",
       "      <td>NaN</td>\n",
       "      <td>POINT (270818.725 560262.502)</td>\n",
       "      <td>stuw</td>\n",
       "      <td>NaN</td>\n",
       "      <td>KST-W-11264</td>\n",
       "    </tr>\n",
       "    <tr>\n",
       "      <th>3</th>\n",
       "      <td>4</td>\n",
       "      <td>-1</td>\n",
       "      <td>NaN</td>\n",
       "      <td>NaN</td>\n",
       "      <td>POINT (234960.327 555456.881)</td>\n",
       "      <td>stuw</td>\n",
       "      <td>NaN</td>\n",
       "      <td>KST-A-01053</td>\n",
       "    </tr>\n",
       "    <tr>\n",
       "      <th>4</th>\n",
       "      <td>5</td>\n",
       "      <td>-1</td>\n",
       "      <td>NaN</td>\n",
       "      <td>NaN</td>\n",
       "      <td>POINT (236221.874 554836.147)</td>\n",
       "      <td>stuw</td>\n",
       "      <td>NaN</td>\n",
       "      <td>KST-A-01089</td>\n",
       "    </tr>\n",
       "    <tr>\n",
       "      <th>...</th>\n",
       "      <td>...</td>\n",
       "      <td>...</td>\n",
       "      <td>...</td>\n",
       "      <td>...</td>\n",
       "      <td>...</td>\n",
       "      <td>...</td>\n",
       "      <td>...</td>\n",
       "      <td>...</td>\n",
       "    </tr>\n",
       "    <tr>\n",
       "      <th>2148</th>\n",
       "      <td>2149</td>\n",
       "      <td>-1</td>\n",
       "      <td>NaN</td>\n",
       "      <td>NaN</td>\n",
       "      <td>POINT (240296.030 576768.233)</td>\n",
       "      <td>stuw</td>\n",
       "      <td>NaN</td>\n",
       "      <td>KIN-H-10014</td>\n",
       "    </tr>\n",
       "    <tr>\n",
       "      <th>2149</th>\n",
       "      <td>2150</td>\n",
       "      <td>-1</td>\n",
       "      <td>NaN</td>\n",
       "      <td>NaN</td>\n",
       "      <td>POINT (256370.612 558101.919)</td>\n",
       "      <td>stuw</td>\n",
       "      <td>NaN</td>\n",
       "      <td>KST-H-10087</td>\n",
       "    </tr>\n",
       "    <tr>\n",
       "      <th>2150</th>\n",
       "      <td>2151</td>\n",
       "      <td>-1</td>\n",
       "      <td>NaN</td>\n",
       "      <td>NaN</td>\n",
       "      <td>POINT (241036.477 583953.318)</td>\n",
       "      <td>stuw</td>\n",
       "      <td>NaN</td>\n",
       "      <td>KIN-D-00014</td>\n",
       "    </tr>\n",
       "    <tr>\n",
       "      <th>2151</th>\n",
       "      <td>2152</td>\n",
       "      <td>-1</td>\n",
       "      <td>NaN</td>\n",
       "      <td>NaN</td>\n",
       "      <td>POINT (255455.795 582950.428)</td>\n",
       "      <td>stuw</td>\n",
       "      <td>NaN</td>\n",
       "      <td>KST-O-17750</td>\n",
       "    </tr>\n",
       "    <tr>\n",
       "      <th>2152</th>\n",
       "      <td>2153</td>\n",
       "      <td>-1</td>\n",
       "      <td>NaN</td>\n",
       "      <td>NaN</td>\n",
       "      <td>POINT (244589.666 576653.194)</td>\n",
       "      <td>stuw</td>\n",
       "      <td>NaN</td>\n",
       "      <td>KST-E-00008</td>\n",
       "    </tr>\n",
       "  </tbody>\n",
       "</table>\n",
       "<p>2153 rows × 8 columns</p>\n",
       "</div>"
      ],
      "text/plain": [
       "      split_node  node_no edge_no split_node_id  \\\n",
       "0              1       -1     NaN           NaN   \n",
       "1              2       -1     NaN           NaN   \n",
       "2              3       -1     NaN           NaN   \n",
       "3              4       -1     NaN           NaN   \n",
       "4              5       -1     NaN           NaN   \n",
       "...          ...      ...     ...           ...   \n",
       "2148        2149       -1     NaN           NaN   \n",
       "2149        2150       -1     NaN           NaN   \n",
       "2150        2151       -1     NaN           NaN   \n",
       "2151        2152       -1     NaN           NaN   \n",
       "2152        2153       -1     NaN           NaN   \n",
       "\n",
       "                           geometry object_type split_type         code  \n",
       "0     POINT (265070.246 558275.993)        stuw        NaN  KST-W-11023  \n",
       "1     POINT (257084.871 591778.878)        stuw        NaN  KST-D-14950  \n",
       "2     POINT (270818.725 560262.502)        stuw        NaN  KST-W-11264  \n",
       "3     POINT (234960.327 555456.881)        stuw        NaN  KST-A-01053  \n",
       "4     POINT (236221.874 554836.147)        stuw        NaN  KST-A-01089  \n",
       "...                             ...         ...        ...          ...  \n",
       "2148  POINT (240296.030 576768.233)        stuw        NaN  KIN-H-10014  \n",
       "2149  POINT (256370.612 558101.919)        stuw        NaN  KST-H-10087  \n",
       "2150  POINT (241036.477 583953.318)        stuw        NaN  KIN-D-00014  \n",
       "2151  POINT (255455.795 582950.428)        stuw        NaN  KST-O-17750  \n",
       "2152  POINT (244589.666 576653.194)        stuw        NaN  KST-E-00008  \n",
       "\n",
       "[2153 rows x 8 columns]"
      ]
     },
     "execution_count": 36,
     "metadata": {},
     "output_type": "execute_result"
    }
   ],
   "source": [
    "network.split_nodes"
   ]
  },
  {
   "cell_type": "code",
   "execution_count": null,
   "metadata": {},
   "outputs": [],
   "source": [
    "network.split_nodes.split_node_id.values"
   ]
  },
  {
   "cell_type": "markdown",
   "metadata": {},
   "source": [
    "Specify translation split_nodes to ribasim-nodes per type or for specifiek split_node_id"
   ]
  },
  {
   "cell_type": "code",
   "execution_count": null,
   "metadata": {},
   "outputs": [],
   "source": [
    "split_node_type_conversion = dict(\n",
    "    weir=\"TabulatedRatingCurve\",\n",
    "    uniweir=\"TabulatedRatingCurve\",\n",
    "    pump=\"Pump\",\n",
    "    culvert=\"TabulatedRatingCurve\",\n",
    "    edge=\"ManningResistance\",\n",
    "    orifice=\"Outlet\",\n",
    "    boundary_connection=\"ManningResistance\"\n",
    ")\n",
    "split_node_id_conversion = {}"
   ]
  },
  {
   "cell_type": "markdown",
   "metadata": {},
   "source": [
    "Create basins (gdf) based on nodes, edges, split_node_ids and areas"
   ]
  },
  {
   "cell_type": "code",
   "execution_count": null,
   "metadata": {},
   "outputs": [],
   "source": [
    "network.generate_ribasim_lumping_network(\n",
    "    simulation_code=simulation_code,\n",
    "    split_node_type_conversion=split_node_type_conversion,\n",
    "    split_node_id_conversion=split_node_id_conversion,\n",
    ");"
   ]
  },
  {
   "cell_type": "markdown",
   "metadata": {},
   "source": [
    "Generate Ribasim model and export to geopackage"
   ]
  },
  {
   "cell_type": "code",
   "execution_count": null,
   "metadata": {},
   "outputs": [],
   "source": [
    "ribasim_model = network.generate_ribasim_model_complete(\n",
    "    set_name=set_name,\n",
    "    starttime=starttime,\n",
    "    endtime=endtime\n",
    ")"
   ]
  },
  {
   "cell_type": "code",
   "execution_count": null,
   "metadata": {},
   "outputs": [],
   "source": [
    "# network.plot_basin_waterlevels_for_basins(\n",
    "#     set_name='winter', \n",
    "#     basins_nos=[6, 9, 10, 39, 19, 57, 58, 53, 20, 38]\n",
    "# );"
   ]
  },
  {
   "cell_type": "code",
   "execution_count": null,
   "metadata": {},
   "outputs": [],
   "source": [
    "f\"Duration: {pd.Timestamp.now() - start_time}\""
   ]
  },
  {
   "cell_type": "code",
   "execution_count": null,
   "metadata": {},
   "outputs": [],
   "source": [
    "basin_df, control_df, flow_df = network.read_ribasim_results(simulation_code=simulation_code)\n",
    "basin_df.drop(columns='node_id').groupby('time').sum()['storage'].plot()"
   ]
  },
  {
   "cell_type": "code",
   "execution_count": null,
   "metadata": {},
   "outputs": [],
   "source": [
    "flow_df[~flow_df['edge_id'].isna()].groupby('to_node_id').get_group(1)['flow'].plot()"
   ]
  },
  {
   "cell_type": "code",
   "execution_count": null,
   "metadata": {},
   "outputs": [],
   "source": []
  },
  {
   "cell_type": "code",
   "execution_count": null,
   "metadata": {},
   "outputs": [],
   "source": []
  },
  {
   "cell_type": "code",
   "execution_count": null,
   "metadata": {},
   "outputs": [],
   "source": [
    "# q = uniweirs_q_gdf.loc['weirgen_discharge'].iloc[5]['winter']"
   ]
  },
  {
   "cell_type": "code",
   "execution_count": null,
   "metadata": {},
   "outputs": [],
   "source": [
    "# import numpy as np\n",
    "# import matplotlib.pyplot as plt\n",
    "# from scipy.optimize import curve_fit\n",
    "\n",
    "# for i, weir in uniweirs_q_gdf.loc['weirgen_discharge']['winter'].iterrows():\n",
    "#     x_data = weir.index.values\n",
    "#     y_data = weir.values\n",
    "\n",
    "#     def exponential_function(x, a, b):\n",
    "#         return a * np.exp(b * x)\n",
    "\n",
    "#     params, covariance = curve_fit(exponential_function, x_data, y_data)\n",
    "#     a, b = params\n",
    "\n",
    "#     y_fit = exponential_function(x_data, a, b)\n",
    "\n",
    "#     fig, ax = plt.subplots()\n",
    "#     ax.scatter(x_data, y_data, label=\"Data\")\n",
    "#     ax.plot(x_data, y_fit, \"-x\", label=\"Exponential Fit\", color='red')\n",
    "#     fig.show()\n",
    "#     # plt.legend()\n",
    "#     # plt.xlabel('X')\n",
    "#     # plt.ylabel('Y')\n",
    "#     # plt.title('Exponential Regression')\n",
    "#     # plt.show()"
   ]
  },
  {
   "cell_type": "code",
   "execution_count": null,
   "metadata": {},
   "outputs": [],
   "source": [
    "# def exponential_function(x, a, b):\n",
    "#     return a * np.exp(b * x)\n",
    "\n",
    "# def apply_exponential_function(df_series):\n",
    "#     x_data = df_series.index.values\n",
    "#     y_data = df_series.values\n",
    "#     params, covariance = curve_fit(exponential_function, x_data, y_data)\n",
    "#     a, b = params\n",
    "#     y_fit = exponential_function(x_data, a, b)\n",
    "#     df_series.values = y_fit\n",
    "#     return df_series\n",
    "\n",
    "# uniweirs_q_gdf#.loc['winter']#.apply(lambda row: apply_exponential_function(row))"
   ]
  },
  {
   "cell_type": "code",
   "execution_count": null,
   "metadata": {},
   "outputs": [],
   "source": []
  },
  {
   "cell_type": "code",
   "execution_count": null,
   "metadata": {},
   "outputs": [],
   "source": []
  }
 ],
 "metadata": {
  "kernelspec": {
   "display_name": "ribasim",
   "language": "python",
   "name": "python3"
  },
  "language_info": {
   "codemirror_mode": {
    "name": "ipython",
    "version": 3
   },
   "file_extension": ".py",
   "mimetype": "text/x-python",
   "name": "python",
   "nbconvert_exporter": "python",
   "pygments_lexer": "ipython3",
   "version": "3.11.0"
  },
  "vscode": {
   "interpreter": {
    "hash": "dfc666eb4a62d5826d85bcfe032d59ef4dfc699941e19e14832498fb495ee494"
   }
  }
 },
 "nbformat": 4,
 "nbformat_minor": 4
}
