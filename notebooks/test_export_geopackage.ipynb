{
 "cells": [
  {
   "cell_type": "code",
   "execution_count": null,
   "metadata": {},
   "outputs": [],
   "source": [
    "import sys\n",
    "from pathlib import Path\n",
    "\n",
    "sys.path.append(\"..\")\n",
    "from ribasim_lumping import NetworkAnalysis\n",
    "\n",
    "import pandas as pd\n",
    "import numpy as np\n",
    "import geopandas as gpd\n",
    "from pydantic import BaseModel\n",
    "import xarray as xr\n",
    "import dfm_tools as dfmt\n",
    "import xugrid as xu\n",
    "import matplotlib.pyplot as plt\n",
    "import random\n",
    "\n",
    "from numba.core.errors import NumbaDeprecationWarning, NumbaPendingDeprecationWarning\n",
    "import warnings\n",
    "\n",
    "warnings.simplefilter(\"ignore\", category=NumbaDeprecationWarning)\n",
    "\n",
    "import networkx as nx\n",
    "import ribasim"
   ]
  },
  {
   "cell_type": "code",
   "execution_count": null,
   "metadata": {},
   "outputs": [],
   "source": [
    "%load_ext autoreload\n",
    "%autoreload 2"
   ]
  },
  {
   "cell_type": "code",
   "execution_count": null,
   "metadata": {},
   "outputs": [],
   "source": [
    "base_dir = Path(\"C:\\\\Users\\\\NLTAND\\\\OneDrive - Sweco AB\\\\Algemeen-Tessa\\\\Projecten\\\\TKI oppervlaktewatermodule NHI\\\\\")\n",
    "simulations_dir = Path(base_dir, \"d-hydro\\\\dhydro\\\\\")\n",
    "date_range = pd.date_range(\"2000-01-02 23:00\", periods=9, freq=\"2D\")\n",
    "\n",
    "# load areas units (discharge units: afwaterende eenheden)\n",
    "areas_file_path = Path(base_dir, \"wrij_afwateringseenheden_clip_Zutphen\\\\wrij_afwateringseenheden_clip_Zutphen.shp\")\n",
    "areas = gpd.read_file(areas_file_path)[[\"geometry\"]].to_crs(28992)\n",
    "\n",
    "# output geopackage\n",
    "gpkg_path = \"output/test_export_geopackage/ribasim_network.gpkg\""
   ]
  },
  {
   "cell_type": "code",
   "execution_count": null,
   "metadata": {},
   "outputs": [],
   "source": [
    "# create networkanalysis\n",
    "network = NetworkAnalysis(areas_gdf=areas)\n",
    "\n",
    "# add data from simulation sets\n",
    "network.add_data_from_simulations_set(\n",
    "    set_name=\"winter\",\n",
    "    simulations_dir=Path(simulations_dir, \"\"),\n",
    "    simulations_names=[\"tki_zuthpen_berkel_basis.dsproj\"],\n",
    "    simulations_ts=date_range,\n",
    ")\n",
    "network.add_data_from_simulations_set(\n",
    "    set_name=\"zomer\",\n",
    "    simulations_dir=Path(simulations_dir, \"\"),\n",
    "    simulations_names=[\"tki_zuthpen_berkel_basis.dsproj\"],\n",
    "    simulations_ts=date_range,\n",
    ")\n",
    "\n",
    "# get all network data from the schematisations\n",
    "network.get_network_data()"
   ]
  },
  {
   "cell_type": "code",
   "execution_count": null,
   "metadata": {},
   "outputs": [],
   "source": [
    "# # nodes = network.nodes_gdf.sort_values(by='mesh1d_node_x', ascending=False).iloc[:150]\n",
    "# nodes = network.nodes_gdf\n",
    "# nodes_ids = list(nodes.mesh1d_nNodes.values)\n",
    "\n",
    "# edges = network.edges_gdf\n",
    "# edges = edges[(edges[\"start_node_no\"].isin(nodes_ids)) & \n",
    "#               (edges[\"end_node_no\"].isin(nodes_ids))]"
   ]
  },
  {
   "cell_type": "code",
   "execution_count": null,
   "metadata": {},
   "outputs": [],
   "source": [
    "# Define node_ids on which to split\n",
    "# split_node_ids = [300, 1200, 1300, 1400, 1430, 1818, 1950, 2380]\n",
    "# split_node_ids = [2380]\n",
    "# split_node_ids = list(network.bifurcations_gdf.mesh1d_nNodes.values)\n",
    "# split_node_ids = list(network.bifurcations_gdf.mesh1d_nNodes.values) + list(network.confluences_gdf.mesh1d_nNodes.values)\n",
    "split_node_ids = list(network.weirs_gdf.mesh1d_nNodes.values) # all weirs\n",
    "# split_node_ids = random.sample(split_node_ids, 25)\n",
    "\n",
    "# create basins (gdf) based on nodes, edges, split_node_ids and areas\n",
    "basins, areas, nodes, edges = network.create_basins_based_on_split_node_ids(\n",
    "    # nodes=nodes, \n",
    "    # edges=edges, \n",
    "    split_node_ids=split_node_ids, \n",
    "    # areas=areas\n",
    ")"
   ]
  },
  {
   "cell_type": "code",
   "execution_count": null,
   "metadata": {},
   "outputs": [],
   "source": [
    "split_nodes = network.nodes_gdf.loc[split_node_ids]\n",
    "split_nodes['splitnode_id'] = split_nodes['mesh1d_nNodes']\n",
    "split_nodes = split_nodes[['splitnode_id','geometry']]"
   ]
  },
  {
   "cell_type": "code",
   "execution_count": null,
   "metadata": {},
   "outputs": [],
   "source": [
    "network.export_to_geopackage(basins=basins, split_nodes=split_nodes, output=gpkg_path)"
   ]
  },
  {
   "cell_type": "code",
   "execution_count": null,
   "metadata": {},
   "outputs": [],
   "source": [
    "split_nodes_gdf = gpd.read_file(gpkg_path, layer='split_nodes')"
   ]
  },
  {
   "cell_type": "code",
   "execution_count": null,
   "metadata": {},
   "outputs": [],
   "source": [
    "# create basins (gdf) based on nodes, edges, split_node_ids and areas\n",
    "basins, areas, nodes, edges = network.create_basins_based_on_split_node_gdf(split_node_gdf=split_nodes_gdf)"
   ]
  },
  {
   "cell_type": "code",
   "execution_count": null,
   "metadata": {},
   "outputs": [],
   "source": [
    "areas.crs"
   ]
  },
  {
   "cell_type": "code",
   "execution_count": null,
   "metadata": {},
   "outputs": [],
   "source": [
    "export_to_geopackage(network = network, basins = basins, split_nodes = split_nodes, output = \"output/test_export_geopackage/ribasim_network.gpkg\")"
   ]
  },
  {
   "cell_type": "code",
   "execution_count": null,
   "metadata": {},
   "outputs": [],
   "source": [
    "split_nodes"
   ]
  },
  {
   "cell_type": "code",
   "execution_count": null,
   "metadata": {},
   "outputs": [],
   "source": [
    "areas"
   ]
  },
  {
   "cell_type": "code",
   "execution_count": null,
   "metadata": {},
   "outputs": [],
   "source": [
    "areas.loc[42, 'basin'] = 0"
   ]
  },
  {
   "cell_type": "code",
   "execution_count": null,
   "metadata": {},
   "outputs": [],
   "source": [
    "areas"
   ]
  },
  {
   "cell_type": "code",
   "execution_count": null,
   "metadata": {},
   "outputs": [],
   "source": [
    "areas.dissolve(by=\"basin\").reset_index().explode().reset_index(drop=True)"
   ]
  },
  {
   "cell_type": "code",
   "execution_count": null,
   "metadata": {},
   "outputs": [],
   "source": []
  }
 ],
 "metadata": {
  "kernelspec": {
   "display_name": "ribasim",
   "language": "python",
   "name": "python3"
  },
  "language_info": {
   "codemirror_mode": {
    "name": "ipython",
    "version": 3
   },
   "file_extension": ".py",
   "mimetype": "text/x-python",
   "name": "python",
   "nbconvert_exporter": "python",
   "pygments_lexer": "ipython3",
   "version": "3.11.0"
  },
  "orig_nbformat": 4,
  "vscode": {
   "interpreter": {
    "hash": "dfc666eb4a62d5826d85bcfe032d59ef4dfc699941e19e14832498fb495ee494"
   }
  }
 },
 "nbformat": 4,
 "nbformat_minor": 2
}
