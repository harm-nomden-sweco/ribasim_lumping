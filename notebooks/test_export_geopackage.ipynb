{
 "cells": [
  {
   "cell_type": "code",
   "execution_count": 1,
   "metadata": {},
   "outputs": [],
   "source": [
    "import sys\n",
    "from pathlib import Path\n",
    "\n",
    "sys.path.append(\"..\")\n",
    "from ribasim_lumping import NetworkAnalysis\n",
    "\n",
    "import pandas as pd\n",
    "import numpy as np\n",
    "import geopandas as gpd\n",
    "from pydantic import BaseModel\n",
    "import xarray as xr\n",
    "import dfm_tools as dfmt\n",
    "import xugrid as xu\n",
    "import matplotlib.pyplot as plt\n",
    "import random\n",
    "\n",
    "from numba.core.errors import NumbaDeprecationWarning, NumbaPendingDeprecationWarning\n",
    "import warnings\n",
    "\n",
    "warnings.simplefilter(\"ignore\", category=NumbaDeprecationWarning)\n",
    "\n",
    "import networkx as nx\n",
    "import ribasim"
   ]
  },
  {
   "cell_type": "code",
   "execution_count": 2,
   "metadata": {},
   "outputs": [],
   "source": [
    "%load_ext autoreload\n",
    "%autoreload 2"
   ]
  },
  {
   "cell_type": "code",
   "execution_count": 3,
   "metadata": {},
   "outputs": [],
   "source": [
    "base_dir = Path(\"c:\\\\Users\\\\NLHARN\\\\Documents\\\\SWECO_LOKAAL\\\\NHI-TKI-oppervlaktewatermodule-Ribasim\\\\TKI-NHI-oppervlaktewatermodule\\\\\")\n",
    "# base_dir = Path(\"C:\\\\Users\\\\NLTAND\\\\OneDrive - Sweco AB\\\\Algemeen-Tessa\\\\Projecten\\\\TKI oppervlaktewatermodule NHI\\\\\")\n",
    "simulations_dir = Path(base_dir, \"d-hydro\\\\dhydro\\\\\")\n",
    "date_range = pd.date_range(\"2000-01-02 23:00\", periods=9, freq=\"2D\")\n",
    "\n",
    "# load areas units (discharge units: afwaterende eenheden)\n",
    "areas_file_path = Path(base_dir, \"wrij_afwateringseenheden_clip_Zutphen\\\\wrij_afwateringseenheden_clip_Zutphen.shp\")\n",
    "areas = gpd.read_file(areas_file_path)[[\"geometry\"]].to_crs(28992)\n",
    "\n",
    "# output geopackage\n",
    "gpkg_path = \"output/test_export_geopackage/ribasim_network.gpkg\""
   ]
  },
  {
   "cell_type": "code",
   "execution_count": 6,
   "metadata": {},
   "outputs": [
    {
     "name": "stdout",
     "output_type": "stream",
     "text": [
      "Simulation set (winter): tki_zuthpen_berkel_basis.dsproj | Timestamps: 9 | his.nc and map.nc\n",
      "Simulation set (zomer): tki_zuthpen_berkel_basis.dsproj | Timestamps: 9 | his.nc and map.nc\n",
      "network locations read: nodes/edges/confluences/bifurcations/weirs/pumps/laterals\n"
     ]
    }
   ],
   "source": [
    "# create networkanalysis\n",
    "network = NetworkAnalysis(areas_gdf=areas)\n",
    "\n",
    "# add data from simulation sets\n",
    "network.add_data_from_simulations_set(\n",
    "    set_name=\"winter\",\n",
    "    simulations_dir=Path(simulations_dir, \"\"),\n",
    "    simulations_names=[\"tki_zuthpen_berkel_basis.dsproj\"],\n",
    "    simulations_ts=date_range,\n",
    ")\n",
    "network.add_data_from_simulations_set(\n",
    "    set_name=\"zomer\",\n",
    "    simulations_dir=Path(simulations_dir, \"\"),\n",
    "    simulations_names=[\"tki_zuthpen_berkel_basis.dsproj\"],\n",
    "    simulations_ts=date_range,\n",
    ")\n",
    "\n",
    "# get all network data from the schematisations\n",
    "network.get_network_data()"
   ]
  },
  {
   "cell_type": "code",
   "execution_count": 46,
   "metadata": {},
   "outputs": [],
   "source": [
    "# Define node_ids on which to split\n",
    "# - define types to include\n",
    "split_node_ids_1 = network.get_node_ids_from_type(\n",
    "    bifurcations=False,\n",
    "    confluences=False,\n",
    "    weirs=True,\n",
    "    laterals=False\n",
    ")\n",
    "\n",
    "# - define by node code\n",
    "split_node_ids_2 = [1452, 2378]\n",
    "\n",
    "# - define which of the node_ids should be excluded\n",
    "split_node_ids_exclude = [314]\n",
    "\n",
    "# - combine types of split_node_ids\n",
    "split_node_ids = split_node_ids_1 + split_node_ids_2\n",
    "split_node_ids = [node_id for node_id in split_node_ids if node_id not in split_node_ids_exclude]"
   ]
  },
  {
   "cell_type": "code",
   "execution_count": 47,
   "metadata": {},
   "outputs": [],
   "source": [
    "# create basins (gdf) based on nodes, edges, split_node_ids and areas\n",
    "results = network.create_basins_based_on_split_node_ids(split_node_ids=split_node_ids)\n",
    "# export it to geopackage\n",
    "network.export_to_geopackage(output=gpkg_path)"
   ]
  },
  {
   "cell_type": "code",
   "execution_count": 44,
   "metadata": {},
   "outputs": [],
   "source": [
    "# get split_nodes in geodataframe\n",
    "split_nodes_gdf = gpd.read_file(gpkg_path, layer='split_nodes')"
   ]
  },
  {
   "cell_type": "code",
   "execution_count": 45,
   "metadata": {},
   "outputs": [],
   "source": [
    "# create basins (gdf) based on nodes, edges, split_node_ids and areas\n",
    "results = network.create_basins_based_on_split_node_gdf(split_node_gdf=split_nodes_gdf)\n",
    "# export it to geopackage\n",
    "network.export_to_geopackage(output=gpkg_path)"
   ]
  },
  {
   "cell_type": "code",
   "execution_count": null,
   "metadata": {},
   "outputs": [],
   "source": []
  },
  {
   "cell_type": "code",
   "execution_count": null,
   "metadata": {},
   "outputs": [],
   "source": []
  },
  {
   "cell_type": "code",
   "execution_count": null,
   "metadata": {},
   "outputs": [],
   "source": []
  }
 ],
 "metadata": {
  "kernelspec": {
   "display_name": "ribasim",
   "language": "python",
   "name": "python3"
  },
  "language_info": {
   "codemirror_mode": {
    "name": "ipython",
    "version": 3
   },
   "file_extension": ".py",
   "mimetype": "text/x-python",
   "name": "python",
   "nbconvert_exporter": "python",
   "pygments_lexer": "ipython3",
   "version": "3.10.0"
  }
 },
 "nbformat": 4,
 "nbformat_minor": 4
}
