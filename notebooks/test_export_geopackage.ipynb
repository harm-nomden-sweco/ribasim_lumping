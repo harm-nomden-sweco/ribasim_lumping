{
 "cells": [
  {
   "cell_type": "code",
   "execution_count": 95,
   "metadata": {},
   "outputs": [],
   "source": [
    "import sys\n",
    "from pathlib import Path\n",
    "\n",
    "sys.path.append(\"..\")\n",
    "from ribasim_lumping import RibasimLumpingNetwork\n",
    "\n",
    "import pandas as pd\n",
    "import numpy as np\n",
    "import geopandas as gpd\n",
    "from pydantic import BaseModel\n",
    "import xarray as xr\n",
    "import dfm_tools as dfmt\n",
    "import xugrid as xu\n",
    "import matplotlib.pyplot as plt\n",
    "import random\n",
    "\n",
    "from numba.core.errors import NumbaDeprecationWarning, NumbaPendingDeprecationWarning\n",
    "import warnings\n",
    "\n",
    "warnings.simplefilter(\"ignore\", category=NumbaDeprecationWarning)\n",
    "\n",
    "import networkx as nx\n",
    "import ribasim"
   ]
  },
  {
   "cell_type": "code",
   "execution_count": 96,
   "metadata": {},
   "outputs": [
    {
     "name": "stdout",
     "output_type": "stream",
     "text": [
      "The autoreload extension is already loaded. To reload it, use:\n",
      "  %reload_ext autoreload\n"
     ]
    }
   ],
   "source": [
    "%load_ext autoreload\n",
    "%autoreload 2"
   ]
  },
  {
   "cell_type": "code",
   "execution_count": 128,
   "metadata": {},
   "outputs": [],
   "source": [
    "# network name and results directory\n",
    "network_name = \"zutphen_tki_netwerk\"\n",
    "\n",
    "base_dir = Path(\"..\\\\..\\\\ribasim_lumping_data\\\\\")\n",
    "results_dir = Path(base_dir, \"results\")"
   ]
  },
  {
   "cell_type": "code",
   "execution_count": 129,
   "metadata": {},
   "outputs": [],
   "source": [
    "# create networkanalysis\n",
    "network = RibasimLumpingNetwork(name=network_name)"
   ]
  },
  {
   "cell_type": "code",
   "execution_count": 130,
   "metadata": {},
   "outputs": [],
   "source": [
    "# load areas units (discharge units: afwaterende eenheden)\n",
    "areas_file_path = Path(base_dir, \"afw_eenheden\\\\wrij_afwateringseenheden_clip_Zutphen.shp\")\n",
    "areas_gdf = gpd.read_file(areas_file_path)[[\"geometry\"]]\n",
    "network.areas_gdf = areas_gdf.to_crs(28992)"
   ]
  },
  {
   "cell_type": "code",
   "execution_count": 131,
   "metadata": {},
   "outputs": [
    {
     "name": "stdout",
     "output_type": "stream",
     "text": [
      "Simulation set (winter): tki_zuthpen_berkel_basis.dsproj | Timestamps: 9 | his.nc and map.nc\n",
      "Simulation set (zomer): tki_zuthpen_berkel_basis.dsproj | Timestamps: 9 | his.nc and map.nc\n"
     ]
    }
   ],
   "source": [
    "# add data from simulation sets\n",
    "network.add_data_from_simulations_set(\n",
    "    set_name=\"winter\",\n",
    "    simulations_dir=Path(base_dir, \"d-hydro\\\\\"),\n",
    "    simulations_names=[\"tki_zuthpen_berkel_basis.dsproj\"],\n",
    "    simulations_ts=pd.date_range(\"2000-01-02 23:00\", periods=9, freq=\"2D\"),\n",
    ")\n",
    "network.add_data_from_simulations_set(\n",
    "    set_name=\"zomer\",\n",
    "    simulations_dir=Path(base_dir, \"d-hydro\\\\\"),\n",
    "    simulations_names=[\"tki_zuthpen_berkel_basis.dsproj\"],\n",
    "    simulations_ts=pd.date_range(\"2000-01-02 23:00\", periods=9, freq=\"2D\"),\n",
    ");"
   ]
  },
  {
   "cell_type": "code",
   "execution_count": 132,
   "metadata": {},
   "outputs": [
    {
     "name": "stdout",
     "output_type": "stream",
     "text": [
      "network locations read: nodes/edges/confluences/bifurcations/weirs/pumps/laterals\n"
     ]
    }
   ],
   "source": [
    "# get all network data from the schematisations\n",
    "network.get_network_data()"
   ]
  },
  {
   "cell_type": "code",
   "execution_count": 138,
   "metadata": {},
   "outputs": [],
   "source": [
    "# Define node_ids on which to split\n",
    "# - define types to include\n",
    "split_node_ids = network.get_node_ids_from_type(\n",
    "    bifurcations=False,\n",
    "    confluences=False,\n",
    "    weirs=True,\n",
    "    laterals=False\n",
    ")\n",
    "\n",
    "# - define by node code\n",
    "split_node_ids_to_include = [1452, 2378]\n",
    "\n",
    "# - define which of the node_ids should be excluded\n",
    "split_node_ids_to_exclude = [314]\n",
    "\n",
    "# - combine types of split_node_ids\n",
    "split_node_ids = [node_id for node_id in split_node_ids + split_node_ids_to_include \n",
    "                  if node_id not in split_node_ids_to_exclude]"
   ]
  },
  {
   "cell_type": "code",
   "execution_count": 139,
   "metadata": {},
   "outputs": [],
   "source": [
    "# create basins (gdf) based on nodes, edges, split_node_ids and areas\n",
    "results = network.create_basins_based_on_split_node_ids(split_node_ids=split_node_ids)\n",
    "# export it to geopackage\n",
    "network.export_to_geopackage(output_dir=results_dir)"
   ]
  },
  {
   "cell_type": "code",
   "execution_count": null,
   "metadata": {},
   "outputs": [],
   "source": []
  },
  {
   "cell_type": "code",
   "execution_count": 103,
   "metadata": {},
   "outputs": [],
   "source": [
    "# get split_nodes in geodataframe\n",
    "gpkg_path = Path(results_dir, network_name, 'ribasim_project.gpkg')\n",
    "split_nodes_gdf = gpd.read_file(gpkg_path, layer='split_nodes')"
   ]
  },
  {
   "cell_type": "code",
   "execution_count": 104,
   "metadata": {},
   "outputs": [],
   "source": [
    "# create basins (gdf) based on nodes, edges, split_node_ids and areas\n",
    "results = network.create_basins_based_on_split_node_gdf(split_node_gdf=split_nodes_gdf)\n",
    "# export it to geopackage\n",
    "network.export_to_geopackage(output_dir=results_dir)"
   ]
  },
  {
   "cell_type": "code",
   "execution_count": null,
   "metadata": {},
   "outputs": [],
   "source": []
  },
  {
   "cell_type": "code",
   "execution_count": null,
   "metadata": {},
   "outputs": [],
   "source": []
  },
  {
   "cell_type": "code",
   "execution_count": null,
   "metadata": {},
   "outputs": [],
   "source": []
  }
 ],
 "metadata": {
  "kernelspec": {
   "display_name": "ribasim",
   "language": "python",
   "name": "python3"
  },
  "language_info": {
   "codemirror_mode": {
    "name": "ipython",
    "version": 3
   },
   "file_extension": ".py",
   "mimetype": "text/x-python",
   "name": "python",
   "nbconvert_exporter": "python",
   "pygments_lexer": "ipython3",
   "version": "3.10.0"
  }
 },
 "nbformat": 4,
 "nbformat_minor": 4
}
