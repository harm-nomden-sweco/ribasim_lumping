{
 "cells": [
  {
   "cell_type": "code",
   "execution_count": null,
   "metadata": {},
   "outputs": [],
   "source": [
    "import sys\n",
    "from pathlib import Path\n",
    "\n",
    "sys.path.append(\"..\")\n",
    "from ribasim_lumping import create_ribasim_lumping_network\n",
    "\n",
    "import pandas as pd\n",
    "import geopandas as gpd\n",
    "\n",
    "from numba.core.errors import NumbaDeprecationWarning\n",
    "import warnings\n",
    "\n",
    "warnings.simplefilter(\"ignore\", category=NumbaDeprecationWarning)\n",
    "warnings.simplefilter(\"ignore\", UserWarning)\n",
    "\n",
    "import networkx as nx"
   ]
  },
  {
   "cell_type": "code",
   "execution_count": null,
   "metadata": {},
   "outputs": [],
   "source": [
    "%load_ext autoreload\n",
    "%autoreload 2"
   ]
  },
  {
   "cell_type": "code",
   "execution_count": null,
   "metadata": {},
   "outputs": [],
   "source": [
    "# Define base_dir, results_dir and network name\n",
    "base_dir = Path(\"..\\\\..\\\\ribasim_lumping_data\\\\\")\n",
    "dhydro_dir = Path(base_dir, \"d-hydro\")\n",
    "results_dir = Path(base_dir, \"results\")\n",
    "network_name = \"tki_zutphen_berkel\""
   ]
  },
  {
   "cell_type": "code",
   "execution_count": null,
   "metadata": {},
   "outputs": [],
   "source": [
    "# Load areas (discharge units: afwaterende eenheden)\n",
    "areas_file_path = Path(base_dir, \"afw_eenheden\", f\"{network_name}_afw_eenheden.shp\")\n",
    "areas_gdf = gpd.read_file(areas_file_path)\n",
    "areas_gdf = areas_gdf[['GFEIDENT', 'geometry']]"
   ]
  },
  {
   "cell_type": "code",
   "execution_count": null,
   "metadata": {},
   "outputs": [],
   "source": [
    "# Create networkanalysis\n",
    "network = create_ribasim_lumping_network(\n",
    "    name=network_name, \n",
    "    dhydro_dir=dhydro_dir,\n",
    "    results_dir=results_dir,\n",
    "    areas_gdf=areas_gdf,\n",
    ")\n",
    "# network.export_to_geopackage()"
   ]
  },
  {
   "cell_type": "code",
   "execution_count": null,
   "metadata": {},
   "outputs": [],
   "source": [
    "# Add simulation sets for winter, summer, etc.\n",
    "network.add_data_from_simulations_set(\n",
    "    set_name=\"winter\",\n",
    "    simulations_dir=dhydro_dir,\n",
    "    simulations_names=[\"tki_zuthpen_berkel_basis.dsproj_data\"],\n",
    "    simulations_output_dir=\"FlowFM\\\\output\",\n",
    "    simulations_ts=pd.date_range(\"2000-01-02 23:00\", periods=9, freq=\"6D\"),\n",
    ");"
   ]
  },
  {
   "cell_type": "code",
   "execution_count": null,
   "metadata": {},
   "outputs": [],
   "source": [
    "# Read network data and extract all objects (weirs/pumps/laterals/confluences/bifurcations)\n",
    "network.get_network_data()\n",
    "# network.export_to_geopackage()"
   ]
  },
  {
   "attachments": {},
   "cell_type": "markdown",
   "metadata": {},
   "source": [
    "De nieuwe functie - inlezen vanuit de input bestanden"
   ]
  },
  {
   "cell_type": "code",
   "execution_count": null,
   "metadata": {},
   "outputs": [],
   "source": [
    "\n",
    "# Read network data and extract all objects (weirs/pumps/laterals/confluences/bifurcations)\n",
    "network.add_network_full_data()\n",
    "# network.export_to_geopackage()"
   ]
  },
  {
   "cell_type": "code",
   "execution_count": null,
   "metadata": {},
   "outputs": [],
   "source": [
    "network.pumps_gdf"
   ]
  },
  {
   "cell_type": "code",
   "execution_count": null,
   "metadata": {},
   "outputs": [],
   "source": [
    "network.nodes_gdf.plot()"
   ]
  },
  {
   "cell_type": "code",
   "execution_count": null,
   "metadata": {},
   "outputs": [],
   "source": [
    "network.edges_gdf"
   ]
  },
  {
   "cell_type": "code",
   "execution_count": null,
   "metadata": {},
   "outputs": [],
   "source": [
    "network.branches_gdf"
   ]
  },
  {
   "attachments": {},
   "cell_type": "markdown",
   "metadata": {},
   "source": [
    "TEST branches op chainage opknippen (nodig omdat de structures op basis van branch id en chainage in de data zitten)"
   ]
  },
  {
   "cell_type": "code",
   "execution_count": null,
   "metadata": {},
   "outputs": [],
   "source": [
    "# ik kan online geen functies vinden die op basis van chainage langs een lijn kunnen werken. \n",
    "# wel vond ik een voorbeeld van een lijn die opgeknipt wordt op een bepaalde afstand. \n",
    "# Wellicht kunnen we die gebruiken en dan de branch opknippen op de afstand uit de chainage. \n",
    "# En dan van die afgeknipte lijn het eindpunt nemen om tot het punt (de structure op die chainage) te komen. \n",
    "# voorbeeld script dat ik tegenkwam op https://www.linkedin.com/pulse/splitting-polyline-eq-dist-segments-python-chonghua-yin/\n",
    "\n",
    "from shapely.geometry import LineString, Point, Polygon, MultiLineString\n",
    "def cut(line, distance, lines):\n",
    "    # Cuts a line in several segments at a distance from its starting point\n",
    "    if distance <= 0.0 or distance >= line.length:\n",
    "            return [LineString(line)]\n",
    "    coords = list(line.coords)\n",
    "    for i, p in enumerate(coords):\n",
    "        pd = line.project(Point(p))\n",
    "        if pd == distance:\n",
    "                return [\n",
    "                    LineString(coords[:i+1]),\n",
    "                    LineString(coords[i:])\n",
    "                ]\n",
    "        if pd > distance:\n",
    "                cp = line.interpolate(distance)\n",
    "                lines.append(LineString(coords[:i] + [(cp.x, cp.y)]))\n",
    "                line = LineString([(cp.x, cp.y)] + coords[i:])\n",
    "                if line.length > distance:\n",
    "                    cut(line, distance, lines)\n",
    "                else:\n",
    "                    lines.append(LineString([(cp.x, cp.y)] + coords[i:]))\n",
    "                return lines"
   ]
  },
  {
   "cell_type": "code",
   "execution_count": null,
   "metadata": {},
   "outputs": [],
   "source": [
    "test_lijn = network.branches_gdf['geometry'][0]\n",
    "test_lijn.length"
   ]
  },
  {
   "cell_type": "code",
   "execution_count": null,
   "metadata": {},
   "outputs": [],
   "source": [
    "test_lijn_cut = cut(test_lijn, 10.0, list())[0]\n",
    "test_lijn_cut"
   ]
  },
  {
   "cell_type": "code",
   "execution_count": null,
   "metadata": {},
   "outputs": [],
   "source": [
    "test_lijn_cut.length"
   ]
  },
  {
   "attachments": {},
   "cell_type": "markdown",
   "metadata": {},
   "source": [
    "verder met splitnodes en ribasim"
   ]
  },
  {
   "cell_type": "code",
   "execution_count": null,
   "metadata": {},
   "outputs": [],
   "source": [
    "# Define locations where the network should be split into Ribasim basins:\n",
    "network.add_split_nodes(weirs=True);"
   ]
  },
  {
   "cell_type": "code",
   "execution_count": null,
   "metadata": {},
   "outputs": [],
   "source": [
    "# Create basins (gdf) based on nodes, edges, split_node_ids and areas\n",
    "network.create_basins_and_connections_based_on_split_nodes();\n",
    "# Export to geopackage\n",
    "network.export_to_geopackage()"
   ]
  },
  {
   "cell_type": "code",
   "execution_count": null,
   "metadata": {},
   "outputs": [],
   "source": [
    "# Define locations where the network should be split into Ribasim basins:\n",
    "network.add_split_nodes(\n",
    "    weirs=True,\n",
    "    pumps=True,\n",
    "    uniweirs=True,\n",
    "    edges=False,\n",
    "    structures_ids_to_include=[\n",
    "        'kdu_DR80760025', # duiker vispassage bovenstrooms\n",
    "        'kst_ST80830001', 'kst_ST80810015', # onderdoorlaten bij verdeelpunt De Berkel (Zutphen)\n",
    "        'kdu_DR84930010', # duiker met terugslagklep Zutphen Noorderhaven (parallel aan gemaal)\n",
    "        'kdu_DR80950033', # duikers voor wijk Leesten\n",
    "        'kdu_DR80940046', 'kdu_DR80950043', 'kdu_DR80950151', # duikers voor wijk Zuidwijken\n",
    "        'kdu_DR80950103',\n",
    "        'kdu_DR80740070', # inlaat twentekanaal\n",
    "    ], \n",
    "    structures_ids_to_exclude=[\n",
    "        'BCAL_3', 'BCAL_11', # stuwen voor hoogwaterafvoer De Berkel\n",
    "        'BBypass_Besselink_1', 'BBypass_Besselink_2', 'BBypass_Besselink_3', 'BBypass_Besselink_4', 'BBypass_Besselink_5', # visdrempels vispassage De Berkel\n",
    "        'kst_ST80950035', # verwarrende stuw ivm afwaterende eenheid (Zutphen: Leesten)\n",
    "        'kst_ST84930001', # verwarrende stuw ivm afwaterende eenheid (Zutphen: Noorderhaven)\n",
    "        'kst_ST80830045', # weir tussen uitstroompunten Zutphen\n",
    "    ], \n",
    "    edge_ids_to_include=[],\n",
    "    node_ids_to_include=[\n",
    "        1784, 2542 # splitsing afleidingskanaal\n",
    "    ],\n",
    "    node_ids_to_exclude=[],\n",
    ");"
   ]
  },
  {
   "cell_type": "code",
   "execution_count": null,
   "metadata": {},
   "outputs": [],
   "source": [
    "# Create basins (gdf) based on nodes, edges, split_node_ids and areas\n",
    "network.create_basins_and_connections_based_on_split_nodes();\n",
    "# Export to geopackage\n",
    "network.export_to_geopackage()"
   ]
  },
  {
   "cell_type": "code",
   "execution_count": null,
   "metadata": {},
   "outputs": [],
   "source": [
    "# specify translation split_nodes to ribasim-nodes per type\n",
    "split_node_type_conversion = {\n",
    "    'weir': 'TabulatedRatingCurve', \n",
    "    'uniweir': 'TabulatedRatingCurve' ,\n",
    "    'pump': 'Pump', \n",
    "    'culvert': 'TabulatedRatingCurve', \n",
    "    'manual': 'ManningResistance',\n",
    "    'orifice' : 'TabulatedRatingCurve',\n",
    "    'edge': 'ManningResistance',\n",
    "}\n",
    "# specify translation for specific split_nodes to ribasim-nodes\n",
    "split_node_id_conversion = {\n",
    "    'sto_AE80770024': 'ManningResistance', \n",
    "    'kdu_DR80740070': 'ManningResistance',\n",
    "    # duikers voor wijk Zuidwijken\n",
    "    'kdu_DR80940046': 'ManningResistance', \n",
    "    'kdu_DR80950043': 'ManningResistance', \n",
    "    'kdu_DR80950151': 'ManningResistance', \n",
    "}"
   ]
  },
  {
   "cell_type": "code",
   "execution_count": null,
   "metadata": {},
   "outputs": [],
   "source": [
    "# Generate Ribasim model en exporteer naar geopackage\n",
    "ribasim_model = network.generate_ribasim_model(\n",
    "    split_node_type_conversion=split_node_type_conversion, \n",
    "    split_node_id_conversion=split_node_id_conversion\n",
    ")\n",
    "ribasim_model.write(f\"{results_dir}/{network.name}\")"
   ]
  },
  {
   "cell_type": "code",
   "execution_count": null,
   "metadata": {},
   "outputs": [],
   "source": []
  },
  {
   "cell_type": "code",
   "execution_count": null,
   "metadata": {},
   "outputs": [],
   "source": []
  }
 ],
 "metadata": {
  "kernelspec": {
   "display_name": "ribasim",
   "language": "python",
   "name": "python3"
  },
  "language_info": {
   "codemirror_mode": {
    "name": "ipython",
    "version": 3
   },
   "file_extension": ".py",
   "mimetype": "text/x-python",
   "name": "python",
   "nbconvert_exporter": "python",
   "pygments_lexer": "ipython3",
   "version": "3.11.0"
  },
  "vscode": {
   "interpreter": {
    "hash": "dfc666eb4a62d5826d85bcfe032d59ef4dfc699941e19e14832498fb495ee494"
   }
  }
 },
 "nbformat": 4,
 "nbformat_minor": 4
}
